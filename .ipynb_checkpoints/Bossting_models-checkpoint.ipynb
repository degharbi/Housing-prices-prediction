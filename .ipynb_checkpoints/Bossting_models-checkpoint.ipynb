{
 "cells": [
  {
   "cell_type": "markdown",
   "metadata": {},
   "source": [
    "# Modeles de Gradient boosting "
   ]
  },
  {
   "cell_type": "code",
   "execution_count": 91,
   "metadata": {},
   "outputs": [
    {
     "data": {
      "text/html": [
       "<script type=\"text/javascript\">window.PlotlyConfig = {MathJaxConfig: 'local'};</script><script type=\"text/javascript\">if (window.MathJax) {MathJax.Hub.Config({SVG: {font: \"STIX-Web\"}});}</script><script>requirejs.config({paths: { 'plotly': ['https://cdn.plot.ly/plotly-latest.min']},});if(!window._Plotly) {require(['plotly'],function(plotly) {window._Plotly=plotly;});}</script>"
      ],
      "text/vnd.plotly.v1+html": [
       "<script type=\"text/javascript\">window.PlotlyConfig = {MathJaxConfig: 'local'};</script><script type=\"text/javascript\">if (window.MathJax) {MathJax.Hub.Config({SVG: {font: \"STIX-Web\"}});}</script><script>requirejs.config({paths: { 'plotly': ['https://cdn.plot.ly/plotly-latest.min']},});if(!window._Plotly) {require(['plotly'],function(plotly) {window._Plotly=plotly;});}</script>"
      ]
     },
     "metadata": {},
     "output_type": "display_data"
    }
   ],
   "source": [
    "import plotly.offline as py\n",
    "import plotly.graph_objs as go\n",
    "import pandas as pd\n",
    "import cufflinks as cf\n",
    "import pandas as pd\n",
    "import numpy as np\n",
    "py.init_notebook_mode(connected=True)\n",
    "cf.set_config_file(offline=False, world_readable=True, theme='ggplot')"
   ]
  },
  {
   "cell_type": "code",
   "execution_count": 133,
   "metadata": {},
   "outputs": [],
   "source": [
    "def plot_optimisation(train, test, parameter, parameter_name):\n",
    "    train_trace = go.Scatter(\n",
    "        x = train,\n",
    "        y = parameter,\n",
    "        mode = 'lines',\n",
    "        name = 'train_scores'\n",
    "    )\n",
    "    test_trace = go.Scatter(\n",
    "        x = test,\n",
    "        y = parameter,\n",
    "        mode = 'lines',\n",
    "        name = 'test_scores'\n",
    "    )\n",
    "\n",
    "    data = [train_trace, test_trace]\n",
    "\n",
    "    layout= go.Layout(\n",
    "        title= 'Train et Test scores en fonction du '+parameter_name,\n",
    "        xaxis= dict(title= 'Scores'),\n",
    "        yaxis=dict(title= parameter_name),\n",
    "        showlegend= True\n",
    "    )\n",
    "    fig= go.Figure(data=data, layout=layout)\n",
    "    py.iplot(fig)    "
   ]
  },
  {
   "cell_type": "code",
   "execution_count": 151,
   "metadata": {},
   "outputs": [
    {
     "data": {
      "application/vnd.plotly.v1+json": {
       "config": {
        "linkText": "Export to plot.ly",
        "plotlyServerURL": "https://plot.ly",
        "showLink": true
       },
       "data": [
        {
         "mode": "lines",
         "name": "train_scores",
         "type": "scatter",
         "uid": "be30eff2-bf93-4f52-b2a8-12628882c4c0",
         "x": [
          0.85,
          0.95,
          1
         ],
         "y": [
          1,
          2,
          3
         ]
        },
        {
         "mode": "lines",
         "name": "test_scores",
         "type": "scatter",
         "uid": "af57b9bb-6b28-46a6-b6c2-7d3bc91d4f20",
         "x": [
          0.8,
          0.9,
          1
         ],
         "y": [
          1,
          2,
          3
         ]
        }
       ],
       "layout": {
        "showlegend": true,
        "title": "Train et Test scores en fonction du test2",
        "xaxis": {
         "title": "Scores"
        },
        "yaxis": {
         "title": "test2"
        }
       }
      },
      "text/html": [
       "<div id=\"54ad0a5d-443e-46dc-a084-ccfd323bc145\" style=\"height: 525px; width: 100%;\" class=\"plotly-graph-div\"></div><script type=\"text/javascript\">require([\"plotly\"], function(Plotly) { window.PLOTLYENV=window.PLOTLYENV || {};window.PLOTLYENV.BASE_URL=\"https://plot.ly\";Plotly.newPlot(\"54ad0a5d-443e-46dc-a084-ccfd323bc145\", [{\"mode\": \"lines\", \"name\": \"train_scores\", \"x\": [0.85, 0.95, 1], \"y\": [1, 2, 3], \"type\": \"scatter\", \"uid\": \"be30eff2-bf93-4f52-b2a8-12628882c4c0\"}, {\"mode\": \"lines\", \"name\": \"test_scores\", \"x\": [0.8, 0.9, 1], \"y\": [1, 2, 3], \"type\": \"scatter\", \"uid\": \"af57b9bb-6b28-46a6-b6c2-7d3bc91d4f20\"}], {\"showlegend\": true, \"title\": \"Train et Test scores en fonction du test2\", \"xaxis\": {\"title\": \"Scores\"}, \"yaxis\": {\"title\": \"test2\"}}, {\"showLink\": true, \"linkText\": \"Export to plot.ly\", \"plotlyServerURL\": \"https://plot.ly\"})});</script><script type=\"text/javascript\">window.addEventListener(\"resize\", function(){window._Plotly.Plots.resize(document.getElementById(\"54ad0a5d-443e-46dc-a084-ccfd323bc145\"));});</script>"
      ],
      "text/vnd.plotly.v1+html": [
       "<div id=\"54ad0a5d-443e-46dc-a084-ccfd323bc145\" style=\"height: 525px; width: 100%;\" class=\"plotly-graph-div\"></div><script type=\"text/javascript\">require([\"plotly\"], function(Plotly) { window.PLOTLYENV=window.PLOTLYENV || {};window.PLOTLYENV.BASE_URL=\"https://plot.ly\";Plotly.newPlot(\"54ad0a5d-443e-46dc-a084-ccfd323bc145\", [{\"mode\": \"lines\", \"name\": \"train_scores\", \"x\": [0.85, 0.95, 1], \"y\": [1, 2, 3], \"type\": \"scatter\", \"uid\": \"be30eff2-bf93-4f52-b2a8-12628882c4c0\"}, {\"mode\": \"lines\", \"name\": \"test_scores\", \"x\": [0.8, 0.9, 1], \"y\": [1, 2, 3], \"type\": \"scatter\", \"uid\": \"af57b9bb-6b28-46a6-b6c2-7d3bc91d4f20\"}], {\"showlegend\": true, \"title\": \"Train et Test scores en fonction du test2\", \"xaxis\": {\"title\": \"Scores\"}, \"yaxis\": {\"title\": \"test2\"}}, {\"showLink\": true, \"linkText\": \"Export to plot.ly\", \"plotlyServerURL\": \"https://plot.ly\"})});</script><script type=\"text/javascript\">window.addEventListener(\"resize\", function(){window._Plotly.Plots.resize(document.getElementById(\"54ad0a5d-443e-46dc-a084-ccfd323bc145\"));});</script>"
      ]
     },
     "metadata": {},
     "output_type": "display_data"
    }
   ],
   "source": [
    "plot_optimisation([0.85, 0.95, 1], [0.8, 0.9, 1], [1,2,3], 'test2')"
   ]
  },
  {
   "cell_type": "code",
   "execution_count": 8,
   "metadata": {},
   "outputs": [],
   "source": [
    "import pandas as pd\n",
    "raw = pd.read_csv('data/kc_house_data.csv')\n",
    "raw[['floors', 'zipcode']] = pd.DataFrame(\n",
    "    {\n",
    "        'floors': [floor.replace(\"'\",\"\") for floor in raw.floors.values],\n",
    "        'zipcode': [code.replace(\"'\",\"\") for code in raw.zipcode.values]\n",
    "    }, dtype='float32')\n",
    "raw['date'] = pd.to_datetime(raw['date'])\n",
    "raw['month'] = pd.DatetimeIndex(raw.loc[:,'date']).month\n",
    "raw['year'] = pd.DatetimeIndex(raw.loc[:,'date']).year\n",
    "raw['day'] = pd.DatetimeIndex(raw.loc[:,'date']).day\n",
    "raw = raw[['id',\n",
    " 'price',\n",
    " 'date',\n",
    " 'year',\n",
    " 'month',\n",
    " 'day',\n",
    " 'bedrooms',\n",
    " 'bathrooms',\n",
    " 'sqft_living',\n",
    " 'sqft_lot',\n",
    " 'floors',\n",
    " 'waterfront',\n",
    " 'view',\n",
    " 'condition',\n",
    " 'grade',\n",
    " 'sqft_above',\n",
    " 'sqft_basement',\n",
    " 'yr_built',\n",
    " 'yr_renovated',\n",
    " 'zipcode',\n",
    " 'lat',\n",
    " 'long',\n",
    " 'sqft_living15',\n",
    " 'sqft_lot15',\n",
    "]]\n",
    "data = {\n",
    "    feature: raw[feature].values for feature in raw.columns[3:]\n",
    "}\n",
    "\n",
    "X = pd.DataFrame(\n",
    "    data=data,\n",
    "    index=raw['id'].values, \n",
    ")\n",
    "y = pd.DataFrame(\n",
    "    raw.price.values,\n",
    "    columns=['price'],\n",
    "    index=raw['id'].values, \n",
    ")"
   ]
  },
  {
   "cell_type": "code",
   "execution_count": 9,
   "metadata": {},
   "outputs": [],
   "source": [
    "from sklearn.model_selection import train_test_split\n",
    "X_train, X_test, y_train, y_test = train_test_split(X, y,test_size=0.33, random_state=0)"
   ]
  },
  {
   "cell_type": "markdown",
   "metadata": {},
   "source": [
    "## AdaBoost"
   ]
  },
  {
   "cell_type": "code",
   "execution_count": 12,
   "metadata": {},
   "outputs": [
    {
     "name": "stderr",
     "output_type": "stream",
     "text": [
      "/home/djamel/.local/lib/python3.6/site-packages/sklearn/utils/validation.py:752: DataConversionWarning: A column-vector y was passed when a 1d array was expected. Please change the shape of y to (n_samples, ), for example using ravel().\n",
      "  y = column_or_1d(y, warn=True)\n"
     ]
    },
    {
     "name": "stdout",
     "output_type": "stream",
     "text": [
      "Train score : 0.39465\tTest score : 0.38879\n"
     ]
    }
   ],
   "source": [
    "import numpy as np\n",
    "import matplotlib.pyplot as plt\n",
    "from sklearn.tree import DecisionTreeRegressor\n",
    "from sklearn.ensemble import AdaBoostRegressor\n",
    "\n",
    "# Create the dataset\n",
    "rng = np.random.RandomState(1)\n",
    "\n",
    "reg = AdaBoostRegressor(DecisionTreeRegressor(max_depth=4),\n",
    "                          n_estimators=300, random_state=rng)\n",
    "reg.fit(X_train, y_train)\n",
    "\n",
    "train_score = reg.score(X_train, y_train)\n",
    "test_score = reg.score(X_test, y_test)\n",
    "\n",
    "print('Train score : {}\\tTest score : {}'\n",
    "      .format(round(train_score,5), round(test_score,5)))"
   ]
  },
  {
   "cell_type": "markdown",
   "metadata": {},
   "source": [
    "## Gradient Tree Boosting"
   ]
  },
  {
   "cell_type": "markdown",
   "metadata": {},
   "source": [
    "### Selection de la meilleure fonction cout"
   ]
  },
  {
   "cell_type": "code",
   "execution_count": 155,
   "metadata": {},
   "outputs": [
    {
     "data": {
      "application/vnd.plotly.v1+json": {
       "config": {
        "linkText": "Export to plot.ly",
        "plotlyServerURL": "https://plot.ly",
        "showLink": true
       },
       "data": [
        {
         "mode": "lines",
         "name": "train_scores",
         "type": "scatter",
         "uid": "ec9eebfa-fbe9-44e7-b87c-bc732488b633",
         "x": [
          0.902562,
          0.792786,
          0.869073,
          0.756102
         ],
         "y": [
          10,
          50,
          100,
          500,
          1000
         ]
        },
        {
         "mode": "lines",
         "name": "test_scores",
         "type": "scatter",
         "uid": "e91fa076-672c-4b15-82fb-b112343f3e16",
         "x": [
          0.843449,
          0.732701,
          0.805467,
          0.726826
         ],
         "y": [
          10,
          50,
          100,
          500,
          1000
         ]
        }
       ],
       "layout": {
        "showlegend": true,
        "title": "Train et Test scores en fonction du loss_function",
        "xaxis": {
         "title": "Scores"
        },
        "yaxis": {
         "title": "loss_function"
        }
       }
      },
      "text/html": [
       "<div id=\"d7a340db-6395-4214-87cc-40516cfaca71\" style=\"height: 525px; width: 100%;\" class=\"plotly-graph-div\"></div><script type=\"text/javascript\">require([\"plotly\"], function(Plotly) { window.PLOTLYENV=window.PLOTLYENV || {};window.PLOTLYENV.BASE_URL=\"https://plot.ly\";Plotly.newPlot(\"d7a340db-6395-4214-87cc-40516cfaca71\", [{\"mode\": \"lines\", \"name\": \"train_scores\", \"x\": [0.902562, 0.792786, 0.869073, 0.756102], \"y\": [10, 50, 100, 500, 1000], \"type\": \"scatter\", \"uid\": \"ec9eebfa-fbe9-44e7-b87c-bc732488b633\"}, {\"mode\": \"lines\", \"name\": \"test_scores\", \"x\": [0.843449, 0.732701, 0.805467, 0.726826], \"y\": [10, 50, 100, 500, 1000], \"type\": \"scatter\", \"uid\": \"e91fa076-672c-4b15-82fb-b112343f3e16\"}], {\"showlegend\": true, \"title\": \"Train et Test scores en fonction du loss_function\", \"xaxis\": {\"title\": \"Scores\"}, \"yaxis\": {\"title\": \"loss_function\"}}, {\"showLink\": true, \"linkText\": \"Export to plot.ly\", \"plotlyServerURL\": \"https://plot.ly\"})});</script><script type=\"text/javascript\">window.addEventListener(\"resize\", function(){window._Plotly.Plots.resize(document.getElementById(\"d7a340db-6395-4214-87cc-40516cfaca71\"));});</script>"
      ],
      "text/vnd.plotly.v1+html": [
       "<div id=\"d7a340db-6395-4214-87cc-40516cfaca71\" style=\"height: 525px; width: 100%;\" class=\"plotly-graph-div\"></div><script type=\"text/javascript\">require([\"plotly\"], function(Plotly) { window.PLOTLYENV=window.PLOTLYENV || {};window.PLOTLYENV.BASE_URL=\"https://plot.ly\";Plotly.newPlot(\"d7a340db-6395-4214-87cc-40516cfaca71\", [{\"mode\": \"lines\", \"name\": \"train_scores\", \"x\": [0.902562, 0.792786, 0.869073, 0.756102], \"y\": [10, 50, 100, 500, 1000], \"type\": \"scatter\", \"uid\": \"ec9eebfa-fbe9-44e7-b87c-bc732488b633\"}, {\"mode\": \"lines\", \"name\": \"test_scores\", \"x\": [0.843449, 0.732701, 0.805467, 0.726826], \"y\": [10, 50, 100, 500, 1000], \"type\": \"scatter\", \"uid\": \"e91fa076-672c-4b15-82fb-b112343f3e16\"}], {\"showlegend\": true, \"title\": \"Train et Test scores en fonction du loss_function\", \"xaxis\": {\"title\": \"Scores\"}, \"yaxis\": {\"title\": \"loss_function\"}}, {\"showLink\": true, \"linkText\": \"Export to plot.ly\", \"plotlyServerURL\": \"https://plot.ly\"})});</script><script type=\"text/javascript\">window.addEventListener(\"resize\", function(){window._Plotly.Plots.resize(document.getElementById(\"d7a340db-6395-4214-87cc-40516cfaca71\"));});</script>"
      ]
     },
     "metadata": {},
     "output_type": "display_data"
    }
   ],
   "source": [
    "import numpy as np\n",
    "import matplotlib.pyplot as plt\n",
    "\n",
    "from sklearn import ensemble\n",
    "from sklearn.utils import shuffle\n",
    "from sklearn.metrics import mean_squared_error\n",
    "\n",
    "# Fit regression model\n",
    "loss_functions = ['ls', 'lad', 'huber', 'quantile']\n",
    "train_scores =[]\n",
    "test_scores=[]\n",
    "\n",
    "for fct in loss_functions:\n",
    "    params = {'n_estimators': 500, 'max_depth': 4, 'min_samples_split': 2,\n",
    "              'learning_rate': 0.01, 'loss': fct}\n",
    "\n",
    "    reg = ensemble.GradientBoostingRegressor(**params)\n",
    "\n",
    "    reg.fit(X_train, y_train.price.values)\n",
    "\n",
    "    train_score = reg.score(X_train, y_train.price.values)\n",
    "    test_score = reg.score(X_test, y_test.price.values)\n",
    "    train_scores.append(round(train_score, 6))        \n",
    "    test_scores.append(round(test_score, 6))        \n",
    "\n",
    "plot_optimisation(train_scores, test_scores, n_estimators, 'loss_function') "
   ]
  },
  {
   "cell_type": "markdown",
   "metadata": {},
   "source": [
    "### Selection du meilleur nombre d'iteration"
   ]
  },
  {
   "cell_type": "code",
   "execution_count": 154,
   "metadata": {
    "scrolled": false
   },
   "outputs": [
    {
     "data": {
      "application/vnd.plotly.v1+json": {
       "config": {
        "linkText": "Export to plot.ly",
        "plotlyServerURL": "https://plot.ly",
        "showLink": true
       },
       "data": [
        {
         "mode": "lines",
         "name": "train_scores",
         "type": "scatter",
         "uid": "1b5bae75-b605-4777-9e19-958d3fe01909",
         "x": [
          0.1261,
          0.461491,
          0.666452,
          0.902562,
          0.926031
         ],
         "y": [
          10,
          50,
          100,
          500,
          1000
         ]
        },
        {
         "mode": "lines",
         "name": "test_scores",
         "type": "scatter",
         "uid": "58d14a67-605a-4f78-88ec-aa1daf7d9164",
         "x": [
          0.11197,
          0.41916,
          0.607957,
          0.843442,
          0.864719
         ],
         "y": [
          10,
          50,
          100,
          500,
          1000
         ]
        }
       ],
       "layout": {
        "showlegend": true,
        "title": "Train et Test scores en fonction du n_estimators",
        "xaxis": {
         "title": "Scores"
        },
        "yaxis": {
         "title": "n_estimators"
        }
       }
      },
      "text/html": [
       "<div id=\"ba53440c-c7f3-4bb5-bfec-b8a7e9bb91e4\" style=\"height: 525px; width: 100%;\" class=\"plotly-graph-div\"></div><script type=\"text/javascript\">require([\"plotly\"], function(Plotly) { window.PLOTLYENV=window.PLOTLYENV || {};window.PLOTLYENV.BASE_URL=\"https://plot.ly\";Plotly.newPlot(\"ba53440c-c7f3-4bb5-bfec-b8a7e9bb91e4\", [{\"mode\": \"lines\", \"name\": \"train_scores\", \"x\": [0.1261, 0.461491, 0.666452, 0.902562, 0.926031], \"y\": [10, 50, 100, 500, 1000], \"type\": \"scatter\", \"uid\": \"1b5bae75-b605-4777-9e19-958d3fe01909\"}, {\"mode\": \"lines\", \"name\": \"test_scores\", \"x\": [0.11197, 0.41916, 0.607957, 0.843442, 0.864719], \"y\": [10, 50, 100, 500, 1000], \"type\": \"scatter\", \"uid\": \"58d14a67-605a-4f78-88ec-aa1daf7d9164\"}], {\"showlegend\": true, \"title\": \"Train et Test scores en fonction du n_estimators\", \"xaxis\": {\"title\": \"Scores\"}, \"yaxis\": {\"title\": \"n_estimators\"}}, {\"showLink\": true, \"linkText\": \"Export to plot.ly\", \"plotlyServerURL\": \"https://plot.ly\"})});</script><script type=\"text/javascript\">window.addEventListener(\"resize\", function(){window._Plotly.Plots.resize(document.getElementById(\"ba53440c-c7f3-4bb5-bfec-b8a7e9bb91e4\"));});</script>"
      ],
      "text/vnd.plotly.v1+html": [
       "<div id=\"ba53440c-c7f3-4bb5-bfec-b8a7e9bb91e4\" style=\"height: 525px; width: 100%;\" class=\"plotly-graph-div\"></div><script type=\"text/javascript\">require([\"plotly\"], function(Plotly) { window.PLOTLYENV=window.PLOTLYENV || {};window.PLOTLYENV.BASE_URL=\"https://plot.ly\";Plotly.newPlot(\"ba53440c-c7f3-4bb5-bfec-b8a7e9bb91e4\", [{\"mode\": \"lines\", \"name\": \"train_scores\", \"x\": [0.1261, 0.461491, 0.666452, 0.902562, 0.926031], \"y\": [10, 50, 100, 500, 1000], \"type\": \"scatter\", \"uid\": \"1b5bae75-b605-4777-9e19-958d3fe01909\"}, {\"mode\": \"lines\", \"name\": \"test_scores\", \"x\": [0.11197, 0.41916, 0.607957, 0.843442, 0.864719], \"y\": [10, 50, 100, 500, 1000], \"type\": \"scatter\", \"uid\": \"58d14a67-605a-4f78-88ec-aa1daf7d9164\"}], {\"showlegend\": true, \"title\": \"Train et Test scores en fonction du n_estimators\", \"xaxis\": {\"title\": \"Scores\"}, \"yaxis\": {\"title\": \"n_estimators\"}}, {\"showLink\": true, \"linkText\": \"Export to plot.ly\", \"plotlyServerURL\": \"https://plot.ly\"})});</script><script type=\"text/javascript\">window.addEventListener(\"resize\", function(){window._Plotly.Plots.resize(document.getElementById(\"ba53440c-c7f3-4bb5-bfec-b8a7e9bb91e4\"));});</script>"
      ]
     },
     "metadata": {},
     "output_type": "display_data"
    }
   ],
   "source": [
    "n_estimators =[]\n",
    "train_scores =[]\n",
    "test_scores=[]\n",
    "\n",
    "for n in [10, 50, 100, 500, 1000]:\n",
    "    params = {'n_estimators': n, 'max_depth': 4, 'min_samples_split': 2,\n",
    "              'learning_rate': 0.01, 'loss': 'ls'}\n",
    "\n",
    "    reg = ensemble.GradientBoostingRegressor(**params)\n",
    "\n",
    "    reg.fit(X_train, y_train.price.values)\n",
    "\n",
    "    train_score = reg.score(X_train, y_train.price.values)\n",
    "    test_score = reg.score(X_test, y_test.price.values)\n",
    "    n_estimators.append(n)\n",
    "    train_scores.append(round(train_score, 6))        \n",
    "    test_scores.append(round(test_score, 6))        \n",
    "\n",
    "plot_optimisation(train_scores, test_scores, n_estimators, 'n_estimators') "
   ]
  },
  {
   "cell_type": "code",
   "execution_count": 159,
   "metadata": {},
   "outputs": [
    {
     "data": {
      "application/vnd.plotly.v1+json": {
       "config": {
        "linkText": "Export to plot.ly",
        "plotlyServerURL": "https://plot.ly",
        "showLink": true
       },
       "data": [
        {
         "mode": "lines",
         "name": "train_scores",
         "type": "scatter",
         "uid": "f79fb384-d480-4009-9e27-e68d680e6eb4",
         "x": [
          0.8179973789367251,
          0.8179503107109738,
          0.8179503107109738,
          0.818020526562256,
          0.818020526562256,
          0.8176521395259915,
          0.8176521395259915,
          0.8175601121332755
         ],
         "y": [
          2,
          3,
          4,
          5,
          6,
          7,
          8,
          9
         ]
        },
        {
         "mode": "lines",
         "name": "test_scores",
         "type": "scatter",
         "uid": "dcc09aa7-3e7f-4335-82e1-db112db30f9d",
         "x": [
          0.7539516341780449,
          0.7538362903937532,
          0.7538937462967061,
          0.7537923052556322,
          0.753437897031406,
          0.7532146180132253,
          0.7531606213613626,
          0.7529599030607739
         ],
         "y": [
          2,
          3,
          4,
          5,
          6,
          7,
          8,
          9
         ]
        }
       ],
       "layout": {
        "showlegend": true,
        "title": "Train et Test scores en fonction du min_samples_split",
        "xaxis": {
         "title": "Scores"
        },
        "yaxis": {
         "title": "min_samples_split"
        }
       }
      },
      "text/html": [
       "<div id=\"b424cfff-e61d-4fcb-9ae0-e9e7b2e6d0f0\" style=\"height: 525px; width: 100%;\" class=\"plotly-graph-div\"></div><script type=\"text/javascript\">require([\"plotly\"], function(Plotly) { window.PLOTLYENV=window.PLOTLYENV || {};window.PLOTLYENV.BASE_URL=\"https://plot.ly\";Plotly.newPlot(\"b424cfff-e61d-4fcb-9ae0-e9e7b2e6d0f0\", [{\"mode\": \"lines\", \"name\": \"train_scores\", \"x\": [0.8179973789367251, 0.8179503107109738, 0.8179503107109738, 0.818020526562256, 0.818020526562256, 0.8176521395259915, 0.8176521395259915, 0.8175601121332755], \"y\": [2, 3, 4, 5, 6, 7, 8, 9], \"type\": \"scatter\", \"uid\": \"f79fb384-d480-4009-9e27-e68d680e6eb4\"}, {\"mode\": \"lines\", \"name\": \"test_scores\", \"x\": [0.7539516341780449, 0.7538362903937532, 0.7538937462967061, 0.7537923052556322, 0.753437897031406, 0.7532146180132253, 0.7531606213613626, 0.7529599030607739], \"y\": [2, 3, 4, 5, 6, 7, 8, 9], \"type\": \"scatter\", \"uid\": \"dcc09aa7-3e7f-4335-82e1-db112db30f9d\"}], {\"showlegend\": true, \"title\": \"Train et Test scores en fonction du min_samples_split\", \"xaxis\": {\"title\": \"Scores\"}, \"yaxis\": {\"title\": \"min_samples_split\"}}, {\"showLink\": true, \"linkText\": \"Export to plot.ly\", \"plotlyServerURL\": \"https://plot.ly\"})});</script><script type=\"text/javascript\">window.addEventListener(\"resize\", function(){window._Plotly.Plots.resize(document.getElementById(\"b424cfff-e61d-4fcb-9ae0-e9e7b2e6d0f0\"));});</script>"
      ],
      "text/vnd.plotly.v1+html": [
       "<div id=\"b424cfff-e61d-4fcb-9ae0-e9e7b2e6d0f0\" style=\"height: 525px; width: 100%;\" class=\"plotly-graph-div\"></div><script type=\"text/javascript\">require([\"plotly\"], function(Plotly) { window.PLOTLYENV=window.PLOTLYENV || {};window.PLOTLYENV.BASE_URL=\"https://plot.ly\";Plotly.newPlot(\"b424cfff-e61d-4fcb-9ae0-e9e7b2e6d0f0\", [{\"mode\": \"lines\", \"name\": \"train_scores\", \"x\": [0.8179973789367251, 0.8179503107109738, 0.8179503107109738, 0.818020526562256, 0.818020526562256, 0.8176521395259915, 0.8176521395259915, 0.8175601121332755], \"y\": [2, 3, 4, 5, 6, 7, 8, 9], \"type\": \"scatter\", \"uid\": \"f79fb384-d480-4009-9e27-e68d680e6eb4\"}, {\"mode\": \"lines\", \"name\": \"test_scores\", \"x\": [0.7539516341780449, 0.7538362903937532, 0.7538937462967061, 0.7537923052556322, 0.753437897031406, 0.7532146180132253, 0.7531606213613626, 0.7529599030607739], \"y\": [2, 3, 4, 5, 6, 7, 8, 9], \"type\": \"scatter\", \"uid\": \"dcc09aa7-3e7f-4335-82e1-db112db30f9d\"}], {\"showlegend\": true, \"title\": \"Train et Test scores en fonction du min_samples_split\", \"xaxis\": {\"title\": \"Scores\"}, \"yaxis\": {\"title\": \"min_samples_split\"}}, {\"showLink\": true, \"linkText\": \"Export to plot.ly\", \"plotlyServerURL\": \"https://plot.ly\"})});</script><script type=\"text/javascript\">window.addEventListener(\"resize\", function(){window._Plotly.Plots.resize(document.getElementById(\"b424cfff-e61d-4fcb-9ae0-e9e7b2e6d0f0\"));});</script>"
      ]
     },
     "metadata": {},
     "output_type": "display_data"
    }
   ],
   "source": [
    "min_samples_splits =[]\n",
    "train_scores =[]\n",
    "test_scores=[]\n",
    "\n",
    "for n in np.arange(2, 10, 1):\n",
    "    params = {'n_estimators': 200, 'max_depth': 4, 'min_samples_split': n,\n",
    "              'learning_rate': 0.01, 'loss': 'ls'}\n",
    "\n",
    "    reg = ensemble.GradientBoostingRegressor(**params)\n",
    "\n",
    "    reg.fit(X_train, y_train.price.values)\n",
    "\n",
    "    train_score = reg.score(X_train, y_train.price.values)\n",
    "    test_score = reg.score(X_test, y_test.price.values)\n",
    "    min_samples_splits.append(n)\n",
    "    train_scores.append(train_score)        \n",
    "    test_scores.append(test_score)    \n",
    "    \n",
    "plot_optimisation(train_scores, test_scores, min_samples_splits, 'min_samples_split') "
   ]
  },
  {
   "cell_type": "code",
   "execution_count": 158,
   "metadata": {},
   "outputs": [
    {
     "data": {
      "text/plain": [
       "[2, 3]"
      ]
     },
     "execution_count": 158,
     "metadata": {},
     "output_type": "execute_result"
    }
   ],
   "source": [
    "min_samples_splits"
   ]
  },
  {
   "cell_type": "code",
   "execution_count": 162,
   "metadata": {},
   "outputs": [
    {
     "data": {
      "application/vnd.plotly.v1+json": {
       "config": {
        "linkText": "Export to plot.ly",
        "plotlyServerURL": "https://plot.ly",
        "showLink": true
       },
       "data": [
        {
         "mode": "lines",
         "name": "train_scores",
         "type": "scatter",
         "uid": "f2502f4b-5c8f-46ae-8757-c15baf5b2371",
         "x": [
          0.46149051463076296,
          0.7677222994685238,
          0.8504358428570087,
          0.883115355586764,
          0.8974064570678832,
          0.9051437008113532,
          0.9129567145414111,
          0.9177766501885734,
          0.9197191980332449,
          0.9243497956219208,
          0.9266840804886171,
          0.9280625979625237,
          0.9296286574319571,
          0.9309672946550623,
          0.9365045360517756,
          0.9373815707829918,
          0.9382188800090884,
          0.9370657777705151,
          0.940181944609303,
          0.9422156905430757,
          0.9437510875551856,
          0.9419529214748761,
          0.9437161192138258,
          0.9448573393853769,
          0.9430081114789852,
          0.9459267314371312,
          0.9434755245011368,
          0.9436023441721284,
          0.947167090405277,
          0.945858504658908,
          0.9467533934254737,
          0.9479406822069565,
          0.9480384728887112,
          0.9478884360538388,
          0.9480637076873012,
          0.9459572815808676,
          0.9485431953822887,
          0.94702600299769,
          0.94866726540631,
          0.9473725649851856,
          0.9442751180482176,
          0.9444969792823735,
          0.9495462920854351,
          0.944547886606782,
          0.9465939274390535,
          0.9503991219825635,
          0.9451374182358747,
          0.9459669652270767,
          0.9447767104697227,
          0.9471635444729147
         ],
         "y": [
          2,
          3,
          4,
          5,
          6,
          7,
          8,
          9
         ]
        },
        {
         "mode": "lines",
         "name": "test_scores",
         "type": "scatter",
         "uid": "bf2b632d-514c-40cf-930a-4aad6c5334e6",
         "x": [
          0.41916038525012056,
          0.7053054450081386,
          0.7888951026335895,
          0.8238629814969246,
          0.8389218198776557,
          0.8500041997365232,
          0.8513081856074758,
          0.8599847613449172,
          0.8541777371137415,
          0.8572904925903728,
          0.8613703526185681,
          0.8626920046706622,
          0.8601178231708586,
          0.8589609786216128,
          0.8537096424131666,
          0.8606968631115144,
          0.85564735895031,
          0.8592812095933703,
          0.8648745989202804,
          0.8630960465522615,
          0.8525023686848631,
          0.8491279583267939,
          0.852121321060599,
          0.8567826096736312,
          0.8436480410561503,
          0.8565254929994053,
          0.8542899289189296,
          0.845950955757879,
          0.8543285275327575,
          0.8547772954347252,
          0.83189162574742,
          0.8411726036763297,
          0.8402688497641116,
          0.8471801949072317,
          0.8160791351768366,
          0.8374228247843525,
          0.8150445617362642,
          0.8308828153554731,
          0.8017601155234966,
          0.8322177121720034,
          0.8232514105523722,
          0.8289758493682574,
          0.828346691506038,
          0.8018306202638998,
          0.7987839688029772,
          0.7919834448193499,
          0.7736538792918837,
          0.7909099769536114,
          0.7786429221138953,
          0.7962249053188077
         ],
         "y": [
          2,
          3,
          4,
          5,
          6,
          7,
          8,
          9
         ]
        }
       ],
       "layout": {
        "showlegend": true,
        "title": "Train et Test scores en fonction du Learning_rate",
        "xaxis": {
         "title": "Scores"
        },
        "yaxis": {
         "title": "Learning_rate"
        }
       }
      },
      "text/html": [
       "<div id=\"0b2ba04c-f7ea-48c6-bde2-21044a0ad2f5\" style=\"height: 525px; width: 100%;\" class=\"plotly-graph-div\"></div><script type=\"text/javascript\">require([\"plotly\"], function(Plotly) { window.PLOTLYENV=window.PLOTLYENV || {};window.PLOTLYENV.BASE_URL=\"https://plot.ly\";Plotly.newPlot(\"0b2ba04c-f7ea-48c6-bde2-21044a0ad2f5\", [{\"mode\": \"lines\", \"name\": \"train_scores\", \"x\": [0.46149051463076296, 0.7677222994685238, 0.8504358428570087, 0.883115355586764, 0.8974064570678832, 0.9051437008113532, 0.9129567145414111, 0.9177766501885734, 0.9197191980332449, 0.9243497956219208, 0.9266840804886171, 0.9280625979625237, 0.9296286574319571, 0.9309672946550623, 0.9365045360517756, 0.9373815707829918, 0.9382188800090884, 0.9370657777705151, 0.940181944609303, 0.9422156905430757, 0.9437510875551856, 0.9419529214748761, 0.9437161192138258, 0.9448573393853769, 0.9430081114789852, 0.9459267314371312, 0.9434755245011368, 0.9436023441721284, 0.947167090405277, 0.945858504658908, 0.9467533934254737, 0.9479406822069565, 0.9480384728887112, 0.9478884360538388, 0.9480637076873012, 0.9459572815808676, 0.9485431953822887, 0.94702600299769, 0.94866726540631, 0.9473725649851856, 0.9442751180482176, 0.9444969792823735, 0.9495462920854351, 0.944547886606782, 0.9465939274390535, 0.9503991219825635, 0.9451374182358747, 0.9459669652270767, 0.9447767104697227, 0.9471635444729147], \"y\": [2, 3, 4, 5, 6, 7, 8, 9], \"type\": \"scatter\", \"uid\": \"f2502f4b-5c8f-46ae-8757-c15baf5b2371\"}, {\"mode\": \"lines\", \"name\": \"test_scores\", \"x\": [0.41916038525012056, 0.7053054450081386, 0.7888951026335895, 0.8238629814969246, 0.8389218198776557, 0.8500041997365232, 0.8513081856074758, 0.8599847613449172, 0.8541777371137415, 0.8572904925903728, 0.8613703526185681, 0.8626920046706622, 0.8601178231708586, 0.8589609786216128, 0.8537096424131666, 0.8606968631115144, 0.85564735895031, 0.8592812095933703, 0.8648745989202804, 0.8630960465522615, 0.8525023686848631, 0.8491279583267939, 0.852121321060599, 0.8567826096736312, 0.8436480410561503, 0.8565254929994053, 0.8542899289189296, 0.845950955757879, 0.8543285275327575, 0.8547772954347252, 0.83189162574742, 0.8411726036763297, 0.8402688497641116, 0.8471801949072317, 0.8160791351768366, 0.8374228247843525, 0.8150445617362642, 0.8308828153554731, 0.8017601155234966, 0.8322177121720034, 0.8232514105523722, 0.8289758493682574, 0.828346691506038, 0.8018306202638998, 0.7987839688029772, 0.7919834448193499, 0.7736538792918837, 0.7909099769536114, 0.7786429221138953, 0.7962249053188077], \"y\": [2, 3, 4, 5, 6, 7, 8, 9], \"type\": \"scatter\", \"uid\": \"bf2b632d-514c-40cf-930a-4aad6c5334e6\"}], {\"showlegend\": true, \"title\": \"Train et Test scores en fonction du Learning_rate\", \"xaxis\": {\"title\": \"Scores\"}, \"yaxis\": {\"title\": \"Learning_rate\"}}, {\"showLink\": true, \"linkText\": \"Export to plot.ly\", \"plotlyServerURL\": \"https://plot.ly\"})});</script><script type=\"text/javascript\">window.addEventListener(\"resize\", function(){window._Plotly.Plots.resize(document.getElementById(\"0b2ba04c-f7ea-48c6-bde2-21044a0ad2f5\"));});</script>"
      ],
      "text/vnd.plotly.v1+html": [
       "<div id=\"0b2ba04c-f7ea-48c6-bde2-21044a0ad2f5\" style=\"height: 525px; width: 100%;\" class=\"plotly-graph-div\"></div><script type=\"text/javascript\">require([\"plotly\"], function(Plotly) { window.PLOTLYENV=window.PLOTLYENV || {};window.PLOTLYENV.BASE_URL=\"https://plot.ly\";Plotly.newPlot(\"0b2ba04c-f7ea-48c6-bde2-21044a0ad2f5\", [{\"mode\": \"lines\", \"name\": \"train_scores\", \"x\": [0.46149051463076296, 0.7677222994685238, 0.8504358428570087, 0.883115355586764, 0.8974064570678832, 0.9051437008113532, 0.9129567145414111, 0.9177766501885734, 0.9197191980332449, 0.9243497956219208, 0.9266840804886171, 0.9280625979625237, 0.9296286574319571, 0.9309672946550623, 0.9365045360517756, 0.9373815707829918, 0.9382188800090884, 0.9370657777705151, 0.940181944609303, 0.9422156905430757, 0.9437510875551856, 0.9419529214748761, 0.9437161192138258, 0.9448573393853769, 0.9430081114789852, 0.9459267314371312, 0.9434755245011368, 0.9436023441721284, 0.947167090405277, 0.945858504658908, 0.9467533934254737, 0.9479406822069565, 0.9480384728887112, 0.9478884360538388, 0.9480637076873012, 0.9459572815808676, 0.9485431953822887, 0.94702600299769, 0.94866726540631, 0.9473725649851856, 0.9442751180482176, 0.9444969792823735, 0.9495462920854351, 0.944547886606782, 0.9465939274390535, 0.9503991219825635, 0.9451374182358747, 0.9459669652270767, 0.9447767104697227, 0.9471635444729147], \"y\": [2, 3, 4, 5, 6, 7, 8, 9], \"type\": \"scatter\", \"uid\": \"f2502f4b-5c8f-46ae-8757-c15baf5b2371\"}, {\"mode\": \"lines\", \"name\": \"test_scores\", \"x\": [0.41916038525012056, 0.7053054450081386, 0.7888951026335895, 0.8238629814969246, 0.8389218198776557, 0.8500041997365232, 0.8513081856074758, 0.8599847613449172, 0.8541777371137415, 0.8572904925903728, 0.8613703526185681, 0.8626920046706622, 0.8601178231708586, 0.8589609786216128, 0.8537096424131666, 0.8606968631115144, 0.85564735895031, 0.8592812095933703, 0.8648745989202804, 0.8630960465522615, 0.8525023686848631, 0.8491279583267939, 0.852121321060599, 0.8567826096736312, 0.8436480410561503, 0.8565254929994053, 0.8542899289189296, 0.845950955757879, 0.8543285275327575, 0.8547772954347252, 0.83189162574742, 0.8411726036763297, 0.8402688497641116, 0.8471801949072317, 0.8160791351768366, 0.8374228247843525, 0.8150445617362642, 0.8308828153554731, 0.8017601155234966, 0.8322177121720034, 0.8232514105523722, 0.8289758493682574, 0.828346691506038, 0.8018306202638998, 0.7987839688029772, 0.7919834448193499, 0.7736538792918837, 0.7909099769536114, 0.7786429221138953, 0.7962249053188077], \"y\": [2, 3, 4, 5, 6, 7, 8, 9], \"type\": \"scatter\", \"uid\": \"bf2b632d-514c-40cf-930a-4aad6c5334e6\"}], {\"showlegend\": true, \"title\": \"Train et Test scores en fonction du Learning_rate\", \"xaxis\": {\"title\": \"Scores\"}, \"yaxis\": {\"title\": \"Learning_rate\"}}, {\"showLink\": true, \"linkText\": \"Export to plot.ly\", \"plotlyServerURL\": \"https://plot.ly\"})});</script><script type=\"text/javascript\">window.addEventListener(\"resize\", function(){window._Plotly.Plots.resize(document.getElementById(\"0b2ba04c-f7ea-48c6-bde2-21044a0ad2f5\"));});</script>"
      ]
     },
     "metadata": {},
     "output_type": "display_data"
    }
   ],
   "source": [
    "rates =[]\n",
    "train_scores =[]\n",
    "test_scores=[]\n",
    "\n",
    "for rate in np.arange(0.01, 1, 0.02):\n",
    "    params = {'n_estimators': 50, 'max_depth': 4, 'min_samples_split': 2,\n",
    "              'learning_rate': rate, 'loss': 'ls'}\n",
    "\n",
    "    reg = ensemble.GradientBoostingRegressor(**params)\n",
    "\n",
    "    reg.fit(X_train, y_train.price.values)\n",
    "\n",
    "    train_score = reg.score(X_train, y_train.price.values)\n",
    "    test_score = reg.score(X_test, y_test.price.values)\n",
    "    rates.append(rate)\n",
    "    train_scores.append(train_score)        \n",
    "    test_scores.append(test_score)    \n",
    "    \n",
    "plot_optimisation(train_scores, test_scores, min_samples_splits, 'Learning_rate')     \n"
   ]
  },
  {
   "cell_type": "code",
   "execution_count": 163,
   "metadata": {},
   "outputs": [
    {
     "ename": "NameError",
     "evalue": "name 'max_depth' is not defined",
     "output_type": "error",
     "traceback": [
      "\u001b[0;31m---------------------------------------------------------------------------\u001b[0m",
      "\u001b[0;31mNameError\u001b[0m                                 Traceback (most recent call last)",
      "\u001b[0;32m<ipython-input-163-8467001d3d3d>\u001b[0m in \u001b[0;36m<module>\u001b[0;34m\u001b[0m\n\u001b[1;32m     13\u001b[0m     \u001b[0mtrain_score\u001b[0m \u001b[0;34m=\u001b[0m \u001b[0mreg\u001b[0m\u001b[0;34m.\u001b[0m\u001b[0mscore\u001b[0m\u001b[0;34m(\u001b[0m\u001b[0mX_train\u001b[0m\u001b[0;34m,\u001b[0m \u001b[0my_train\u001b[0m\u001b[0;34m.\u001b[0m\u001b[0mprice\u001b[0m\u001b[0;34m.\u001b[0m\u001b[0mvalues\u001b[0m\u001b[0;34m)\u001b[0m\u001b[0;34m\u001b[0m\u001b[0m\n\u001b[1;32m     14\u001b[0m     \u001b[0mtest_score\u001b[0m \u001b[0;34m=\u001b[0m \u001b[0mreg\u001b[0m\u001b[0;34m.\u001b[0m\u001b[0mscore\u001b[0m\u001b[0;34m(\u001b[0m\u001b[0mX_test\u001b[0m\u001b[0;34m,\u001b[0m \u001b[0my_test\u001b[0m\u001b[0;34m.\u001b[0m\u001b[0mprice\u001b[0m\u001b[0;34m.\u001b[0m\u001b[0mvalues\u001b[0m\u001b[0;34m)\u001b[0m\u001b[0;34m\u001b[0m\u001b[0m\n\u001b[0;32m---> 15\u001b[0;31m     \u001b[0mmax_depth\u001b[0m\u001b[0;34m.\u001b[0m\u001b[0mappend\u001b[0m\u001b[0;34m(\u001b[0m\u001b[0mrate\u001b[0m\u001b[0;34m)\u001b[0m\u001b[0;34m\u001b[0m\u001b[0m\n\u001b[0m\u001b[1;32m     16\u001b[0m     \u001b[0mtrain_scores\u001b[0m\u001b[0;34m.\u001b[0m\u001b[0mappend\u001b[0m\u001b[0;34m(\u001b[0m\u001b[0mtrain_score\u001b[0m\u001b[0;34m)\u001b[0m\u001b[0;34m\u001b[0m\u001b[0m\n\u001b[1;32m     17\u001b[0m     \u001b[0mtest_scores\u001b[0m\u001b[0;34m.\u001b[0m\u001b[0mappend\u001b[0m\u001b[0;34m(\u001b[0m\u001b[0mtest_score\u001b[0m\u001b[0;34m)\u001b[0m\u001b[0;34m\u001b[0m\u001b[0m\n",
      "\u001b[0;31mNameError\u001b[0m: name 'max_depth' is not defined"
     ]
    }
   ],
   "source": [
    "max_depths =[]\n",
    "train_scores =[]\n",
    "test_scores=[]\n",
    "\n",
    "for rate in np.arange(3, 10, 1):\n",
    "    params = {'n_estimators': 100, 'max_depth': n, 'min_samples_split': 2,\n",
    "              'learning_rate': 9, 'loss': 'ls'}\n",
    "\n",
    "    reg = ensemble.GradientBoostingRegressor(**params)\n",
    "\n",
    "    reg.fit(X_train, y_train.price.values)\n",
    "\n",
    "    train_score = reg.score(X_train, y_train.price.values)\n",
    "    test_score = reg.score(X_test, y_test.price.values)\n",
    "    max_depth.append(rate)\n",
    "    train_scores.append(train_score)        \n",
    "    test_scores.append(test_score)    \n",
    "    \n",
    "plot_optimisation(train_scores, test_scores, max_depths, 'max_depth')     \n"
   ]
  }
 ],
 "metadata": {
  "kernelspec": {
   "display_name": "Python 3",
   "language": "python",
   "name": "python3"
  },
  "language_info": {
   "codemirror_mode": {
    "name": "ipython",
    "version": 3
   },
   "file_extension": ".py",
   "mimetype": "text/x-python",
   "name": "python",
   "nbconvert_exporter": "python",
   "pygments_lexer": "ipython3",
   "version": "3.6.6"
  }
 },
 "nbformat": 4,
 "nbformat_minor": 2
}
