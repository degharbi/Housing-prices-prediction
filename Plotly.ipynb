{
 "cells": [
  {
   "cell_type": "code",
   "execution_count": 1,
   "metadata": {},
   "outputs": [
    {
     "name": "stdout",
     "output_type": "stream",
     "text": [
      "\u001b[33mThe directory '/home/guest/.cache/pip/http' or its parent directory is not owned by the current user and the cache has been disabled. Please check the permissions and owner of that directory. If executing pip with sudo, you may want sudo's -H flag.\u001b[0m\n",
      "\u001b[33mThe directory '/home/guest/.cache/pip' or its parent directory is not owned by the current user and caching wheels has been disabled. check the permissions and owner of that directory. If executing pip with sudo, you may want sudo's -H flag.\u001b[0m\n",
      "Collecting plotly\n",
      "\u001b[?25l  Downloading https://files.pythonhosted.org/packages/32/d6/82333db5a6f56f828d817d49ae6ea153125d70214a189686afe784e159ad/plotly-3.4.2-py2.py3-none-any.whl (37.8MB)\n",
      "\u001b[K    100% |████████████████████████████████| 37.8MB 889kB/s eta 0:00:01          | 4.8MB 57.8MB/s eta 0:00:01�███▎                         | 7.3MB 63.2MB/s eta 0:00:01MB/s eta 0:00:01�██████████▎                 | 16.9MB 47.0MB/s eta 0:00:01��██████████████▊              | 20.9MB 62.3MB/s eta 0:00:01███████████████████████▉       | 29.3MB 64.3MB/s eta 0:00:01��█████████████████████████▌   | 33.6MB 59.1MB/s eta 0:00:01\n",
      "\u001b[?25hRequirement already satisfied: pytz in /home/guest/anaconda2/lib/python2.7/site-packages (from plotly) (2018.5)\n",
      "Requirement already satisfied: six in /home/guest/anaconda2/lib/python2.7/site-packages (from plotly) (1.11.0)\n",
      "Requirement already satisfied: decorator>=4.0.6 in /home/guest/anaconda2/lib/python2.7/site-packages (from plotly) (4.3.0)\n",
      "Collecting retrying>=1.3.3 (from plotly)\n",
      "  Downloading https://files.pythonhosted.org/packages/44/ef/beae4b4ef80902f22e3af073397f079c96969c69b2c7d52a57ea9ae61c9d/retrying-1.3.3.tar.gz\n",
      "Requirement already satisfied: requests in /home/guest/anaconda2/lib/python2.7/site-packages (from plotly) (2.19.1)\n",
      "Requirement already satisfied: nbformat>=4.2 in /home/guest/anaconda2/lib/python2.7/site-packages (from plotly) (4.4.0)\n",
      "Requirement already satisfied: idna<2.8,>=2.5 in /home/guest/anaconda2/lib/python2.7/site-packages (from requests->plotly) (2.7)\n",
      "Requirement already satisfied: certifi>=2017.4.17 in /home/guest/anaconda2/lib/python2.7/site-packages (from requests->plotly) (2018.11.29)\n",
      "Requirement already satisfied: urllib3<1.24,>=1.21.1 in /home/guest/anaconda2/lib/python2.7/site-packages (from requests->plotly) (1.22)\n",
      "Requirement already satisfied: chardet<3.1.0,>=3.0.2 in /home/guest/anaconda2/lib/python2.7/site-packages (from requests->plotly) (3.0.4)\n",
      "Requirement already satisfied: jupyter-core in /home/guest/anaconda2/lib/python2.7/site-packages (from nbformat>=4.2->plotly) (4.4.0)\n",
      "Requirement already satisfied: traitlets>=4.1 in /home/guest/anaconda2/lib/python2.7/site-packages (from nbformat>=4.2->plotly) (4.3.2)\n",
      "Requirement already satisfied: jsonschema!=2.5.0,>=2.4 in /home/guest/anaconda2/lib/python2.7/site-packages (from nbformat>=4.2->plotly) (2.6.0)\n",
      "Requirement already satisfied: ipython-genutils in /home/guest/anaconda2/lib/python2.7/site-packages (from nbformat>=4.2->plotly) (0.2.0)\n",
      "Requirement already satisfied: enum34; python_version == \"2.7\" in /home/guest/anaconda2/lib/python2.7/site-packages (from traitlets>=4.1->nbformat>=4.2->plotly) (1.1.6)\n",
      "Requirement already satisfied: functools32 in /home/guest/anaconda2/lib/python2.7/site-packages (from jsonschema!=2.5.0,>=2.4->nbformat>=4.2->plotly) (3.2.3.post2)\n",
      "\u001b[31mtwisted 18.7.0 requires PyHamcrest>=1.9.0, which is not installed.\u001b[0m\n",
      "\u001b[31mgrin 1.2.1 requires argparse>=1.1, which is not installed.\u001b[0m\n",
      "\u001b[31mpyspark 2.1.1+hadoop2.7 requires py4j==0.10.4, which is not installed.\u001b[0m\n",
      "\u001b[31mscikit-image 0.14.0 has requirement pillow>=4.3.0, but you'll have pillow 4.2.1 which is incompatible.\u001b[0m\n",
      "Installing collected packages: retrying, plotly\n",
      "  Running setup.py install for retrying ... \u001b[?25ldone\n",
      "\u001b[?25hSuccessfully installed plotly-3.4.2 retrying-1.3.3\n",
      "\u001b[33mYou are using pip version 10.0.1, however version 18.1 is available.\n",
      "You should consider upgrading via the 'pip install --upgrade pip' command.\u001b[0m\n"
     ]
    }
   ],
   "source": [
    "!pip install plotly"
   ]
  },
  {
   "cell_type": "code",
   "execution_count": 12,
   "metadata": {},
   "outputs": [],
   "source": [
    "import plotly\n",
    "plotly.tools.set_credentials_file(username='degharbi', api_key='••••••••••')"
   ]
  },
  {
   "cell_type": "code",
   "execution_count": 19,
   "metadata": {},
   "outputs": [
    {
     "data": {
      "text/html": [
       "<script type=\"text/javascript\">window.PlotlyConfig = {MathJaxConfig: 'local'};</script><script type=\"text/javascript\">if (window.MathJax) {MathJax.Hub.Config({SVG: {font: \"STIX-Web\"}});}</script><script>requirejs.config({paths: { 'plotly': ['https://cdn.plot.ly/plotly-latest.min']},});if(!window._Plotly) {require(['plotly'],function(plotly) {window._Plotly=plotly;});}</script>"
      ],
      "text/vnd.plotly.v1+html": [
       "<script type=\"text/javascript\">window.PlotlyConfig = {MathJaxConfig: 'local'};</script><script type=\"text/javascript\">if (window.MathJax) {MathJax.Hub.Config({SVG: {font: \"STIX-Web\"}});}</script><script>requirejs.config({paths: { 'plotly': ['https://cdn.plot.ly/plotly-latest.min']},});if(!window._Plotly) {require(['plotly'],function(plotly) {window._Plotly=plotly;});}</script>"
      ]
     },
     "metadata": {},
     "output_type": "display_data"
    },
    {
     "data": {
      "application/vnd.plotly.v1+json": {
       "config": {
        "linkText": "Export to plot.ly",
        "plotlyServerURL": "https://plot.ly",
        "showLink": true
       },
       "data": [
        {
         "colorscale": [
          [
           0,
           "#00083e"
          ],
          [
           0.5,
           "#ededee"
          ],
          [
           1,
           "#ffffff"
          ]
         ],
         "hoverinfo": "none",
         "opacity": 0.75,
         "showscale": false,
         "type": "heatmap",
         "uid": "5973d745-b211-4447-a5da-59459d58fee6",
         "z": [
          [
           0,
           0,
           0,
           0,
           0,
           0,
           0,
           0,
           0,
           0,
           0,
           0,
           0,
           0,
           0,
           0,
           0,
           0,
           0,
           0,
           0
          ],
          [
           0.5,
           0.5,
           0.5,
           0.5,
           0.5,
           0.5,
           0.5,
           0.5,
           0.5,
           0.5,
           0.5,
           0.5,
           0.5,
           0.5,
           0.5,
           0.5,
           0.5,
           0.5,
           0.5,
           0.5,
           0.5
          ],
          [
           1,
           1,
           1,
           1,
           1,
           1,
           1,
           1,
           1,
           1,
           1,
           1,
           1,
           1,
           1,
           1,
           1,
           1,
           1,
           1,
           1
          ],
          [
           0.5,
           0.5,
           0.5,
           0.5,
           0.5,
           0.5,
           0.5,
           0.5,
           0.5,
           0.5,
           0.5,
           0.5,
           0.5,
           0.5,
           0.5,
           0.5,
           0.5,
           0.5,
           0.5,
           0.5,
           0.5
          ],
          [
           1,
           1,
           1,
           1,
           1,
           1,
           1,
           1,
           1,
           1,
           1,
           1,
           1,
           1,
           1,
           1,
           1,
           1,
           1,
           1,
           1
          ],
          [
           0.5,
           0.5,
           0.5,
           0.5,
           0.5,
           0.5,
           0.5,
           0.5,
           0.5,
           0.5,
           0.5,
           0.5,
           0.5,
           0.5,
           0.5,
           0.5,
           0.5,
           0.5,
           0.5,
           0.5,
           0.5
          ]
         ]
        }
       ],
       "layout": {
        "annotations": [
         {
          "align": "left",
          "font": {
           "color": "#ffffff"
          },
          "showarrow": false,
          "text": "<b>id</b>",
          "x": -0.45,
          "xanchor": "left",
          "xref": "x",
          "y": 0,
          "yref": "y"
         },
         {
          "align": "left",
          "font": {
           "color": "#ffffff"
          },
          "showarrow": false,
          "text": "<b>date</b>",
          "x": 0.55,
          "xanchor": "left",
          "xref": "x",
          "y": 0,
          "yref": "y"
         },
         {
          "align": "left",
          "font": {
           "color": "#ffffff"
          },
          "showarrow": false,
          "text": "<b>price</b>",
          "x": 1.55,
          "xanchor": "left",
          "xref": "x",
          "y": 0,
          "yref": "y"
         },
         {
          "align": "left",
          "font": {
           "color": "#ffffff"
          },
          "showarrow": false,
          "text": "<b>bedrooms</b>",
          "x": 2.55,
          "xanchor": "left",
          "xref": "x",
          "y": 0,
          "yref": "y"
         },
         {
          "align": "left",
          "font": {
           "color": "#ffffff"
          },
          "showarrow": false,
          "text": "<b>bathrooms</b>",
          "x": 3.55,
          "xanchor": "left",
          "xref": "x",
          "y": 0,
          "yref": "y"
         },
         {
          "align": "left",
          "font": {
           "color": "#ffffff"
          },
          "showarrow": false,
          "text": "<b>sqft_living</b>",
          "x": 4.55,
          "xanchor": "left",
          "xref": "x",
          "y": 0,
          "yref": "y"
         },
         {
          "align": "left",
          "font": {
           "color": "#ffffff"
          },
          "showarrow": false,
          "text": "<b>sqft_lot</b>",
          "x": 5.55,
          "xanchor": "left",
          "xref": "x",
          "y": 0,
          "yref": "y"
         },
         {
          "align": "left",
          "font": {
           "color": "#ffffff"
          },
          "showarrow": false,
          "text": "<b>floors</b>",
          "x": 6.55,
          "xanchor": "left",
          "xref": "x",
          "y": 0,
          "yref": "y"
         },
         {
          "align": "left",
          "font": {
           "color": "#ffffff"
          },
          "showarrow": false,
          "text": "<b>waterfront</b>",
          "x": 7.55,
          "xanchor": "left",
          "xref": "x",
          "y": 0,
          "yref": "y"
         },
         {
          "align": "left",
          "font": {
           "color": "#ffffff"
          },
          "showarrow": false,
          "text": "<b>view</b>",
          "x": 8.55,
          "xanchor": "left",
          "xref": "x",
          "y": 0,
          "yref": "y"
         },
         {
          "align": "left",
          "font": {
           "color": "#ffffff"
          },
          "showarrow": false,
          "text": "<b>condition</b>",
          "x": 9.55,
          "xanchor": "left",
          "xref": "x",
          "y": 0,
          "yref": "y"
         },
         {
          "align": "left",
          "font": {
           "color": "#ffffff"
          },
          "showarrow": false,
          "text": "<b>grade</b>",
          "x": 10.55,
          "xanchor": "left",
          "xref": "x",
          "y": 0,
          "yref": "y"
         },
         {
          "align": "left",
          "font": {
           "color": "#ffffff"
          },
          "showarrow": false,
          "text": "<b>sqft_above</b>",
          "x": 11.55,
          "xanchor": "left",
          "xref": "x",
          "y": 0,
          "yref": "y"
         },
         {
          "align": "left",
          "font": {
           "color": "#ffffff"
          },
          "showarrow": false,
          "text": "<b>sqft_basement</b>",
          "x": 12.55,
          "xanchor": "left",
          "xref": "x",
          "y": 0,
          "yref": "y"
         },
         {
          "align": "left",
          "font": {
           "color": "#ffffff"
          },
          "showarrow": false,
          "text": "<b>yr_built</b>",
          "x": 13.55,
          "xanchor": "left",
          "xref": "x",
          "y": 0,
          "yref": "y"
         },
         {
          "align": "left",
          "font": {
           "color": "#ffffff"
          },
          "showarrow": false,
          "text": "<b>yr_renovated</b>",
          "x": 14.55,
          "xanchor": "left",
          "xref": "x",
          "y": 0,
          "yref": "y"
         },
         {
          "align": "left",
          "font": {
           "color": "#ffffff"
          },
          "showarrow": false,
          "text": "<b>zipcode</b>",
          "x": 15.55,
          "xanchor": "left",
          "xref": "x",
          "y": 0,
          "yref": "y"
         },
         {
          "align": "left",
          "font": {
           "color": "#ffffff"
          },
          "showarrow": false,
          "text": "<b>lat</b>",
          "x": 16.55,
          "xanchor": "left",
          "xref": "x",
          "y": 0,
          "yref": "y"
         },
         {
          "align": "left",
          "font": {
           "color": "#ffffff"
          },
          "showarrow": false,
          "text": "<b>long</b>",
          "x": 17.55,
          "xanchor": "left",
          "xref": "x",
          "y": 0,
          "yref": "y"
         },
         {
          "align": "left",
          "font": {
           "color": "#ffffff"
          },
          "showarrow": false,
          "text": "<b>sqft_living15</b>",
          "x": 18.55,
          "xanchor": "left",
          "xref": "x",
          "y": 0,
          "yref": "y"
         },
         {
          "align": "left",
          "font": {
           "color": "#ffffff"
          },
          "showarrow": false,
          "text": "<b>sqft_lot15</b>",
          "x": 19.55,
          "xanchor": "left",
          "xref": "x",
          "y": 0,
          "yref": "y"
         },
         {
          "align": "left",
          "font": {
           "color": "#000000"
          },
          "showarrow": false,
          "text": "'7129300520'",
          "x": -0.45,
          "xanchor": "left",
          "xref": "x",
          "y": 1,
          "yref": "y"
         },
         {
          "align": "left",
          "font": {
           "color": "#000000"
          },
          "showarrow": false,
          "text": "'20141013T000000'",
          "x": 0.55,
          "xanchor": "left",
          "xref": "x",
          "y": 1,
          "yref": "y"
         },
         {
          "align": "left",
          "font": {
           "color": "#000000"
          },
          "showarrow": false,
          "text": "221900.0",
          "x": 1.55,
          "xanchor": "left",
          "xref": "x",
          "y": 1,
          "yref": "y"
         },
         {
          "align": "left",
          "font": {
           "color": "#000000"
          },
          "showarrow": false,
          "text": "3",
          "x": 2.55,
          "xanchor": "left",
          "xref": "x",
          "y": 1,
          "yref": "y"
         },
         {
          "align": "left",
          "font": {
           "color": "#000000"
          },
          "showarrow": false,
          "text": "1.0",
          "x": 3.55,
          "xanchor": "left",
          "xref": "x",
          "y": 1,
          "yref": "y"
         },
         {
          "align": "left",
          "font": {
           "color": "#000000"
          },
          "showarrow": false,
          "text": "1180",
          "x": 4.55,
          "xanchor": "left",
          "xref": "x",
          "y": 1,
          "yref": "y"
         },
         {
          "align": "left",
          "font": {
           "color": "#000000"
          },
          "showarrow": false,
          "text": "5650",
          "x": 5.55,
          "xanchor": "left",
          "xref": "x",
          "y": 1,
          "yref": "y"
         },
         {
          "align": "left",
          "font": {
           "color": "#000000"
          },
          "showarrow": false,
          "text": "'1'",
          "x": 6.55,
          "xanchor": "left",
          "xref": "x",
          "y": 1,
          "yref": "y"
         },
         {
          "align": "left",
          "font": {
           "color": "#000000"
          },
          "showarrow": false,
          "text": "0",
          "x": 7.55,
          "xanchor": "left",
          "xref": "x",
          "y": 1,
          "yref": "y"
         },
         {
          "align": "left",
          "font": {
           "color": "#000000"
          },
          "showarrow": false,
          "text": "0",
          "x": 8.55,
          "xanchor": "left",
          "xref": "x",
          "y": 1,
          "yref": "y"
         },
         {
          "align": "left",
          "font": {
           "color": "#000000"
          },
          "showarrow": false,
          "text": "3",
          "x": 9.55,
          "xanchor": "left",
          "xref": "x",
          "y": 1,
          "yref": "y"
         },
         {
          "align": "left",
          "font": {
           "color": "#000000"
          },
          "showarrow": false,
          "text": "7",
          "x": 10.55,
          "xanchor": "left",
          "xref": "x",
          "y": 1,
          "yref": "y"
         },
         {
          "align": "left",
          "font": {
           "color": "#000000"
          },
          "showarrow": false,
          "text": "1180",
          "x": 11.55,
          "xanchor": "left",
          "xref": "x",
          "y": 1,
          "yref": "y"
         },
         {
          "align": "left",
          "font": {
           "color": "#000000"
          },
          "showarrow": false,
          "text": "0",
          "x": 12.55,
          "xanchor": "left",
          "xref": "x",
          "y": 1,
          "yref": "y"
         },
         {
          "align": "left",
          "font": {
           "color": "#000000"
          },
          "showarrow": false,
          "text": "1955",
          "x": 13.55,
          "xanchor": "left",
          "xref": "x",
          "y": 1,
          "yref": "y"
         },
         {
          "align": "left",
          "font": {
           "color": "#000000"
          },
          "showarrow": false,
          "text": "0",
          "x": 14.55,
          "xanchor": "left",
          "xref": "x",
          "y": 1,
          "yref": "y"
         },
         {
          "align": "left",
          "font": {
           "color": "#000000"
          },
          "showarrow": false,
          "text": "'98178'",
          "x": 15.55,
          "xanchor": "left",
          "xref": "x",
          "y": 1,
          "yref": "y"
         },
         {
          "align": "left",
          "font": {
           "color": "#000000"
          },
          "showarrow": false,
          "text": "47.5112",
          "x": 16.55,
          "xanchor": "left",
          "xref": "x",
          "y": 1,
          "yref": "y"
         },
         {
          "align": "left",
          "font": {
           "color": "#000000"
          },
          "showarrow": false,
          "text": "-122.257",
          "x": 17.55,
          "xanchor": "left",
          "xref": "x",
          "y": 1,
          "yref": "y"
         },
         {
          "align": "left",
          "font": {
           "color": "#000000"
          },
          "showarrow": false,
          "text": "1340",
          "x": 18.55,
          "xanchor": "left",
          "xref": "x",
          "y": 1,
          "yref": "y"
         },
         {
          "align": "left",
          "font": {
           "color": "#000000"
          },
          "showarrow": false,
          "text": "5650",
          "x": 19.55,
          "xanchor": "left",
          "xref": "x",
          "y": 1,
          "yref": "y"
         },
         {
          "align": "left",
          "font": {
           "color": "#000000"
          },
          "showarrow": false,
          "text": "'6414100192'",
          "x": -0.45,
          "xanchor": "left",
          "xref": "x",
          "y": 2,
          "yref": "y"
         },
         {
          "align": "left",
          "font": {
           "color": "#000000"
          },
          "showarrow": false,
          "text": "'20141209T000000'",
          "x": 0.55,
          "xanchor": "left",
          "xref": "x",
          "y": 2,
          "yref": "y"
         },
         {
          "align": "left",
          "font": {
           "color": "#000000"
          },
          "showarrow": false,
          "text": "538000.0",
          "x": 1.55,
          "xanchor": "left",
          "xref": "x",
          "y": 2,
          "yref": "y"
         },
         {
          "align": "left",
          "font": {
           "color": "#000000"
          },
          "showarrow": false,
          "text": "3",
          "x": 2.55,
          "xanchor": "left",
          "xref": "x",
          "y": 2,
          "yref": "y"
         },
         {
          "align": "left",
          "font": {
           "color": "#000000"
          },
          "showarrow": false,
          "text": "2.25",
          "x": 3.55,
          "xanchor": "left",
          "xref": "x",
          "y": 2,
          "yref": "y"
         },
         {
          "align": "left",
          "font": {
           "color": "#000000"
          },
          "showarrow": false,
          "text": "2570",
          "x": 4.55,
          "xanchor": "left",
          "xref": "x",
          "y": 2,
          "yref": "y"
         },
         {
          "align": "left",
          "font": {
           "color": "#000000"
          },
          "showarrow": false,
          "text": "7242",
          "x": 5.55,
          "xanchor": "left",
          "xref": "x",
          "y": 2,
          "yref": "y"
         },
         {
          "align": "left",
          "font": {
           "color": "#000000"
          },
          "showarrow": false,
          "text": "'2'",
          "x": 6.55,
          "xanchor": "left",
          "xref": "x",
          "y": 2,
          "yref": "y"
         },
         {
          "align": "left",
          "font": {
           "color": "#000000"
          },
          "showarrow": false,
          "text": "0",
          "x": 7.55,
          "xanchor": "left",
          "xref": "x",
          "y": 2,
          "yref": "y"
         },
         {
          "align": "left",
          "font": {
           "color": "#000000"
          },
          "showarrow": false,
          "text": "0",
          "x": 8.55,
          "xanchor": "left",
          "xref": "x",
          "y": 2,
          "yref": "y"
         },
         {
          "align": "left",
          "font": {
           "color": "#000000"
          },
          "showarrow": false,
          "text": "3",
          "x": 9.55,
          "xanchor": "left",
          "xref": "x",
          "y": 2,
          "yref": "y"
         },
         {
          "align": "left",
          "font": {
           "color": "#000000"
          },
          "showarrow": false,
          "text": "7",
          "x": 10.55,
          "xanchor": "left",
          "xref": "x",
          "y": 2,
          "yref": "y"
         },
         {
          "align": "left",
          "font": {
           "color": "#000000"
          },
          "showarrow": false,
          "text": "2170",
          "x": 11.55,
          "xanchor": "left",
          "xref": "x",
          "y": 2,
          "yref": "y"
         },
         {
          "align": "left",
          "font": {
           "color": "#000000"
          },
          "showarrow": false,
          "text": "400",
          "x": 12.55,
          "xanchor": "left",
          "xref": "x",
          "y": 2,
          "yref": "y"
         },
         {
          "align": "left",
          "font": {
           "color": "#000000"
          },
          "showarrow": false,
          "text": "1951",
          "x": 13.55,
          "xanchor": "left",
          "xref": "x",
          "y": 2,
          "yref": "y"
         },
         {
          "align": "left",
          "font": {
           "color": "#000000"
          },
          "showarrow": false,
          "text": "1991",
          "x": 14.55,
          "xanchor": "left",
          "xref": "x",
          "y": 2,
          "yref": "y"
         },
         {
          "align": "left",
          "font": {
           "color": "#000000"
          },
          "showarrow": false,
          "text": "'98125'",
          "x": 15.55,
          "xanchor": "left",
          "xref": "x",
          "y": 2,
          "yref": "y"
         },
         {
          "align": "left",
          "font": {
           "color": "#000000"
          },
          "showarrow": false,
          "text": "47.721",
          "x": 16.55,
          "xanchor": "left",
          "xref": "x",
          "y": 2,
          "yref": "y"
         },
         {
          "align": "left",
          "font": {
           "color": "#000000"
          },
          "showarrow": false,
          "text": "-122.319",
          "x": 17.55,
          "xanchor": "left",
          "xref": "x",
          "y": 2,
          "yref": "y"
         },
         {
          "align": "left",
          "font": {
           "color": "#000000"
          },
          "showarrow": false,
          "text": "1690",
          "x": 18.55,
          "xanchor": "left",
          "xref": "x",
          "y": 2,
          "yref": "y"
         },
         {
          "align": "left",
          "font": {
           "color": "#000000"
          },
          "showarrow": false,
          "text": "7639",
          "x": 19.55,
          "xanchor": "left",
          "xref": "x",
          "y": 2,
          "yref": "y"
         },
         {
          "align": "left",
          "font": {
           "color": "#000000"
          },
          "showarrow": false,
          "text": "'5631500400'",
          "x": -0.45,
          "xanchor": "left",
          "xref": "x",
          "y": 3,
          "yref": "y"
         },
         {
          "align": "left",
          "font": {
           "color": "#000000"
          },
          "showarrow": false,
          "text": "'20150225T000000'",
          "x": 0.55,
          "xanchor": "left",
          "xref": "x",
          "y": 3,
          "yref": "y"
         },
         {
          "align": "left",
          "font": {
           "color": "#000000"
          },
          "showarrow": false,
          "text": "180000.0",
          "x": 1.55,
          "xanchor": "left",
          "xref": "x",
          "y": 3,
          "yref": "y"
         },
         {
          "align": "left",
          "font": {
           "color": "#000000"
          },
          "showarrow": false,
          "text": "2",
          "x": 2.55,
          "xanchor": "left",
          "xref": "x",
          "y": 3,
          "yref": "y"
         },
         {
          "align": "left",
          "font": {
           "color": "#000000"
          },
          "showarrow": false,
          "text": "1.0",
          "x": 3.55,
          "xanchor": "left",
          "xref": "x",
          "y": 3,
          "yref": "y"
         },
         {
          "align": "left",
          "font": {
           "color": "#000000"
          },
          "showarrow": false,
          "text": "770",
          "x": 4.55,
          "xanchor": "left",
          "xref": "x",
          "y": 3,
          "yref": "y"
         },
         {
          "align": "left",
          "font": {
           "color": "#000000"
          },
          "showarrow": false,
          "text": "10000",
          "x": 5.55,
          "xanchor": "left",
          "xref": "x",
          "y": 3,
          "yref": "y"
         },
         {
          "align": "left",
          "font": {
           "color": "#000000"
          },
          "showarrow": false,
          "text": "'1'",
          "x": 6.55,
          "xanchor": "left",
          "xref": "x",
          "y": 3,
          "yref": "y"
         },
         {
          "align": "left",
          "font": {
           "color": "#000000"
          },
          "showarrow": false,
          "text": "0",
          "x": 7.55,
          "xanchor": "left",
          "xref": "x",
          "y": 3,
          "yref": "y"
         },
         {
          "align": "left",
          "font": {
           "color": "#000000"
          },
          "showarrow": false,
          "text": "0",
          "x": 8.55,
          "xanchor": "left",
          "xref": "x",
          "y": 3,
          "yref": "y"
         },
         {
          "align": "left",
          "font": {
           "color": "#000000"
          },
          "showarrow": false,
          "text": "3",
          "x": 9.55,
          "xanchor": "left",
          "xref": "x",
          "y": 3,
          "yref": "y"
         },
         {
          "align": "left",
          "font": {
           "color": "#000000"
          },
          "showarrow": false,
          "text": "6",
          "x": 10.55,
          "xanchor": "left",
          "xref": "x",
          "y": 3,
          "yref": "y"
         },
         {
          "align": "left",
          "font": {
           "color": "#000000"
          },
          "showarrow": false,
          "text": "770",
          "x": 11.55,
          "xanchor": "left",
          "xref": "x",
          "y": 3,
          "yref": "y"
         },
         {
          "align": "left",
          "font": {
           "color": "#000000"
          },
          "showarrow": false,
          "text": "0",
          "x": 12.55,
          "xanchor": "left",
          "xref": "x",
          "y": 3,
          "yref": "y"
         },
         {
          "align": "left",
          "font": {
           "color": "#000000"
          },
          "showarrow": false,
          "text": "1933",
          "x": 13.55,
          "xanchor": "left",
          "xref": "x",
          "y": 3,
          "yref": "y"
         },
         {
          "align": "left",
          "font": {
           "color": "#000000"
          },
          "showarrow": false,
          "text": "0",
          "x": 14.55,
          "xanchor": "left",
          "xref": "x",
          "y": 3,
          "yref": "y"
         },
         {
          "align": "left",
          "font": {
           "color": "#000000"
          },
          "showarrow": false,
          "text": "'98028'",
          "x": 15.55,
          "xanchor": "left",
          "xref": "x",
          "y": 3,
          "yref": "y"
         },
         {
          "align": "left",
          "font": {
           "color": "#000000"
          },
          "showarrow": false,
          "text": "47.7379",
          "x": 16.55,
          "xanchor": "left",
          "xref": "x",
          "y": 3,
          "yref": "y"
         },
         {
          "align": "left",
          "font": {
           "color": "#000000"
          },
          "showarrow": false,
          "text": "-122.233",
          "x": 17.55,
          "xanchor": "left",
          "xref": "x",
          "y": 3,
          "yref": "y"
         },
         {
          "align": "left",
          "font": {
           "color": "#000000"
          },
          "showarrow": false,
          "text": "2720",
          "x": 18.55,
          "xanchor": "left",
          "xref": "x",
          "y": 3,
          "yref": "y"
         },
         {
          "align": "left",
          "font": {
           "color": "#000000"
          },
          "showarrow": false,
          "text": "8062",
          "x": 19.55,
          "xanchor": "left",
          "xref": "x",
          "y": 3,
          "yref": "y"
         },
         {
          "align": "left",
          "font": {
           "color": "#000000"
          },
          "showarrow": false,
          "text": "'2487200875'",
          "x": -0.45,
          "xanchor": "left",
          "xref": "x",
          "y": 4,
          "yref": "y"
         },
         {
          "align": "left",
          "font": {
           "color": "#000000"
          },
          "showarrow": false,
          "text": "'20141209T000000'",
          "x": 0.55,
          "xanchor": "left",
          "xref": "x",
          "y": 4,
          "yref": "y"
         },
         {
          "align": "left",
          "font": {
           "color": "#000000"
          },
          "showarrow": false,
          "text": "604000.0",
          "x": 1.55,
          "xanchor": "left",
          "xref": "x",
          "y": 4,
          "yref": "y"
         },
         {
          "align": "left",
          "font": {
           "color": "#000000"
          },
          "showarrow": false,
          "text": "4",
          "x": 2.55,
          "xanchor": "left",
          "xref": "x",
          "y": 4,
          "yref": "y"
         },
         {
          "align": "left",
          "font": {
           "color": "#000000"
          },
          "showarrow": false,
          "text": "3.0",
          "x": 3.55,
          "xanchor": "left",
          "xref": "x",
          "y": 4,
          "yref": "y"
         },
         {
          "align": "left",
          "font": {
           "color": "#000000"
          },
          "showarrow": false,
          "text": "1960",
          "x": 4.55,
          "xanchor": "left",
          "xref": "x",
          "y": 4,
          "yref": "y"
         },
         {
          "align": "left",
          "font": {
           "color": "#000000"
          },
          "showarrow": false,
          "text": "5000",
          "x": 5.55,
          "xanchor": "left",
          "xref": "x",
          "y": 4,
          "yref": "y"
         },
         {
          "align": "left",
          "font": {
           "color": "#000000"
          },
          "showarrow": false,
          "text": "'1'",
          "x": 6.55,
          "xanchor": "left",
          "xref": "x",
          "y": 4,
          "yref": "y"
         },
         {
          "align": "left",
          "font": {
           "color": "#000000"
          },
          "showarrow": false,
          "text": "0",
          "x": 7.55,
          "xanchor": "left",
          "xref": "x",
          "y": 4,
          "yref": "y"
         },
         {
          "align": "left",
          "font": {
           "color": "#000000"
          },
          "showarrow": false,
          "text": "0",
          "x": 8.55,
          "xanchor": "left",
          "xref": "x",
          "y": 4,
          "yref": "y"
         },
         {
          "align": "left",
          "font": {
           "color": "#000000"
          },
          "showarrow": false,
          "text": "5",
          "x": 9.55,
          "xanchor": "left",
          "xref": "x",
          "y": 4,
          "yref": "y"
         },
         {
          "align": "left",
          "font": {
           "color": "#000000"
          },
          "showarrow": false,
          "text": "7",
          "x": 10.55,
          "xanchor": "left",
          "xref": "x",
          "y": 4,
          "yref": "y"
         },
         {
          "align": "left",
          "font": {
           "color": "#000000"
          },
          "showarrow": false,
          "text": "1050",
          "x": 11.55,
          "xanchor": "left",
          "xref": "x",
          "y": 4,
          "yref": "y"
         },
         {
          "align": "left",
          "font": {
           "color": "#000000"
          },
          "showarrow": false,
          "text": "910",
          "x": 12.55,
          "xanchor": "left",
          "xref": "x",
          "y": 4,
          "yref": "y"
         },
         {
          "align": "left",
          "font": {
           "color": "#000000"
          },
          "showarrow": false,
          "text": "1965",
          "x": 13.55,
          "xanchor": "left",
          "xref": "x",
          "y": 4,
          "yref": "y"
         },
         {
          "align": "left",
          "font": {
           "color": "#000000"
          },
          "showarrow": false,
          "text": "0",
          "x": 14.55,
          "xanchor": "left",
          "xref": "x",
          "y": 4,
          "yref": "y"
         },
         {
          "align": "left",
          "font": {
           "color": "#000000"
          },
          "showarrow": false,
          "text": "'98136'",
          "x": 15.55,
          "xanchor": "left",
          "xref": "x",
          "y": 4,
          "yref": "y"
         },
         {
          "align": "left",
          "font": {
           "color": "#000000"
          },
          "showarrow": false,
          "text": "47.5208",
          "x": 16.55,
          "xanchor": "left",
          "xref": "x",
          "y": 4,
          "yref": "y"
         },
         {
          "align": "left",
          "font": {
           "color": "#000000"
          },
          "showarrow": false,
          "text": "-122.393",
          "x": 17.55,
          "xanchor": "left",
          "xref": "x",
          "y": 4,
          "yref": "y"
         },
         {
          "align": "left",
          "font": {
           "color": "#000000"
          },
          "showarrow": false,
          "text": "1360",
          "x": 18.55,
          "xanchor": "left",
          "xref": "x",
          "y": 4,
          "yref": "y"
         },
         {
          "align": "left",
          "font": {
           "color": "#000000"
          },
          "showarrow": false,
          "text": "5000",
          "x": 19.55,
          "xanchor": "left",
          "xref": "x",
          "y": 4,
          "yref": "y"
         },
         {
          "align": "left",
          "font": {
           "color": "#000000"
          },
          "showarrow": false,
          "text": "'1954400510'",
          "x": -0.45,
          "xanchor": "left",
          "xref": "x",
          "y": 5,
          "yref": "y"
         },
         {
          "align": "left",
          "font": {
           "color": "#000000"
          },
          "showarrow": false,
          "text": "'20150218T000000'",
          "x": 0.55,
          "xanchor": "left",
          "xref": "x",
          "y": 5,
          "yref": "y"
         },
         {
          "align": "left",
          "font": {
           "color": "#000000"
          },
          "showarrow": false,
          "text": "510000.0",
          "x": 1.55,
          "xanchor": "left",
          "xref": "x",
          "y": 5,
          "yref": "y"
         },
         {
          "align": "left",
          "font": {
           "color": "#000000"
          },
          "showarrow": false,
          "text": "3",
          "x": 2.55,
          "xanchor": "left",
          "xref": "x",
          "y": 5,
          "yref": "y"
         },
         {
          "align": "left",
          "font": {
           "color": "#000000"
          },
          "showarrow": false,
          "text": "2.0",
          "x": 3.55,
          "xanchor": "left",
          "xref": "x",
          "y": 5,
          "yref": "y"
         },
         {
          "align": "left",
          "font": {
           "color": "#000000"
          },
          "showarrow": false,
          "text": "1680",
          "x": 4.55,
          "xanchor": "left",
          "xref": "x",
          "y": 5,
          "yref": "y"
         },
         {
          "align": "left",
          "font": {
           "color": "#000000"
          },
          "showarrow": false,
          "text": "8080",
          "x": 5.55,
          "xanchor": "left",
          "xref": "x",
          "y": 5,
          "yref": "y"
         },
         {
          "align": "left",
          "font": {
           "color": "#000000"
          },
          "showarrow": false,
          "text": "'1'",
          "x": 6.55,
          "xanchor": "left",
          "xref": "x",
          "y": 5,
          "yref": "y"
         },
         {
          "align": "left",
          "font": {
           "color": "#000000"
          },
          "showarrow": false,
          "text": "0",
          "x": 7.55,
          "xanchor": "left",
          "xref": "x",
          "y": 5,
          "yref": "y"
         },
         {
          "align": "left",
          "font": {
           "color": "#000000"
          },
          "showarrow": false,
          "text": "0",
          "x": 8.55,
          "xanchor": "left",
          "xref": "x",
          "y": 5,
          "yref": "y"
         },
         {
          "align": "left",
          "font": {
           "color": "#000000"
          },
          "showarrow": false,
          "text": "3",
          "x": 9.55,
          "xanchor": "left",
          "xref": "x",
          "y": 5,
          "yref": "y"
         },
         {
          "align": "left",
          "font": {
           "color": "#000000"
          },
          "showarrow": false,
          "text": "8",
          "x": 10.55,
          "xanchor": "left",
          "xref": "x",
          "y": 5,
          "yref": "y"
         },
         {
          "align": "left",
          "font": {
           "color": "#000000"
          },
          "showarrow": false,
          "text": "1680",
          "x": 11.55,
          "xanchor": "left",
          "xref": "x",
          "y": 5,
          "yref": "y"
         },
         {
          "align": "left",
          "font": {
           "color": "#000000"
          },
          "showarrow": false,
          "text": "0",
          "x": 12.55,
          "xanchor": "left",
          "xref": "x",
          "y": 5,
          "yref": "y"
         },
         {
          "align": "left",
          "font": {
           "color": "#000000"
          },
          "showarrow": false,
          "text": "1987",
          "x": 13.55,
          "xanchor": "left",
          "xref": "x",
          "y": 5,
          "yref": "y"
         },
         {
          "align": "left",
          "font": {
           "color": "#000000"
          },
          "showarrow": false,
          "text": "0",
          "x": 14.55,
          "xanchor": "left",
          "xref": "x",
          "y": 5,
          "yref": "y"
         },
         {
          "align": "left",
          "font": {
           "color": "#000000"
          },
          "showarrow": false,
          "text": "'98074'",
          "x": 15.55,
          "xanchor": "left",
          "xref": "x",
          "y": 5,
          "yref": "y"
         },
         {
          "align": "left",
          "font": {
           "color": "#000000"
          },
          "showarrow": false,
          "text": "47.6168",
          "x": 16.55,
          "xanchor": "left",
          "xref": "x",
          "y": 5,
          "yref": "y"
         },
         {
          "align": "left",
          "font": {
           "color": "#000000"
          },
          "showarrow": false,
          "text": "-122.045",
          "x": 17.55,
          "xanchor": "left",
          "xref": "x",
          "y": 5,
          "yref": "y"
         },
         {
          "align": "left",
          "font": {
           "color": "#000000"
          },
          "showarrow": false,
          "text": "1800",
          "x": 18.55,
          "xanchor": "left",
          "xref": "x",
          "y": 5,
          "yref": "y"
         },
         {
          "align": "left",
          "font": {
           "color": "#000000"
          },
          "showarrow": false,
          "text": "7503",
          "x": 19.55,
          "xanchor": "left",
          "xref": "x",
          "y": 5,
          "yref": "y"
         }
        ],
        "height": 230,
        "margin": {
         "b": 0,
         "l": 0,
         "r": 0,
         "t": 0
        },
        "xaxis": {
         "dtick": 1,
         "gridwidth": 2,
         "showticklabels": false,
         "tick0": -0.5,
         "ticks": "",
         "zeroline": false
        },
        "yaxis": {
         "autorange": "reversed",
         "dtick": 1,
         "gridwidth": 2,
         "showticklabels": false,
         "tick0": 0.5,
         "ticks": "",
         "zeroline": false
        }
       }
      },
      "text/html": [
       "<div id=\"6353cfdf-b23c-488e-bf4d-d2637c3869a5\" style=\"height: 230px; width: 100%;\" class=\"plotly-graph-div\"></div><script type=\"text/javascript\">require([\"plotly\"], function(Plotly) { window.PLOTLYENV=window.PLOTLYENV || {};window.PLOTLYENV.BASE_URL=\"https://plot.ly\";Plotly.newPlot(\"6353cfdf-b23c-488e-bf4d-d2637c3869a5\", [{\"opacity\": 0.75, \"uid\": \"5973d745-b211-4447-a5da-59459d58fee6\", \"colorscale\": [[0, \"#00083e\"], [0.5, \"#ededee\"], [1, \"#ffffff\"]], \"showscale\": false, \"hoverinfo\": \"none\", \"z\": [[0, 0, 0, 0, 0, 0, 0, 0, 0, 0, 0, 0, 0, 0, 0, 0, 0, 0, 0, 0, 0], [0.5, 0.5, 0.5, 0.5, 0.5, 0.5, 0.5, 0.5, 0.5, 0.5, 0.5, 0.5, 0.5, 0.5, 0.5, 0.5, 0.5, 0.5, 0.5, 0.5, 0.5], [1, 1, 1, 1, 1, 1, 1, 1, 1, 1, 1, 1, 1, 1, 1, 1, 1, 1, 1, 1, 1], [0.5, 0.5, 0.5, 0.5, 0.5, 0.5, 0.5, 0.5, 0.5, 0.5, 0.5, 0.5, 0.5, 0.5, 0.5, 0.5, 0.5, 0.5, 0.5, 0.5, 0.5], [1, 1, 1, 1, 1, 1, 1, 1, 1, 1, 1, 1, 1, 1, 1, 1, 1, 1, 1, 1, 1], [0.5, 0.5, 0.5, 0.5, 0.5, 0.5, 0.5, 0.5, 0.5, 0.5, 0.5, 0.5, 0.5, 0.5, 0.5, 0.5, 0.5, 0.5, 0.5, 0.5, 0.5]], \"type\": \"heatmap\"}], {\"height\": 230, \"margin\": {\"r\": 0, \"b\": 0, \"l\": 0, \"t\": 0}, \"annotations\": [{\"xref\": \"x\", \"xanchor\": \"left\", \"yref\": \"y\", \"text\": \"<b>id</b>\", \"align\": \"left\", \"y\": 0, \"x\": -0.45, \"font\": {\"color\": \"#ffffff\"}, \"showarrow\": false}, {\"xref\": \"x\", \"xanchor\": \"left\", \"yref\": \"y\", \"text\": \"<b>date</b>\", \"align\": \"left\", \"y\": 0, \"x\": 0.55, \"font\": {\"color\": \"#ffffff\"}, \"showarrow\": false}, {\"xref\": \"x\", \"xanchor\": \"left\", \"yref\": \"y\", \"text\": \"<b>price</b>\", \"align\": \"left\", \"y\": 0, \"x\": 1.55, \"font\": {\"color\": \"#ffffff\"}, \"showarrow\": false}, {\"xref\": \"x\", \"xanchor\": \"left\", \"yref\": \"y\", \"text\": \"<b>bedrooms</b>\", \"align\": \"left\", \"y\": 0, \"x\": 2.55, \"font\": {\"color\": \"#ffffff\"}, \"showarrow\": false}, {\"xref\": \"x\", \"xanchor\": \"left\", \"yref\": \"y\", \"text\": \"<b>bathrooms</b>\", \"align\": \"left\", \"y\": 0, \"x\": 3.55, \"font\": {\"color\": \"#ffffff\"}, \"showarrow\": false}, {\"xref\": \"x\", \"xanchor\": \"left\", \"yref\": \"y\", \"text\": \"<b>sqft_living</b>\", \"align\": \"left\", \"y\": 0, \"x\": 4.55, \"font\": {\"color\": \"#ffffff\"}, \"showarrow\": false}, {\"xref\": \"x\", \"xanchor\": \"left\", \"yref\": \"y\", \"text\": \"<b>sqft_lot</b>\", \"align\": \"left\", \"y\": 0, \"x\": 5.55, \"font\": {\"color\": \"#ffffff\"}, \"showarrow\": false}, {\"xref\": \"x\", \"xanchor\": \"left\", \"yref\": \"y\", \"text\": \"<b>floors</b>\", \"align\": \"left\", \"y\": 0, \"x\": 6.55, \"font\": {\"color\": \"#ffffff\"}, \"showarrow\": false}, {\"xref\": \"x\", \"xanchor\": \"left\", \"yref\": \"y\", \"text\": \"<b>waterfront</b>\", \"align\": \"left\", \"y\": 0, \"x\": 7.55, \"font\": {\"color\": \"#ffffff\"}, \"showarrow\": false}, {\"xref\": \"x\", \"xanchor\": \"left\", \"yref\": \"y\", \"text\": \"<b>view</b>\", \"align\": \"left\", \"y\": 0, \"x\": 8.55, \"font\": {\"color\": \"#ffffff\"}, \"showarrow\": false}, {\"xref\": \"x\", \"xanchor\": \"left\", \"yref\": \"y\", \"text\": \"<b>condition</b>\", \"align\": \"left\", \"y\": 0, \"x\": 9.55, \"font\": {\"color\": \"#ffffff\"}, \"showarrow\": false}, {\"xref\": \"x\", \"xanchor\": \"left\", \"yref\": \"y\", \"text\": \"<b>grade</b>\", \"align\": \"left\", \"y\": 0, \"x\": 10.55, \"font\": {\"color\": \"#ffffff\"}, \"showarrow\": false}, {\"xref\": \"x\", \"xanchor\": \"left\", \"yref\": \"y\", \"text\": \"<b>sqft_above</b>\", \"align\": \"left\", \"y\": 0, \"x\": 11.55, \"font\": {\"color\": \"#ffffff\"}, \"showarrow\": false}, {\"xref\": \"x\", \"xanchor\": \"left\", \"yref\": \"y\", \"text\": \"<b>sqft_basement</b>\", \"align\": \"left\", \"y\": 0, \"x\": 12.55, \"font\": {\"color\": \"#ffffff\"}, \"showarrow\": false}, {\"xref\": \"x\", \"xanchor\": \"left\", \"yref\": \"y\", \"text\": \"<b>yr_built</b>\", \"align\": \"left\", \"y\": 0, \"x\": 13.55, \"font\": {\"color\": \"#ffffff\"}, \"showarrow\": false}, {\"xref\": \"x\", \"xanchor\": \"left\", \"yref\": \"y\", \"text\": \"<b>yr_renovated</b>\", \"align\": \"left\", \"y\": 0, \"x\": 14.55, \"font\": {\"color\": \"#ffffff\"}, \"showarrow\": false}, {\"xref\": \"x\", \"xanchor\": \"left\", \"yref\": \"y\", \"text\": \"<b>zipcode</b>\", \"align\": \"left\", \"y\": 0, \"x\": 15.55, \"font\": {\"color\": \"#ffffff\"}, \"showarrow\": false}, {\"xref\": \"x\", \"xanchor\": \"left\", \"yref\": \"y\", \"text\": \"<b>lat</b>\", \"align\": \"left\", \"y\": 0, \"x\": 16.55, \"font\": {\"color\": \"#ffffff\"}, \"showarrow\": false}, {\"xref\": \"x\", \"xanchor\": \"left\", \"yref\": \"y\", \"text\": \"<b>long</b>\", \"align\": \"left\", \"y\": 0, \"x\": 17.55, \"font\": {\"color\": \"#ffffff\"}, \"showarrow\": false}, {\"xref\": \"x\", \"xanchor\": \"left\", \"yref\": \"y\", \"text\": \"<b>sqft_living15</b>\", \"align\": \"left\", \"y\": 0, \"x\": 18.55, \"font\": {\"color\": \"#ffffff\"}, \"showarrow\": false}, {\"xref\": \"x\", \"xanchor\": \"left\", \"yref\": \"y\", \"text\": \"<b>sqft_lot15</b>\", \"align\": \"left\", \"y\": 0, \"x\": 19.55, \"font\": {\"color\": \"#ffffff\"}, \"showarrow\": false}, {\"xref\": \"x\", \"xanchor\": \"left\", \"yref\": \"y\", \"text\": \"'7129300520'\", \"align\": \"left\", \"y\": 1, \"x\": -0.45, \"font\": {\"color\": \"#000000\"}, \"showarrow\": false}, {\"xref\": \"x\", \"xanchor\": \"left\", \"yref\": \"y\", \"text\": \"'20141013T000000'\", \"align\": \"left\", \"y\": 1, \"x\": 0.55, \"font\": {\"color\": \"#000000\"}, \"showarrow\": false}, {\"xref\": \"x\", \"xanchor\": \"left\", \"yref\": \"y\", \"text\": \"221900.0\", \"align\": \"left\", \"y\": 1, \"x\": 1.55, \"font\": {\"color\": \"#000000\"}, \"showarrow\": false}, {\"xref\": \"x\", \"xanchor\": \"left\", \"yref\": \"y\", \"text\": \"3\", \"align\": \"left\", \"y\": 1, \"x\": 2.55, \"font\": {\"color\": \"#000000\"}, \"showarrow\": false}, {\"xref\": \"x\", \"xanchor\": \"left\", \"yref\": \"y\", \"text\": \"1.0\", \"align\": \"left\", \"y\": 1, \"x\": 3.55, \"font\": {\"color\": \"#000000\"}, \"showarrow\": false}, {\"xref\": \"x\", \"xanchor\": \"left\", \"yref\": \"y\", \"text\": \"1180\", \"align\": \"left\", \"y\": 1, \"x\": 4.55, \"font\": {\"color\": \"#000000\"}, \"showarrow\": false}, {\"xref\": \"x\", \"xanchor\": \"left\", \"yref\": \"y\", \"text\": \"5650\", \"align\": \"left\", \"y\": 1, \"x\": 5.55, \"font\": {\"color\": \"#000000\"}, \"showarrow\": false}, {\"xref\": \"x\", \"xanchor\": \"left\", \"yref\": \"y\", \"text\": \"'1'\", \"align\": \"left\", \"y\": 1, \"x\": 6.55, \"font\": {\"color\": \"#000000\"}, \"showarrow\": false}, {\"xref\": \"x\", \"xanchor\": \"left\", \"yref\": \"y\", \"text\": \"0\", \"align\": \"left\", \"y\": 1, \"x\": 7.55, \"font\": {\"color\": \"#000000\"}, \"showarrow\": false}, {\"xref\": \"x\", \"xanchor\": \"left\", \"yref\": \"y\", \"text\": \"0\", \"align\": \"left\", \"y\": 1, \"x\": 8.55, \"font\": {\"color\": \"#000000\"}, \"showarrow\": false}, {\"xref\": \"x\", \"xanchor\": \"left\", \"yref\": \"y\", \"text\": \"3\", \"align\": \"left\", \"y\": 1, \"x\": 9.55, \"font\": {\"color\": \"#000000\"}, \"showarrow\": false}, {\"xref\": \"x\", \"xanchor\": \"left\", \"yref\": \"y\", \"text\": \"7\", \"align\": \"left\", \"y\": 1, \"x\": 10.55, \"font\": {\"color\": \"#000000\"}, \"showarrow\": false}, {\"xref\": \"x\", \"xanchor\": \"left\", \"yref\": \"y\", \"text\": \"1180\", \"align\": \"left\", \"y\": 1, \"x\": 11.55, \"font\": {\"color\": \"#000000\"}, \"showarrow\": false}, {\"xref\": \"x\", \"xanchor\": \"left\", \"yref\": \"y\", \"text\": \"0\", \"align\": \"left\", \"y\": 1, \"x\": 12.55, \"font\": {\"color\": \"#000000\"}, \"showarrow\": false}, {\"xref\": \"x\", \"xanchor\": \"left\", \"yref\": \"y\", \"text\": \"1955\", \"align\": \"left\", \"y\": 1, \"x\": 13.55, \"font\": {\"color\": \"#000000\"}, \"showarrow\": false}, {\"xref\": \"x\", \"xanchor\": \"left\", \"yref\": \"y\", \"text\": \"0\", \"align\": \"left\", \"y\": 1, \"x\": 14.55, \"font\": {\"color\": \"#000000\"}, \"showarrow\": false}, {\"xref\": \"x\", \"xanchor\": \"left\", \"yref\": \"y\", \"text\": \"'98178'\", \"align\": \"left\", \"y\": 1, \"x\": 15.55, \"font\": {\"color\": \"#000000\"}, \"showarrow\": false}, {\"xref\": \"x\", \"xanchor\": \"left\", \"yref\": \"y\", \"text\": \"47.5112\", \"align\": \"left\", \"y\": 1, \"x\": 16.55, \"font\": {\"color\": \"#000000\"}, \"showarrow\": false}, {\"xref\": \"x\", \"xanchor\": \"left\", \"yref\": \"y\", \"text\": \"-122.257\", \"align\": \"left\", \"y\": 1, \"x\": 17.55, \"font\": {\"color\": \"#000000\"}, \"showarrow\": false}, {\"xref\": \"x\", \"xanchor\": \"left\", \"yref\": \"y\", \"text\": \"1340\", \"align\": \"left\", \"y\": 1, \"x\": 18.55, \"font\": {\"color\": \"#000000\"}, \"showarrow\": false}, {\"xref\": \"x\", \"xanchor\": \"left\", \"yref\": \"y\", \"text\": \"5650\", \"align\": \"left\", \"y\": 1, \"x\": 19.55, \"font\": {\"color\": \"#000000\"}, \"showarrow\": false}, {\"xref\": \"x\", \"xanchor\": \"left\", \"yref\": \"y\", \"text\": \"'6414100192'\", \"align\": \"left\", \"y\": 2, \"x\": -0.45, \"font\": {\"color\": \"#000000\"}, \"showarrow\": false}, {\"xref\": \"x\", \"xanchor\": \"left\", \"yref\": \"y\", \"text\": \"'20141209T000000'\", \"align\": \"left\", \"y\": 2, \"x\": 0.55, \"font\": {\"color\": \"#000000\"}, \"showarrow\": false}, {\"xref\": \"x\", \"xanchor\": \"left\", \"yref\": \"y\", \"text\": \"538000.0\", \"align\": \"left\", \"y\": 2, \"x\": 1.55, \"font\": {\"color\": \"#000000\"}, \"showarrow\": false}, {\"xref\": \"x\", \"xanchor\": \"left\", \"yref\": \"y\", \"text\": \"3\", \"align\": \"left\", \"y\": 2, \"x\": 2.55, \"font\": {\"color\": \"#000000\"}, \"showarrow\": false}, {\"xref\": \"x\", \"xanchor\": \"left\", \"yref\": \"y\", \"text\": \"2.25\", \"align\": \"left\", \"y\": 2, \"x\": 3.55, \"font\": {\"color\": \"#000000\"}, \"showarrow\": false}, {\"xref\": \"x\", \"xanchor\": \"left\", \"yref\": \"y\", \"text\": \"2570\", \"align\": \"left\", \"y\": 2, \"x\": 4.55, \"font\": {\"color\": \"#000000\"}, \"showarrow\": false}, {\"xref\": \"x\", \"xanchor\": \"left\", \"yref\": \"y\", \"text\": \"7242\", \"align\": \"left\", \"y\": 2, \"x\": 5.55, \"font\": {\"color\": \"#000000\"}, \"showarrow\": false}, {\"xref\": \"x\", \"xanchor\": \"left\", \"yref\": \"y\", \"text\": \"'2'\", \"align\": \"left\", \"y\": 2, \"x\": 6.55, \"font\": {\"color\": \"#000000\"}, \"showarrow\": false}, {\"xref\": \"x\", \"xanchor\": \"left\", \"yref\": \"y\", \"text\": \"0\", \"align\": \"left\", \"y\": 2, \"x\": 7.55, \"font\": {\"color\": \"#000000\"}, \"showarrow\": false}, {\"xref\": \"x\", \"xanchor\": \"left\", \"yref\": \"y\", \"text\": \"0\", \"align\": \"left\", \"y\": 2, \"x\": 8.55, \"font\": {\"color\": \"#000000\"}, \"showarrow\": false}, {\"xref\": \"x\", \"xanchor\": \"left\", \"yref\": \"y\", \"text\": \"3\", \"align\": \"left\", \"y\": 2, \"x\": 9.55, \"font\": {\"color\": \"#000000\"}, \"showarrow\": false}, {\"xref\": \"x\", \"xanchor\": \"left\", \"yref\": \"y\", \"text\": \"7\", \"align\": \"left\", \"y\": 2, \"x\": 10.55, \"font\": {\"color\": \"#000000\"}, \"showarrow\": false}, {\"xref\": \"x\", \"xanchor\": \"left\", \"yref\": \"y\", \"text\": \"2170\", \"align\": \"left\", \"y\": 2, \"x\": 11.55, \"font\": {\"color\": \"#000000\"}, \"showarrow\": false}, {\"xref\": \"x\", \"xanchor\": \"left\", \"yref\": \"y\", \"text\": \"400\", \"align\": \"left\", \"y\": 2, \"x\": 12.55, \"font\": {\"color\": \"#000000\"}, \"showarrow\": false}, {\"xref\": \"x\", \"xanchor\": \"left\", \"yref\": \"y\", \"text\": \"1951\", \"align\": \"left\", \"y\": 2, \"x\": 13.55, \"font\": {\"color\": \"#000000\"}, \"showarrow\": false}, {\"xref\": \"x\", \"xanchor\": \"left\", \"yref\": \"y\", \"text\": \"1991\", \"align\": \"left\", \"y\": 2, \"x\": 14.55, \"font\": {\"color\": \"#000000\"}, \"showarrow\": false}, {\"xref\": \"x\", \"xanchor\": \"left\", \"yref\": \"y\", \"text\": \"'98125'\", \"align\": \"left\", \"y\": 2, \"x\": 15.55, \"font\": {\"color\": \"#000000\"}, \"showarrow\": false}, {\"xref\": \"x\", \"xanchor\": \"left\", \"yref\": \"y\", \"text\": \"47.721\", \"align\": \"left\", \"y\": 2, \"x\": 16.55, \"font\": {\"color\": \"#000000\"}, \"showarrow\": false}, {\"xref\": \"x\", \"xanchor\": \"left\", \"yref\": \"y\", \"text\": \"-122.319\", \"align\": \"left\", \"y\": 2, \"x\": 17.55, \"font\": {\"color\": \"#000000\"}, \"showarrow\": false}, {\"xref\": \"x\", \"xanchor\": \"left\", \"yref\": \"y\", \"text\": \"1690\", \"align\": \"left\", \"y\": 2, \"x\": 18.55, \"font\": {\"color\": \"#000000\"}, \"showarrow\": false}, {\"xref\": \"x\", \"xanchor\": \"left\", \"yref\": \"y\", \"text\": \"7639\", \"align\": \"left\", \"y\": 2, \"x\": 19.55, \"font\": {\"color\": \"#000000\"}, \"showarrow\": false}, {\"xref\": \"x\", \"xanchor\": \"left\", \"yref\": \"y\", \"text\": \"'5631500400'\", \"align\": \"left\", \"y\": 3, \"x\": -0.45, \"font\": {\"color\": \"#000000\"}, \"showarrow\": false}, {\"xref\": \"x\", \"xanchor\": \"left\", \"yref\": \"y\", \"text\": \"'20150225T000000'\", \"align\": \"left\", \"y\": 3, \"x\": 0.55, \"font\": {\"color\": \"#000000\"}, \"showarrow\": false}, {\"xref\": \"x\", \"xanchor\": \"left\", \"yref\": \"y\", \"text\": \"180000.0\", \"align\": \"left\", \"y\": 3, \"x\": 1.55, \"font\": {\"color\": \"#000000\"}, \"showarrow\": false}, {\"xref\": \"x\", \"xanchor\": \"left\", \"yref\": \"y\", \"text\": \"2\", \"align\": \"left\", \"y\": 3, \"x\": 2.55, \"font\": {\"color\": \"#000000\"}, \"showarrow\": false}, {\"xref\": \"x\", \"xanchor\": \"left\", \"yref\": \"y\", \"text\": \"1.0\", \"align\": \"left\", \"y\": 3, \"x\": 3.55, \"font\": {\"color\": \"#000000\"}, \"showarrow\": false}, {\"xref\": \"x\", \"xanchor\": \"left\", \"yref\": \"y\", \"text\": \"770\", \"align\": \"left\", \"y\": 3, \"x\": 4.55, \"font\": {\"color\": \"#000000\"}, \"showarrow\": false}, {\"xref\": \"x\", \"xanchor\": \"left\", \"yref\": \"y\", \"text\": \"10000\", \"align\": \"left\", \"y\": 3, \"x\": 5.55, \"font\": {\"color\": \"#000000\"}, \"showarrow\": false}, {\"xref\": \"x\", \"xanchor\": \"left\", \"yref\": \"y\", \"text\": \"'1'\", \"align\": \"left\", \"y\": 3, \"x\": 6.55, \"font\": {\"color\": \"#000000\"}, \"showarrow\": false}, {\"xref\": \"x\", \"xanchor\": \"left\", \"yref\": \"y\", \"text\": \"0\", \"align\": \"left\", \"y\": 3, \"x\": 7.55, \"font\": {\"color\": \"#000000\"}, \"showarrow\": false}, {\"xref\": \"x\", \"xanchor\": \"left\", \"yref\": \"y\", \"text\": \"0\", \"align\": \"left\", \"y\": 3, \"x\": 8.55, \"font\": {\"color\": \"#000000\"}, \"showarrow\": false}, {\"xref\": \"x\", \"xanchor\": \"left\", \"yref\": \"y\", \"text\": \"3\", \"align\": \"left\", \"y\": 3, \"x\": 9.55, \"font\": {\"color\": \"#000000\"}, \"showarrow\": false}, {\"xref\": \"x\", \"xanchor\": \"left\", \"yref\": \"y\", \"text\": \"6\", \"align\": \"left\", \"y\": 3, \"x\": 10.55, \"font\": {\"color\": \"#000000\"}, \"showarrow\": false}, {\"xref\": \"x\", \"xanchor\": \"left\", \"yref\": \"y\", \"text\": \"770\", \"align\": \"left\", \"y\": 3, \"x\": 11.55, \"font\": {\"color\": \"#000000\"}, \"showarrow\": false}, {\"xref\": \"x\", \"xanchor\": \"left\", \"yref\": \"y\", \"text\": \"0\", \"align\": \"left\", \"y\": 3, \"x\": 12.55, \"font\": {\"color\": \"#000000\"}, \"showarrow\": false}, {\"xref\": \"x\", \"xanchor\": \"left\", \"yref\": \"y\", \"text\": \"1933\", \"align\": \"left\", \"y\": 3, \"x\": 13.55, \"font\": {\"color\": \"#000000\"}, \"showarrow\": false}, {\"xref\": \"x\", \"xanchor\": \"left\", \"yref\": \"y\", \"text\": \"0\", \"align\": \"left\", \"y\": 3, \"x\": 14.55, \"font\": {\"color\": \"#000000\"}, \"showarrow\": false}, {\"xref\": \"x\", \"xanchor\": \"left\", \"yref\": \"y\", \"text\": \"'98028'\", \"align\": \"left\", \"y\": 3, \"x\": 15.55, \"font\": {\"color\": \"#000000\"}, \"showarrow\": false}, {\"xref\": \"x\", \"xanchor\": \"left\", \"yref\": \"y\", \"text\": \"47.7379\", \"align\": \"left\", \"y\": 3, \"x\": 16.55, \"font\": {\"color\": \"#000000\"}, \"showarrow\": false}, {\"xref\": \"x\", \"xanchor\": \"left\", \"yref\": \"y\", \"text\": \"-122.233\", \"align\": \"left\", \"y\": 3, \"x\": 17.55, \"font\": {\"color\": \"#000000\"}, \"showarrow\": false}, {\"xref\": \"x\", \"xanchor\": \"left\", \"yref\": \"y\", \"text\": \"2720\", \"align\": \"left\", \"y\": 3, \"x\": 18.55, \"font\": {\"color\": \"#000000\"}, \"showarrow\": false}, {\"xref\": \"x\", \"xanchor\": \"left\", \"yref\": \"y\", \"text\": \"8062\", \"align\": \"left\", \"y\": 3, \"x\": 19.55, \"font\": {\"color\": \"#000000\"}, \"showarrow\": false}, {\"xref\": \"x\", \"xanchor\": \"left\", \"yref\": \"y\", \"text\": \"'2487200875'\", \"align\": \"left\", \"y\": 4, \"x\": -0.45, \"font\": {\"color\": \"#000000\"}, \"showarrow\": false}, {\"xref\": \"x\", \"xanchor\": \"left\", \"yref\": \"y\", \"text\": \"'20141209T000000'\", \"align\": \"left\", \"y\": 4, \"x\": 0.55, \"font\": {\"color\": \"#000000\"}, \"showarrow\": false}, {\"xref\": \"x\", \"xanchor\": \"left\", \"yref\": \"y\", \"text\": \"604000.0\", \"align\": \"left\", \"y\": 4, \"x\": 1.55, \"font\": {\"color\": \"#000000\"}, \"showarrow\": false}, {\"xref\": \"x\", \"xanchor\": \"left\", \"yref\": \"y\", \"text\": \"4\", \"align\": \"left\", \"y\": 4, \"x\": 2.55, \"font\": {\"color\": \"#000000\"}, \"showarrow\": false}, {\"xref\": \"x\", \"xanchor\": \"left\", \"yref\": \"y\", \"text\": \"3.0\", \"align\": \"left\", \"y\": 4, \"x\": 3.55, \"font\": {\"color\": \"#000000\"}, \"showarrow\": false}, {\"xref\": \"x\", \"xanchor\": \"left\", \"yref\": \"y\", \"text\": \"1960\", \"align\": \"left\", \"y\": 4, \"x\": 4.55, \"font\": {\"color\": \"#000000\"}, \"showarrow\": false}, {\"xref\": \"x\", \"xanchor\": \"left\", \"yref\": \"y\", \"text\": \"5000\", \"align\": \"left\", \"y\": 4, \"x\": 5.55, \"font\": {\"color\": \"#000000\"}, \"showarrow\": false}, {\"xref\": \"x\", \"xanchor\": \"left\", \"yref\": \"y\", \"text\": \"'1'\", \"align\": \"left\", \"y\": 4, \"x\": 6.55, \"font\": {\"color\": \"#000000\"}, \"showarrow\": false}, {\"xref\": \"x\", \"xanchor\": \"left\", \"yref\": \"y\", \"text\": \"0\", \"align\": \"left\", \"y\": 4, \"x\": 7.55, \"font\": {\"color\": \"#000000\"}, \"showarrow\": false}, {\"xref\": \"x\", \"xanchor\": \"left\", \"yref\": \"y\", \"text\": \"0\", \"align\": \"left\", \"y\": 4, \"x\": 8.55, \"font\": {\"color\": \"#000000\"}, \"showarrow\": false}, {\"xref\": \"x\", \"xanchor\": \"left\", \"yref\": \"y\", \"text\": \"5\", \"align\": \"left\", \"y\": 4, \"x\": 9.55, \"font\": {\"color\": \"#000000\"}, \"showarrow\": false}, {\"xref\": \"x\", \"xanchor\": \"left\", \"yref\": \"y\", \"text\": \"7\", \"align\": \"left\", \"y\": 4, \"x\": 10.55, \"font\": {\"color\": \"#000000\"}, \"showarrow\": false}, {\"xref\": \"x\", \"xanchor\": \"left\", \"yref\": \"y\", \"text\": \"1050\", \"align\": \"left\", \"y\": 4, \"x\": 11.55, \"font\": {\"color\": \"#000000\"}, \"showarrow\": false}, {\"xref\": \"x\", \"xanchor\": \"left\", \"yref\": \"y\", \"text\": \"910\", \"align\": \"left\", \"y\": 4, \"x\": 12.55, \"font\": {\"color\": \"#000000\"}, \"showarrow\": false}, {\"xref\": \"x\", \"xanchor\": \"left\", \"yref\": \"y\", \"text\": \"1965\", \"align\": \"left\", \"y\": 4, \"x\": 13.55, \"font\": {\"color\": \"#000000\"}, \"showarrow\": false}, {\"xref\": \"x\", \"xanchor\": \"left\", \"yref\": \"y\", \"text\": \"0\", \"align\": \"left\", \"y\": 4, \"x\": 14.55, \"font\": {\"color\": \"#000000\"}, \"showarrow\": false}, {\"xref\": \"x\", \"xanchor\": \"left\", \"yref\": \"y\", \"text\": \"'98136'\", \"align\": \"left\", \"y\": 4, \"x\": 15.55, \"font\": {\"color\": \"#000000\"}, \"showarrow\": false}, {\"xref\": \"x\", \"xanchor\": \"left\", \"yref\": \"y\", \"text\": \"47.5208\", \"align\": \"left\", \"y\": 4, \"x\": 16.55, \"font\": {\"color\": \"#000000\"}, \"showarrow\": false}, {\"xref\": \"x\", \"xanchor\": \"left\", \"yref\": \"y\", \"text\": \"-122.393\", \"align\": \"left\", \"y\": 4, \"x\": 17.55, \"font\": {\"color\": \"#000000\"}, \"showarrow\": false}, {\"xref\": \"x\", \"xanchor\": \"left\", \"yref\": \"y\", \"text\": \"1360\", \"align\": \"left\", \"y\": 4, \"x\": 18.55, \"font\": {\"color\": \"#000000\"}, \"showarrow\": false}, {\"xref\": \"x\", \"xanchor\": \"left\", \"yref\": \"y\", \"text\": \"5000\", \"align\": \"left\", \"y\": 4, \"x\": 19.55, \"font\": {\"color\": \"#000000\"}, \"showarrow\": false}, {\"xref\": \"x\", \"xanchor\": \"left\", \"yref\": \"y\", \"text\": \"'1954400510'\", \"align\": \"left\", \"y\": 5, \"x\": -0.45, \"font\": {\"color\": \"#000000\"}, \"showarrow\": false}, {\"xref\": \"x\", \"xanchor\": \"left\", \"yref\": \"y\", \"text\": \"'20150218T000000'\", \"align\": \"left\", \"y\": 5, \"x\": 0.55, \"font\": {\"color\": \"#000000\"}, \"showarrow\": false}, {\"xref\": \"x\", \"xanchor\": \"left\", \"yref\": \"y\", \"text\": \"510000.0\", \"align\": \"left\", \"y\": 5, \"x\": 1.55, \"font\": {\"color\": \"#000000\"}, \"showarrow\": false}, {\"xref\": \"x\", \"xanchor\": \"left\", \"yref\": \"y\", \"text\": \"3\", \"align\": \"left\", \"y\": 5, \"x\": 2.55, \"font\": {\"color\": \"#000000\"}, \"showarrow\": false}, {\"xref\": \"x\", \"xanchor\": \"left\", \"yref\": \"y\", \"text\": \"2.0\", \"align\": \"left\", \"y\": 5, \"x\": 3.55, \"font\": {\"color\": \"#000000\"}, \"showarrow\": false}, {\"xref\": \"x\", \"xanchor\": \"left\", \"yref\": \"y\", \"text\": \"1680\", \"align\": \"left\", \"y\": 5, \"x\": 4.55, \"font\": {\"color\": \"#000000\"}, \"showarrow\": false}, {\"xref\": \"x\", \"xanchor\": \"left\", \"yref\": \"y\", \"text\": \"8080\", \"align\": \"left\", \"y\": 5, \"x\": 5.55, \"font\": {\"color\": \"#000000\"}, \"showarrow\": false}, {\"xref\": \"x\", \"xanchor\": \"left\", \"yref\": \"y\", \"text\": \"'1'\", \"align\": \"left\", \"y\": 5, \"x\": 6.55, \"font\": {\"color\": \"#000000\"}, \"showarrow\": false}, {\"xref\": \"x\", \"xanchor\": \"left\", \"yref\": \"y\", \"text\": \"0\", \"align\": \"left\", \"y\": 5, \"x\": 7.55, \"font\": {\"color\": \"#000000\"}, \"showarrow\": false}, {\"xref\": \"x\", \"xanchor\": \"left\", \"yref\": \"y\", \"text\": \"0\", \"align\": \"left\", \"y\": 5, \"x\": 8.55, \"font\": {\"color\": \"#000000\"}, \"showarrow\": false}, {\"xref\": \"x\", \"xanchor\": \"left\", \"yref\": \"y\", \"text\": \"3\", \"align\": \"left\", \"y\": 5, \"x\": 9.55, \"font\": {\"color\": \"#000000\"}, \"showarrow\": false}, {\"xref\": \"x\", \"xanchor\": \"left\", \"yref\": \"y\", \"text\": \"8\", \"align\": \"left\", \"y\": 5, \"x\": 10.55, \"font\": {\"color\": \"#000000\"}, \"showarrow\": false}, {\"xref\": \"x\", \"xanchor\": \"left\", \"yref\": \"y\", \"text\": \"1680\", \"align\": \"left\", \"y\": 5, \"x\": 11.55, \"font\": {\"color\": \"#000000\"}, \"showarrow\": false}, {\"xref\": \"x\", \"xanchor\": \"left\", \"yref\": \"y\", \"text\": \"0\", \"align\": \"left\", \"y\": 5, \"x\": 12.55, \"font\": {\"color\": \"#000000\"}, \"showarrow\": false}, {\"xref\": \"x\", \"xanchor\": \"left\", \"yref\": \"y\", \"text\": \"1987\", \"align\": \"left\", \"y\": 5, \"x\": 13.55, \"font\": {\"color\": \"#000000\"}, \"showarrow\": false}, {\"xref\": \"x\", \"xanchor\": \"left\", \"yref\": \"y\", \"text\": \"0\", \"align\": \"left\", \"y\": 5, \"x\": 14.55, \"font\": {\"color\": \"#000000\"}, \"showarrow\": false}, {\"xref\": \"x\", \"xanchor\": \"left\", \"yref\": \"y\", \"text\": \"'98074'\", \"align\": \"left\", \"y\": 5, \"x\": 15.55, \"font\": {\"color\": \"#000000\"}, \"showarrow\": false}, {\"xref\": \"x\", \"xanchor\": \"left\", \"yref\": \"y\", \"text\": \"47.6168\", \"align\": \"left\", \"y\": 5, \"x\": 16.55, \"font\": {\"color\": \"#000000\"}, \"showarrow\": false}, {\"xref\": \"x\", \"xanchor\": \"left\", \"yref\": \"y\", \"text\": \"-122.045\", \"align\": \"left\", \"y\": 5, \"x\": 17.55, \"font\": {\"color\": \"#000000\"}, \"showarrow\": false}, {\"xref\": \"x\", \"xanchor\": \"left\", \"yref\": \"y\", \"text\": \"1800\", \"align\": \"left\", \"y\": 5, \"x\": 18.55, \"font\": {\"color\": \"#000000\"}, \"showarrow\": false}, {\"xref\": \"x\", \"xanchor\": \"left\", \"yref\": \"y\", \"text\": \"7503\", \"align\": \"left\", \"y\": 5, \"x\": 19.55, \"font\": {\"color\": \"#000000\"}, \"showarrow\": false}], \"xaxis\": {\"showticklabels\": false, \"tick0\": -0.5, \"ticks\": \"\", \"gridwidth\": 2, \"dtick\": 1, \"zeroline\": false}, \"yaxis\": {\"showticklabels\": false, \"tick0\": 0.5, \"ticks\": \"\", \"gridwidth\": 2, \"dtick\": 1, \"zeroline\": false, \"autorange\": \"reversed\"}}, {\"plotlyServerURL\": \"https://plot.ly\", \"linkText\": \"Export to plot.ly\", \"showLink\": true})});</script><script type=\"text/javascript\">window.addEventListener(\"resize\", function(){window._Plotly.Plots.resize(document.getElementById(\"6353cfdf-b23c-488e-bf4d-d2637c3869a5\"));});</script>"
      ],
      "text/vnd.plotly.v1+html": [
       "<div id=\"6353cfdf-b23c-488e-bf4d-d2637c3869a5\" style=\"height: 230px; width: 100%;\" class=\"plotly-graph-div\"></div><script type=\"text/javascript\">require([\"plotly\"], function(Plotly) { window.PLOTLYENV=window.PLOTLYENV || {};window.PLOTLYENV.BASE_URL=\"https://plot.ly\";Plotly.newPlot(\"6353cfdf-b23c-488e-bf4d-d2637c3869a5\", [{\"opacity\": 0.75, \"uid\": \"5973d745-b211-4447-a5da-59459d58fee6\", \"colorscale\": [[0, \"#00083e\"], [0.5, \"#ededee\"], [1, \"#ffffff\"]], \"showscale\": false, \"hoverinfo\": \"none\", \"z\": [[0, 0, 0, 0, 0, 0, 0, 0, 0, 0, 0, 0, 0, 0, 0, 0, 0, 0, 0, 0, 0], [0.5, 0.5, 0.5, 0.5, 0.5, 0.5, 0.5, 0.5, 0.5, 0.5, 0.5, 0.5, 0.5, 0.5, 0.5, 0.5, 0.5, 0.5, 0.5, 0.5, 0.5], [1, 1, 1, 1, 1, 1, 1, 1, 1, 1, 1, 1, 1, 1, 1, 1, 1, 1, 1, 1, 1], [0.5, 0.5, 0.5, 0.5, 0.5, 0.5, 0.5, 0.5, 0.5, 0.5, 0.5, 0.5, 0.5, 0.5, 0.5, 0.5, 0.5, 0.5, 0.5, 0.5, 0.5], [1, 1, 1, 1, 1, 1, 1, 1, 1, 1, 1, 1, 1, 1, 1, 1, 1, 1, 1, 1, 1], [0.5, 0.5, 0.5, 0.5, 0.5, 0.5, 0.5, 0.5, 0.5, 0.5, 0.5, 0.5, 0.5, 0.5, 0.5, 0.5, 0.5, 0.5, 0.5, 0.5, 0.5]], \"type\": \"heatmap\"}], {\"height\": 230, \"margin\": {\"r\": 0, \"b\": 0, \"l\": 0, \"t\": 0}, \"annotations\": [{\"xref\": \"x\", \"xanchor\": \"left\", \"yref\": \"y\", \"text\": \"<b>id</b>\", \"align\": \"left\", \"y\": 0, \"x\": -0.45, \"font\": {\"color\": \"#ffffff\"}, \"showarrow\": false}, {\"xref\": \"x\", \"xanchor\": \"left\", \"yref\": \"y\", \"text\": \"<b>date</b>\", \"align\": \"left\", \"y\": 0, \"x\": 0.55, \"font\": {\"color\": \"#ffffff\"}, \"showarrow\": false}, {\"xref\": \"x\", \"xanchor\": \"left\", \"yref\": \"y\", \"text\": \"<b>price</b>\", \"align\": \"left\", \"y\": 0, \"x\": 1.55, \"font\": {\"color\": \"#ffffff\"}, \"showarrow\": false}, {\"xref\": \"x\", \"xanchor\": \"left\", \"yref\": \"y\", \"text\": \"<b>bedrooms</b>\", \"align\": \"left\", \"y\": 0, \"x\": 2.55, \"font\": {\"color\": \"#ffffff\"}, \"showarrow\": false}, {\"xref\": \"x\", \"xanchor\": \"left\", \"yref\": \"y\", \"text\": \"<b>bathrooms</b>\", \"align\": \"left\", \"y\": 0, \"x\": 3.55, \"font\": {\"color\": \"#ffffff\"}, \"showarrow\": false}, {\"xref\": \"x\", \"xanchor\": \"left\", \"yref\": \"y\", \"text\": \"<b>sqft_living</b>\", \"align\": \"left\", \"y\": 0, \"x\": 4.55, \"font\": {\"color\": \"#ffffff\"}, \"showarrow\": false}, {\"xref\": \"x\", \"xanchor\": \"left\", \"yref\": \"y\", \"text\": \"<b>sqft_lot</b>\", \"align\": \"left\", \"y\": 0, \"x\": 5.55, \"font\": {\"color\": \"#ffffff\"}, \"showarrow\": false}, {\"xref\": \"x\", \"xanchor\": \"left\", \"yref\": \"y\", \"text\": \"<b>floors</b>\", \"align\": \"left\", \"y\": 0, \"x\": 6.55, \"font\": {\"color\": \"#ffffff\"}, \"showarrow\": false}, {\"xref\": \"x\", \"xanchor\": \"left\", \"yref\": \"y\", \"text\": \"<b>waterfront</b>\", \"align\": \"left\", \"y\": 0, \"x\": 7.55, \"font\": {\"color\": \"#ffffff\"}, \"showarrow\": false}, {\"xref\": \"x\", \"xanchor\": \"left\", \"yref\": \"y\", \"text\": \"<b>view</b>\", \"align\": \"left\", \"y\": 0, \"x\": 8.55, \"font\": {\"color\": \"#ffffff\"}, \"showarrow\": false}, {\"xref\": \"x\", \"xanchor\": \"left\", \"yref\": \"y\", \"text\": \"<b>condition</b>\", \"align\": \"left\", \"y\": 0, \"x\": 9.55, \"font\": {\"color\": \"#ffffff\"}, \"showarrow\": false}, {\"xref\": \"x\", \"xanchor\": \"left\", \"yref\": \"y\", \"text\": \"<b>grade</b>\", \"align\": \"left\", \"y\": 0, \"x\": 10.55, \"font\": {\"color\": \"#ffffff\"}, \"showarrow\": false}, {\"xref\": \"x\", \"xanchor\": \"left\", \"yref\": \"y\", \"text\": \"<b>sqft_above</b>\", \"align\": \"left\", \"y\": 0, \"x\": 11.55, \"font\": {\"color\": \"#ffffff\"}, \"showarrow\": false}, {\"xref\": \"x\", \"xanchor\": \"left\", \"yref\": \"y\", \"text\": \"<b>sqft_basement</b>\", \"align\": \"left\", \"y\": 0, \"x\": 12.55, \"font\": {\"color\": \"#ffffff\"}, \"showarrow\": false}, {\"xref\": \"x\", \"xanchor\": \"left\", \"yref\": \"y\", \"text\": \"<b>yr_built</b>\", \"align\": \"left\", \"y\": 0, \"x\": 13.55, \"font\": {\"color\": \"#ffffff\"}, \"showarrow\": false}, {\"xref\": \"x\", \"xanchor\": \"left\", \"yref\": \"y\", \"text\": \"<b>yr_renovated</b>\", \"align\": \"left\", \"y\": 0, \"x\": 14.55, \"font\": {\"color\": \"#ffffff\"}, \"showarrow\": false}, {\"xref\": \"x\", \"xanchor\": \"left\", \"yref\": \"y\", \"text\": \"<b>zipcode</b>\", \"align\": \"left\", \"y\": 0, \"x\": 15.55, \"font\": {\"color\": \"#ffffff\"}, \"showarrow\": false}, {\"xref\": \"x\", \"xanchor\": \"left\", \"yref\": \"y\", \"text\": \"<b>lat</b>\", \"align\": \"left\", \"y\": 0, \"x\": 16.55, \"font\": {\"color\": \"#ffffff\"}, \"showarrow\": false}, {\"xref\": \"x\", \"xanchor\": \"left\", \"yref\": \"y\", \"text\": \"<b>long</b>\", \"align\": \"left\", \"y\": 0, \"x\": 17.55, \"font\": {\"color\": \"#ffffff\"}, \"showarrow\": false}, {\"xref\": \"x\", \"xanchor\": \"left\", \"yref\": \"y\", \"text\": \"<b>sqft_living15</b>\", \"align\": \"left\", \"y\": 0, \"x\": 18.55, \"font\": {\"color\": \"#ffffff\"}, \"showarrow\": false}, {\"xref\": \"x\", \"xanchor\": \"left\", \"yref\": \"y\", \"text\": \"<b>sqft_lot15</b>\", \"align\": \"left\", \"y\": 0, \"x\": 19.55, \"font\": {\"color\": \"#ffffff\"}, \"showarrow\": false}, {\"xref\": \"x\", \"xanchor\": \"left\", \"yref\": \"y\", \"text\": \"'7129300520'\", \"align\": \"left\", \"y\": 1, \"x\": -0.45, \"font\": {\"color\": \"#000000\"}, \"showarrow\": false}, {\"xref\": \"x\", \"xanchor\": \"left\", \"yref\": \"y\", \"text\": \"'20141013T000000'\", \"align\": \"left\", \"y\": 1, \"x\": 0.55, \"font\": {\"color\": \"#000000\"}, \"showarrow\": false}, {\"xref\": \"x\", \"xanchor\": \"left\", \"yref\": \"y\", \"text\": \"221900.0\", \"align\": \"left\", \"y\": 1, \"x\": 1.55, \"font\": {\"color\": \"#000000\"}, \"showarrow\": false}, {\"xref\": \"x\", \"xanchor\": \"left\", \"yref\": \"y\", \"text\": \"3\", \"align\": \"left\", \"y\": 1, \"x\": 2.55, \"font\": {\"color\": \"#000000\"}, \"showarrow\": false}, {\"xref\": \"x\", \"xanchor\": \"left\", \"yref\": \"y\", \"text\": \"1.0\", \"align\": \"left\", \"y\": 1, \"x\": 3.55, \"font\": {\"color\": \"#000000\"}, \"showarrow\": false}, {\"xref\": \"x\", \"xanchor\": \"left\", \"yref\": \"y\", \"text\": \"1180\", \"align\": \"left\", \"y\": 1, \"x\": 4.55, \"font\": {\"color\": \"#000000\"}, \"showarrow\": false}, {\"xref\": \"x\", \"xanchor\": \"left\", \"yref\": \"y\", \"text\": \"5650\", \"align\": \"left\", \"y\": 1, \"x\": 5.55, \"font\": {\"color\": \"#000000\"}, \"showarrow\": false}, {\"xref\": \"x\", \"xanchor\": \"left\", \"yref\": \"y\", \"text\": \"'1'\", \"align\": \"left\", \"y\": 1, \"x\": 6.55, \"font\": {\"color\": \"#000000\"}, \"showarrow\": false}, {\"xref\": \"x\", \"xanchor\": \"left\", \"yref\": \"y\", \"text\": \"0\", \"align\": \"left\", \"y\": 1, \"x\": 7.55, \"font\": {\"color\": \"#000000\"}, \"showarrow\": false}, {\"xref\": \"x\", \"xanchor\": \"left\", \"yref\": \"y\", \"text\": \"0\", \"align\": \"left\", \"y\": 1, \"x\": 8.55, \"font\": {\"color\": \"#000000\"}, \"showarrow\": false}, {\"xref\": \"x\", \"xanchor\": \"left\", \"yref\": \"y\", \"text\": \"3\", \"align\": \"left\", \"y\": 1, \"x\": 9.55, \"font\": {\"color\": \"#000000\"}, \"showarrow\": false}, {\"xref\": \"x\", \"xanchor\": \"left\", \"yref\": \"y\", \"text\": \"7\", \"align\": \"left\", \"y\": 1, \"x\": 10.55, \"font\": {\"color\": \"#000000\"}, \"showarrow\": false}, {\"xref\": \"x\", \"xanchor\": \"left\", \"yref\": \"y\", \"text\": \"1180\", \"align\": \"left\", \"y\": 1, \"x\": 11.55, \"font\": {\"color\": \"#000000\"}, \"showarrow\": false}, {\"xref\": \"x\", \"xanchor\": \"left\", \"yref\": \"y\", \"text\": \"0\", \"align\": \"left\", \"y\": 1, \"x\": 12.55, \"font\": {\"color\": \"#000000\"}, \"showarrow\": false}, {\"xref\": \"x\", \"xanchor\": \"left\", \"yref\": \"y\", \"text\": \"1955\", \"align\": \"left\", \"y\": 1, \"x\": 13.55, \"font\": {\"color\": \"#000000\"}, \"showarrow\": false}, {\"xref\": \"x\", \"xanchor\": \"left\", \"yref\": \"y\", \"text\": \"0\", \"align\": \"left\", \"y\": 1, \"x\": 14.55, \"font\": {\"color\": \"#000000\"}, \"showarrow\": false}, {\"xref\": \"x\", \"xanchor\": \"left\", \"yref\": \"y\", \"text\": \"'98178'\", \"align\": \"left\", \"y\": 1, \"x\": 15.55, \"font\": {\"color\": \"#000000\"}, \"showarrow\": false}, {\"xref\": \"x\", \"xanchor\": \"left\", \"yref\": \"y\", \"text\": \"47.5112\", \"align\": \"left\", \"y\": 1, \"x\": 16.55, \"font\": {\"color\": \"#000000\"}, \"showarrow\": false}, {\"xref\": \"x\", \"xanchor\": \"left\", \"yref\": \"y\", \"text\": \"-122.257\", \"align\": \"left\", \"y\": 1, \"x\": 17.55, \"font\": {\"color\": \"#000000\"}, \"showarrow\": false}, {\"xref\": \"x\", \"xanchor\": \"left\", \"yref\": \"y\", \"text\": \"1340\", \"align\": \"left\", \"y\": 1, \"x\": 18.55, \"font\": {\"color\": \"#000000\"}, \"showarrow\": false}, {\"xref\": \"x\", \"xanchor\": \"left\", \"yref\": \"y\", \"text\": \"5650\", \"align\": \"left\", \"y\": 1, \"x\": 19.55, \"font\": {\"color\": \"#000000\"}, \"showarrow\": false}, {\"xref\": \"x\", \"xanchor\": \"left\", \"yref\": \"y\", \"text\": \"'6414100192'\", \"align\": \"left\", \"y\": 2, \"x\": -0.45, \"font\": {\"color\": \"#000000\"}, \"showarrow\": false}, {\"xref\": \"x\", \"xanchor\": \"left\", \"yref\": \"y\", \"text\": \"'20141209T000000'\", \"align\": \"left\", \"y\": 2, \"x\": 0.55, \"font\": {\"color\": \"#000000\"}, \"showarrow\": false}, {\"xref\": \"x\", \"xanchor\": \"left\", \"yref\": \"y\", \"text\": \"538000.0\", \"align\": \"left\", \"y\": 2, \"x\": 1.55, \"font\": {\"color\": \"#000000\"}, \"showarrow\": false}, {\"xref\": \"x\", \"xanchor\": \"left\", \"yref\": \"y\", \"text\": \"3\", \"align\": \"left\", \"y\": 2, \"x\": 2.55, \"font\": {\"color\": \"#000000\"}, \"showarrow\": false}, {\"xref\": \"x\", \"xanchor\": \"left\", \"yref\": \"y\", \"text\": \"2.25\", \"align\": \"left\", \"y\": 2, \"x\": 3.55, \"font\": {\"color\": \"#000000\"}, \"showarrow\": false}, {\"xref\": \"x\", \"xanchor\": \"left\", \"yref\": \"y\", \"text\": \"2570\", \"align\": \"left\", \"y\": 2, \"x\": 4.55, \"font\": {\"color\": \"#000000\"}, \"showarrow\": false}, {\"xref\": \"x\", \"xanchor\": \"left\", \"yref\": \"y\", \"text\": \"7242\", \"align\": \"left\", \"y\": 2, \"x\": 5.55, \"font\": {\"color\": \"#000000\"}, \"showarrow\": false}, {\"xref\": \"x\", \"xanchor\": \"left\", \"yref\": \"y\", \"text\": \"'2'\", \"align\": \"left\", \"y\": 2, \"x\": 6.55, \"font\": {\"color\": \"#000000\"}, \"showarrow\": false}, {\"xref\": \"x\", \"xanchor\": \"left\", \"yref\": \"y\", \"text\": \"0\", \"align\": \"left\", \"y\": 2, \"x\": 7.55, \"font\": {\"color\": \"#000000\"}, \"showarrow\": false}, {\"xref\": \"x\", \"xanchor\": \"left\", \"yref\": \"y\", \"text\": \"0\", \"align\": \"left\", \"y\": 2, \"x\": 8.55, \"font\": {\"color\": \"#000000\"}, \"showarrow\": false}, {\"xref\": \"x\", \"xanchor\": \"left\", \"yref\": \"y\", \"text\": \"3\", \"align\": \"left\", \"y\": 2, \"x\": 9.55, \"font\": {\"color\": \"#000000\"}, \"showarrow\": false}, {\"xref\": \"x\", \"xanchor\": \"left\", \"yref\": \"y\", \"text\": \"7\", \"align\": \"left\", \"y\": 2, \"x\": 10.55, \"font\": {\"color\": \"#000000\"}, \"showarrow\": false}, {\"xref\": \"x\", \"xanchor\": \"left\", \"yref\": \"y\", \"text\": \"2170\", \"align\": \"left\", \"y\": 2, \"x\": 11.55, \"font\": {\"color\": \"#000000\"}, \"showarrow\": false}, {\"xref\": \"x\", \"xanchor\": \"left\", \"yref\": \"y\", \"text\": \"400\", \"align\": \"left\", \"y\": 2, \"x\": 12.55, \"font\": {\"color\": \"#000000\"}, \"showarrow\": false}, {\"xref\": \"x\", \"xanchor\": \"left\", \"yref\": \"y\", \"text\": \"1951\", \"align\": \"left\", \"y\": 2, \"x\": 13.55, \"font\": {\"color\": \"#000000\"}, \"showarrow\": false}, {\"xref\": \"x\", \"xanchor\": \"left\", \"yref\": \"y\", \"text\": \"1991\", \"align\": \"left\", \"y\": 2, \"x\": 14.55, \"font\": {\"color\": \"#000000\"}, \"showarrow\": false}, {\"xref\": \"x\", \"xanchor\": \"left\", \"yref\": \"y\", \"text\": \"'98125'\", \"align\": \"left\", \"y\": 2, \"x\": 15.55, \"font\": {\"color\": \"#000000\"}, \"showarrow\": false}, {\"xref\": \"x\", \"xanchor\": \"left\", \"yref\": \"y\", \"text\": \"47.721\", \"align\": \"left\", \"y\": 2, \"x\": 16.55, \"font\": {\"color\": \"#000000\"}, \"showarrow\": false}, {\"xref\": \"x\", \"xanchor\": \"left\", \"yref\": \"y\", \"text\": \"-122.319\", \"align\": \"left\", \"y\": 2, \"x\": 17.55, \"font\": {\"color\": \"#000000\"}, \"showarrow\": false}, {\"xref\": \"x\", \"xanchor\": \"left\", \"yref\": \"y\", \"text\": \"1690\", \"align\": \"left\", \"y\": 2, \"x\": 18.55, \"font\": {\"color\": \"#000000\"}, \"showarrow\": false}, {\"xref\": \"x\", \"xanchor\": \"left\", \"yref\": \"y\", \"text\": \"7639\", \"align\": \"left\", \"y\": 2, \"x\": 19.55, \"font\": {\"color\": \"#000000\"}, \"showarrow\": false}, {\"xref\": \"x\", \"xanchor\": \"left\", \"yref\": \"y\", \"text\": \"'5631500400'\", \"align\": \"left\", \"y\": 3, \"x\": -0.45, \"font\": {\"color\": \"#000000\"}, \"showarrow\": false}, {\"xref\": \"x\", \"xanchor\": \"left\", \"yref\": \"y\", \"text\": \"'20150225T000000'\", \"align\": \"left\", \"y\": 3, \"x\": 0.55, \"font\": {\"color\": \"#000000\"}, \"showarrow\": false}, {\"xref\": \"x\", \"xanchor\": \"left\", \"yref\": \"y\", \"text\": \"180000.0\", \"align\": \"left\", \"y\": 3, \"x\": 1.55, \"font\": {\"color\": \"#000000\"}, \"showarrow\": false}, {\"xref\": \"x\", \"xanchor\": \"left\", \"yref\": \"y\", \"text\": \"2\", \"align\": \"left\", \"y\": 3, \"x\": 2.55, \"font\": {\"color\": \"#000000\"}, \"showarrow\": false}, {\"xref\": \"x\", \"xanchor\": \"left\", \"yref\": \"y\", \"text\": \"1.0\", \"align\": \"left\", \"y\": 3, \"x\": 3.55, \"font\": {\"color\": \"#000000\"}, \"showarrow\": false}, {\"xref\": \"x\", \"xanchor\": \"left\", \"yref\": \"y\", \"text\": \"770\", \"align\": \"left\", \"y\": 3, \"x\": 4.55, \"font\": {\"color\": \"#000000\"}, \"showarrow\": false}, {\"xref\": \"x\", \"xanchor\": \"left\", \"yref\": \"y\", \"text\": \"10000\", \"align\": \"left\", \"y\": 3, \"x\": 5.55, \"font\": {\"color\": \"#000000\"}, \"showarrow\": false}, {\"xref\": \"x\", \"xanchor\": \"left\", \"yref\": \"y\", \"text\": \"'1'\", \"align\": \"left\", \"y\": 3, \"x\": 6.55, \"font\": {\"color\": \"#000000\"}, \"showarrow\": false}, {\"xref\": \"x\", \"xanchor\": \"left\", \"yref\": \"y\", \"text\": \"0\", \"align\": \"left\", \"y\": 3, \"x\": 7.55, \"font\": {\"color\": \"#000000\"}, \"showarrow\": false}, {\"xref\": \"x\", \"xanchor\": \"left\", \"yref\": \"y\", \"text\": \"0\", \"align\": \"left\", \"y\": 3, \"x\": 8.55, \"font\": {\"color\": \"#000000\"}, \"showarrow\": false}, {\"xref\": \"x\", \"xanchor\": \"left\", \"yref\": \"y\", \"text\": \"3\", \"align\": \"left\", \"y\": 3, \"x\": 9.55, \"font\": {\"color\": \"#000000\"}, \"showarrow\": false}, {\"xref\": \"x\", \"xanchor\": \"left\", \"yref\": \"y\", \"text\": \"6\", \"align\": \"left\", \"y\": 3, \"x\": 10.55, \"font\": {\"color\": \"#000000\"}, \"showarrow\": false}, {\"xref\": \"x\", \"xanchor\": \"left\", \"yref\": \"y\", \"text\": \"770\", \"align\": \"left\", \"y\": 3, \"x\": 11.55, \"font\": {\"color\": \"#000000\"}, \"showarrow\": false}, {\"xref\": \"x\", \"xanchor\": \"left\", \"yref\": \"y\", \"text\": \"0\", \"align\": \"left\", \"y\": 3, \"x\": 12.55, \"font\": {\"color\": \"#000000\"}, \"showarrow\": false}, {\"xref\": \"x\", \"xanchor\": \"left\", \"yref\": \"y\", \"text\": \"1933\", \"align\": \"left\", \"y\": 3, \"x\": 13.55, \"font\": {\"color\": \"#000000\"}, \"showarrow\": false}, {\"xref\": \"x\", \"xanchor\": \"left\", \"yref\": \"y\", \"text\": \"0\", \"align\": \"left\", \"y\": 3, \"x\": 14.55, \"font\": {\"color\": \"#000000\"}, \"showarrow\": false}, {\"xref\": \"x\", \"xanchor\": \"left\", \"yref\": \"y\", \"text\": \"'98028'\", \"align\": \"left\", \"y\": 3, \"x\": 15.55, \"font\": {\"color\": \"#000000\"}, \"showarrow\": false}, {\"xref\": \"x\", \"xanchor\": \"left\", \"yref\": \"y\", \"text\": \"47.7379\", \"align\": \"left\", \"y\": 3, \"x\": 16.55, \"font\": {\"color\": \"#000000\"}, \"showarrow\": false}, {\"xref\": \"x\", \"xanchor\": \"left\", \"yref\": \"y\", \"text\": \"-122.233\", \"align\": \"left\", \"y\": 3, \"x\": 17.55, \"font\": {\"color\": \"#000000\"}, \"showarrow\": false}, {\"xref\": \"x\", \"xanchor\": \"left\", \"yref\": \"y\", \"text\": \"2720\", \"align\": \"left\", \"y\": 3, \"x\": 18.55, \"font\": {\"color\": \"#000000\"}, \"showarrow\": false}, {\"xref\": \"x\", \"xanchor\": \"left\", \"yref\": \"y\", \"text\": \"8062\", \"align\": \"left\", \"y\": 3, \"x\": 19.55, \"font\": {\"color\": \"#000000\"}, \"showarrow\": false}, {\"xref\": \"x\", \"xanchor\": \"left\", \"yref\": \"y\", \"text\": \"'2487200875'\", \"align\": \"left\", \"y\": 4, \"x\": -0.45, \"font\": {\"color\": \"#000000\"}, \"showarrow\": false}, {\"xref\": \"x\", \"xanchor\": \"left\", \"yref\": \"y\", \"text\": \"'20141209T000000'\", \"align\": \"left\", \"y\": 4, \"x\": 0.55, \"font\": {\"color\": \"#000000\"}, \"showarrow\": false}, {\"xref\": \"x\", \"xanchor\": \"left\", \"yref\": \"y\", \"text\": \"604000.0\", \"align\": \"left\", \"y\": 4, \"x\": 1.55, \"font\": {\"color\": \"#000000\"}, \"showarrow\": false}, {\"xref\": \"x\", \"xanchor\": \"left\", \"yref\": \"y\", \"text\": \"4\", \"align\": \"left\", \"y\": 4, \"x\": 2.55, \"font\": {\"color\": \"#000000\"}, \"showarrow\": false}, {\"xref\": \"x\", \"xanchor\": \"left\", \"yref\": \"y\", \"text\": \"3.0\", \"align\": \"left\", \"y\": 4, \"x\": 3.55, \"font\": {\"color\": \"#000000\"}, \"showarrow\": false}, {\"xref\": \"x\", \"xanchor\": \"left\", \"yref\": \"y\", \"text\": \"1960\", \"align\": \"left\", \"y\": 4, \"x\": 4.55, \"font\": {\"color\": \"#000000\"}, \"showarrow\": false}, {\"xref\": \"x\", \"xanchor\": \"left\", \"yref\": \"y\", \"text\": \"5000\", \"align\": \"left\", \"y\": 4, \"x\": 5.55, \"font\": {\"color\": \"#000000\"}, \"showarrow\": false}, {\"xref\": \"x\", \"xanchor\": \"left\", \"yref\": \"y\", \"text\": \"'1'\", \"align\": \"left\", \"y\": 4, \"x\": 6.55, \"font\": {\"color\": \"#000000\"}, \"showarrow\": false}, {\"xref\": \"x\", \"xanchor\": \"left\", \"yref\": \"y\", \"text\": \"0\", \"align\": \"left\", \"y\": 4, \"x\": 7.55, \"font\": {\"color\": \"#000000\"}, \"showarrow\": false}, {\"xref\": \"x\", \"xanchor\": \"left\", \"yref\": \"y\", \"text\": \"0\", \"align\": \"left\", \"y\": 4, \"x\": 8.55, \"font\": {\"color\": \"#000000\"}, \"showarrow\": false}, {\"xref\": \"x\", \"xanchor\": \"left\", \"yref\": \"y\", \"text\": \"5\", \"align\": \"left\", \"y\": 4, \"x\": 9.55, \"font\": {\"color\": \"#000000\"}, \"showarrow\": false}, {\"xref\": \"x\", \"xanchor\": \"left\", \"yref\": \"y\", \"text\": \"7\", \"align\": \"left\", \"y\": 4, \"x\": 10.55, \"font\": {\"color\": \"#000000\"}, \"showarrow\": false}, {\"xref\": \"x\", \"xanchor\": \"left\", \"yref\": \"y\", \"text\": \"1050\", \"align\": \"left\", \"y\": 4, \"x\": 11.55, \"font\": {\"color\": \"#000000\"}, \"showarrow\": false}, {\"xref\": \"x\", \"xanchor\": \"left\", \"yref\": \"y\", \"text\": \"910\", \"align\": \"left\", \"y\": 4, \"x\": 12.55, \"font\": {\"color\": \"#000000\"}, \"showarrow\": false}, {\"xref\": \"x\", \"xanchor\": \"left\", \"yref\": \"y\", \"text\": \"1965\", \"align\": \"left\", \"y\": 4, \"x\": 13.55, \"font\": {\"color\": \"#000000\"}, \"showarrow\": false}, {\"xref\": \"x\", \"xanchor\": \"left\", \"yref\": \"y\", \"text\": \"0\", \"align\": \"left\", \"y\": 4, \"x\": 14.55, \"font\": {\"color\": \"#000000\"}, \"showarrow\": false}, {\"xref\": \"x\", \"xanchor\": \"left\", \"yref\": \"y\", \"text\": \"'98136'\", \"align\": \"left\", \"y\": 4, \"x\": 15.55, \"font\": {\"color\": \"#000000\"}, \"showarrow\": false}, {\"xref\": \"x\", \"xanchor\": \"left\", \"yref\": \"y\", \"text\": \"47.5208\", \"align\": \"left\", \"y\": 4, \"x\": 16.55, \"font\": {\"color\": \"#000000\"}, \"showarrow\": false}, {\"xref\": \"x\", \"xanchor\": \"left\", \"yref\": \"y\", \"text\": \"-122.393\", \"align\": \"left\", \"y\": 4, \"x\": 17.55, \"font\": {\"color\": \"#000000\"}, \"showarrow\": false}, {\"xref\": \"x\", \"xanchor\": \"left\", \"yref\": \"y\", \"text\": \"1360\", \"align\": \"left\", \"y\": 4, \"x\": 18.55, \"font\": {\"color\": \"#000000\"}, \"showarrow\": false}, {\"xref\": \"x\", \"xanchor\": \"left\", \"yref\": \"y\", \"text\": \"5000\", \"align\": \"left\", \"y\": 4, \"x\": 19.55, \"font\": {\"color\": \"#000000\"}, \"showarrow\": false}, {\"xref\": \"x\", \"xanchor\": \"left\", \"yref\": \"y\", \"text\": \"'1954400510'\", \"align\": \"left\", \"y\": 5, \"x\": -0.45, \"font\": {\"color\": \"#000000\"}, \"showarrow\": false}, {\"xref\": \"x\", \"xanchor\": \"left\", \"yref\": \"y\", \"text\": \"'20150218T000000'\", \"align\": \"left\", \"y\": 5, \"x\": 0.55, \"font\": {\"color\": \"#000000\"}, \"showarrow\": false}, {\"xref\": \"x\", \"xanchor\": \"left\", \"yref\": \"y\", \"text\": \"510000.0\", \"align\": \"left\", \"y\": 5, \"x\": 1.55, \"font\": {\"color\": \"#000000\"}, \"showarrow\": false}, {\"xref\": \"x\", \"xanchor\": \"left\", \"yref\": \"y\", \"text\": \"3\", \"align\": \"left\", \"y\": 5, \"x\": 2.55, \"font\": {\"color\": \"#000000\"}, \"showarrow\": false}, {\"xref\": \"x\", \"xanchor\": \"left\", \"yref\": \"y\", \"text\": \"2.0\", \"align\": \"left\", \"y\": 5, \"x\": 3.55, \"font\": {\"color\": \"#000000\"}, \"showarrow\": false}, {\"xref\": \"x\", \"xanchor\": \"left\", \"yref\": \"y\", \"text\": \"1680\", \"align\": \"left\", \"y\": 5, \"x\": 4.55, \"font\": {\"color\": \"#000000\"}, \"showarrow\": false}, {\"xref\": \"x\", \"xanchor\": \"left\", \"yref\": \"y\", \"text\": \"8080\", \"align\": \"left\", \"y\": 5, \"x\": 5.55, \"font\": {\"color\": \"#000000\"}, \"showarrow\": false}, {\"xref\": \"x\", \"xanchor\": \"left\", \"yref\": \"y\", \"text\": \"'1'\", \"align\": \"left\", \"y\": 5, \"x\": 6.55, \"font\": {\"color\": \"#000000\"}, \"showarrow\": false}, {\"xref\": \"x\", \"xanchor\": \"left\", \"yref\": \"y\", \"text\": \"0\", \"align\": \"left\", \"y\": 5, \"x\": 7.55, \"font\": {\"color\": \"#000000\"}, \"showarrow\": false}, {\"xref\": \"x\", \"xanchor\": \"left\", \"yref\": \"y\", \"text\": \"0\", \"align\": \"left\", \"y\": 5, \"x\": 8.55, \"font\": {\"color\": \"#000000\"}, \"showarrow\": false}, {\"xref\": \"x\", \"xanchor\": \"left\", \"yref\": \"y\", \"text\": \"3\", \"align\": \"left\", \"y\": 5, \"x\": 9.55, \"font\": {\"color\": \"#000000\"}, \"showarrow\": false}, {\"xref\": \"x\", \"xanchor\": \"left\", \"yref\": \"y\", \"text\": \"8\", \"align\": \"left\", \"y\": 5, \"x\": 10.55, \"font\": {\"color\": \"#000000\"}, \"showarrow\": false}, {\"xref\": \"x\", \"xanchor\": \"left\", \"yref\": \"y\", \"text\": \"1680\", \"align\": \"left\", \"y\": 5, \"x\": 11.55, \"font\": {\"color\": \"#000000\"}, \"showarrow\": false}, {\"xref\": \"x\", \"xanchor\": \"left\", \"yref\": \"y\", \"text\": \"0\", \"align\": \"left\", \"y\": 5, \"x\": 12.55, \"font\": {\"color\": \"#000000\"}, \"showarrow\": false}, {\"xref\": \"x\", \"xanchor\": \"left\", \"yref\": \"y\", \"text\": \"1987\", \"align\": \"left\", \"y\": 5, \"x\": 13.55, \"font\": {\"color\": \"#000000\"}, \"showarrow\": false}, {\"xref\": \"x\", \"xanchor\": \"left\", \"yref\": \"y\", \"text\": \"0\", \"align\": \"left\", \"y\": 5, \"x\": 14.55, \"font\": {\"color\": \"#000000\"}, \"showarrow\": false}, {\"xref\": \"x\", \"xanchor\": \"left\", \"yref\": \"y\", \"text\": \"'98074'\", \"align\": \"left\", \"y\": 5, \"x\": 15.55, \"font\": {\"color\": \"#000000\"}, \"showarrow\": false}, {\"xref\": \"x\", \"xanchor\": \"left\", \"yref\": \"y\", \"text\": \"47.6168\", \"align\": \"left\", \"y\": 5, \"x\": 16.55, \"font\": {\"color\": \"#000000\"}, \"showarrow\": false}, {\"xref\": \"x\", \"xanchor\": \"left\", \"yref\": \"y\", \"text\": \"-122.045\", \"align\": \"left\", \"y\": 5, \"x\": 17.55, \"font\": {\"color\": \"#000000\"}, \"showarrow\": false}, {\"xref\": \"x\", \"xanchor\": \"left\", \"yref\": \"y\", \"text\": \"1800\", \"align\": \"left\", \"y\": 5, \"x\": 18.55, \"font\": {\"color\": \"#000000\"}, \"showarrow\": false}, {\"xref\": \"x\", \"xanchor\": \"left\", \"yref\": \"y\", \"text\": \"7503\", \"align\": \"left\", \"y\": 5, \"x\": 19.55, \"font\": {\"color\": \"#000000\"}, \"showarrow\": false}], \"xaxis\": {\"showticklabels\": false, \"tick0\": -0.5, \"ticks\": \"\", \"gridwidth\": 2, \"dtick\": 1, \"zeroline\": false}, \"yaxis\": {\"showticklabels\": false, \"tick0\": 0.5, \"ticks\": \"\", \"gridwidth\": 2, \"dtick\": 1, \"zeroline\": false, \"autorange\": \"reversed\"}}, {\"plotlyServerURL\": \"https://plot.ly\", \"linkText\": \"Export to plot.ly\", \"showLink\": true})});</script><script type=\"text/javascript\">window.addEventListener(\"resize\", function(){window._Plotly.Plots.resize(document.getElementById(\"6353cfdf-b23c-488e-bf4d-d2637c3869a5\"));});</script>"
      ]
     },
     "metadata": {},
     "output_type": "display_data"
    }
   ],
   "source": [
    "import plotly.offline as py\n",
    "import plotly.graph_objs as go\n",
    "import pandas as pd\n",
    "plotly.offline.init_notebook_mode(connected=True)\n",
    "\n",
    "df = pd.read_csv(\"https://raw.githubusercontent.com/degharbi/Housing-prices-prediction/master/data/kc_house_data.csv\")\n",
    "\n",
    "table = ff.create_table(df.head())\n",
    "py.iplot(table, filename='jupyter-table1')"
   ]
  }
 ],
 "metadata": {
  "kernelspec": {
   "display_name": "Python 2",
   "language": "python",
   "name": "python2"
  },
  "language_info": {
   "codemirror_mode": {
    "name": "ipython",
    "version": 2
   },
   "file_extension": ".py",
   "mimetype": "text/x-python",
   "name": "python",
   "nbconvert_exporter": "python",
   "pygments_lexer": "ipython2",
   "version": "2.7.10"
  }
 },
 "nbformat": 4,
 "nbformat_minor": 2
}
