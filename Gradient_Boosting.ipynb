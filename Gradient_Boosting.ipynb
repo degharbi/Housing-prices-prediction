{
 "cells": [
  {
   "cell_type": "markdown",
   "metadata": {},
   "source": [
    "# Modeles de Gradient boosting "
   ]
  },
  {
   "cell_type": "code",
   "execution_count": 91,
   "metadata": {},
   "outputs": [
    {
     "data": {
      "text/html": [
       "<script type=\"text/javascript\">window.PlotlyConfig = {MathJaxConfig: 'local'};</script><script type=\"text/javascript\">if (window.MathJax) {MathJax.Hub.Config({SVG: {font: \"STIX-Web\"}});}</script><script>requirejs.config({paths: { 'plotly': ['https://cdn.plot.ly/plotly-latest.min']},});if(!window._Plotly) {require(['plotly'],function(plotly) {window._Plotly=plotly;});}</script>"
      ],
      "text/vnd.plotly.v1+html": [
       "<script type=\"text/javascript\">window.PlotlyConfig = {MathJaxConfig: 'local'};</script><script type=\"text/javascript\">if (window.MathJax) {MathJax.Hub.Config({SVG: {font: \"STIX-Web\"}});}</script><script>requirejs.config({paths: { 'plotly': ['https://cdn.plot.ly/plotly-latest.min']},});if(!window._Plotly) {require(['plotly'],function(plotly) {window._Plotly=plotly;});}</script>"
      ]
     },
     "metadata": {},
     "output_type": "display_data"
    }
   ],
   "source": [
    "import plotly.offline as py\n",
    "import plotly.graph_objs as go\n",
    "import pandas as pd\n",
    "import cufflinks as cf\n",
    "import pandas as pd\n",
    "import numpy as np\n",
    "py.init_notebook_mode(connected=True)\n",
    "cf.set_config_file(offline=False, world_readable=True, theme='ggplot')"
   ]
  },
  {
   "cell_type": "code",
   "execution_count": 184,
   "metadata": {},
   "outputs": [],
   "source": [
    "def plot_optimisation(train, test, parameter, parameter_name):\n",
    "    train_trace = go.Scatter(\n",
    "        x = train,\n",
    "        y = parameter,\n",
    "        mode = 'lines',\n",
    "        name = 'train_scores'\n",
    "    )\n",
    "    test_trace = go.Scatter(\n",
    "        x = test,\n",
    "        y = parameter,\n",
    "        mode = 'lines',\n",
    "        name = 'test_scores'\n",
    "    )\n",
    "\n",
    "    data = [train_trace, test_trace]\n",
    "\n",
    "    layout= go.Layout(\n",
    "        title= 'Train et Test scores en fonction du '+parameter_name,\n",
    "        xaxis= dict(title= 'Scores'),\n",
    "        yaxis=dict(title= parameter_name),\n",
    "        showlegend= True\n",
    "    )\n",
    "    fig= go.Figure(data=data, layout=layout)\n",
    "    py.iplot(fig)    "
   ]
  },
  {
   "cell_type": "code",
   "execution_count": 8,
   "metadata": {},
   "outputs": [],
   "source": [
    "import pandas as pd\n",
    "raw = pd.read_csv('data/kc_house_data.csv')\n",
    "raw[['floors', 'zipcode']] = pd.DataFrame(\n",
    "    {\n",
    "        'floors': [floor.replace(\"'\",\"\") for floor in raw.floors.values],\n",
    "        'zipcode': [code.replace(\"'\",\"\") for code in raw.zipcode.values]\n",
    "    }, dtype='float32')\n",
    "raw['date'] = pd.to_datetime(raw['date'])\n",
    "raw['month'] = pd.DatetimeIndex(raw.loc[:,'date']).month\n",
    "raw['year'] = pd.DatetimeIndex(raw.loc[:,'date']).year\n",
    "raw['day'] = pd.DatetimeIndex(raw.loc[:,'date']).day\n",
    "raw = raw[['id',\n",
    " 'price',\n",
    " 'date',\n",
    " 'year',\n",
    " 'month',\n",
    " 'day',\n",
    " 'bedrooms',\n",
    " 'bathrooms',\n",
    " 'sqft_living',\n",
    " 'sqft_lot',\n",
    " 'floors',\n",
    " 'waterfront',\n",
    " 'view',\n",
    " 'condition',\n",
    " 'grade',\n",
    " 'sqft_above',\n",
    " 'sqft_basement',\n",
    " 'yr_built',\n",
    " 'yr_renovated',\n",
    " 'zipcode',\n",
    " 'lat',\n",
    " 'long',\n",
    " 'sqft_living15',\n",
    " 'sqft_lot15',\n",
    "]]\n",
    "data = {\n",
    "    feature: raw[feature].values for feature in raw.columns[3:]\n",
    "}\n",
    "\n",
    "X = pd.DataFrame(\n",
    "    data=data,\n",
    "    index=raw['id'].values, \n",
    ")\n",
    "y = pd.DataFrame(\n",
    "    raw.price.values,\n",
    "    columns=['price'],\n",
    "    index=raw['id'].values, \n",
    ")"
   ]
  },
  {
   "cell_type": "code",
   "execution_count": 9,
   "metadata": {},
   "outputs": [],
   "source": [
    "from sklearn.model_selection import train_test_split\n",
    "X_train, X_test, y_train, y_test = train_test_split(X, y,test_size=0.33, random_state=0)"
   ]
  },
  {
   "cell_type": "markdown",
   "metadata": {},
   "source": [
    "## AdaBoost"
   ]
  },
  {
   "cell_type": "code",
   "execution_count": 12,
   "metadata": {},
   "outputs": [
    {
     "name": "stderr",
     "output_type": "stream",
     "text": [
      "/home/djamel/.local/lib/python3.6/site-packages/sklearn/utils/validation.py:752: DataConversionWarning: A column-vector y was passed when a 1d array was expected. Please change the shape of y to (n_samples, ), for example using ravel().\n",
      "  y = column_or_1d(y, warn=True)\n"
     ]
    },
    {
     "name": "stdout",
     "output_type": "stream",
     "text": [
      "Train score : 0.39465\tTest score : 0.38879\n"
     ]
    }
   ],
   "source": [
    "import numpy as np\n",
    "import matplotlib.pyplot as plt\n",
    "from sklearn.tree import DecisionTreeRegressor\n",
    "from sklearn.ensemble import AdaBoostRegressor\n",
    "\n",
    "# Create the dataset\n",
    "rng = np.random.RandomState(1)\n",
    "\n",
    "reg = AdaBoostRegressor(DecisionTreeRegressor(max_depth=4),\n",
    "                          n_estimators=300, random_state=rng)\n",
    "reg.fit(X_train, y_train)\n",
    "\n",
    "train_score = reg.score(X_train, y_train)\n",
    "test_score = reg.score(X_test, y_test)\n",
    "\n",
    "print('Train score : {}\\tTest score : {}'\n",
    "      .format(round(train_score,5), round(test_score,5)))"
   ]
  },
  {
   "cell_type": "markdown",
   "metadata": {},
   "source": [
    "## Gradient Tree Boosting"
   ]
  },
  {
   "cell_type": "markdown",
   "metadata": {},
   "source": [
    "### Selection de la meilleure fonction cout"
   ]
  },
  {
   "cell_type": "code",
   "execution_count": 155,
   "metadata": {},
   "outputs": [
    {
     "data": {
      "application/vnd.plotly.v1+json": {
       "config": {
        "linkText": "Export to plot.ly",
        "plotlyServerURL": "https://plot.ly",
        "showLink": true
       },
       "data": [
        {
         "mode": "lines",
         "name": "train_scores",
         "type": "scatter",
         "uid": "ec9eebfa-fbe9-44e7-b87c-bc732488b633",
         "x": [
          0.902562,
          0.792786,
          0.869073,
          0.756102
         ],
         "y": [
          10,
          50,
          100,
          500,
          1000
         ]
        },
        {
         "mode": "lines",
         "name": "test_scores",
         "type": "scatter",
         "uid": "e91fa076-672c-4b15-82fb-b112343f3e16",
         "x": [
          0.843449,
          0.732701,
          0.805467,
          0.726826
         ],
         "y": [
          10,
          50,
          100,
          500,
          1000
         ]
        }
       ],
       "layout": {
        "showlegend": true,
        "title": "Train et Test scores en fonction du loss_function",
        "xaxis": {
         "title": "Scores"
        },
        "yaxis": {
         "title": "loss_function"
        }
       }
      },
      "text/html": [
       "<div id=\"d7a340db-6395-4214-87cc-40516cfaca71\" style=\"height: 525px; width: 100%;\" class=\"plotly-graph-div\"></div><script type=\"text/javascript\">require([\"plotly\"], function(Plotly) { window.PLOTLYENV=window.PLOTLYENV || {};window.PLOTLYENV.BASE_URL=\"https://plot.ly\";Plotly.newPlot(\"d7a340db-6395-4214-87cc-40516cfaca71\", [{\"mode\": \"lines\", \"name\": \"train_scores\", \"x\": [0.902562, 0.792786, 0.869073, 0.756102], \"y\": [10, 50, 100, 500, 1000], \"type\": \"scatter\", \"uid\": \"ec9eebfa-fbe9-44e7-b87c-bc732488b633\"}, {\"mode\": \"lines\", \"name\": \"test_scores\", \"x\": [0.843449, 0.732701, 0.805467, 0.726826], \"y\": [10, 50, 100, 500, 1000], \"type\": \"scatter\", \"uid\": \"e91fa076-672c-4b15-82fb-b112343f3e16\"}], {\"showlegend\": true, \"title\": \"Train et Test scores en fonction du loss_function\", \"xaxis\": {\"title\": \"Scores\"}, \"yaxis\": {\"title\": \"loss_function\"}}, {\"showLink\": true, \"linkText\": \"Export to plot.ly\", \"plotlyServerURL\": \"https://plot.ly\"})});</script><script type=\"text/javascript\">window.addEventListener(\"resize\", function(){window._Plotly.Plots.resize(document.getElementById(\"d7a340db-6395-4214-87cc-40516cfaca71\"));});</script>"
      ],
      "text/vnd.plotly.v1+html": [
       "<div id=\"d7a340db-6395-4214-87cc-40516cfaca71\" style=\"height: 525px; width: 100%;\" class=\"plotly-graph-div\"></div><script type=\"text/javascript\">require([\"plotly\"], function(Plotly) { window.PLOTLYENV=window.PLOTLYENV || {};window.PLOTLYENV.BASE_URL=\"https://plot.ly\";Plotly.newPlot(\"d7a340db-6395-4214-87cc-40516cfaca71\", [{\"mode\": \"lines\", \"name\": \"train_scores\", \"x\": [0.902562, 0.792786, 0.869073, 0.756102], \"y\": [10, 50, 100, 500, 1000], \"type\": \"scatter\", \"uid\": \"ec9eebfa-fbe9-44e7-b87c-bc732488b633\"}, {\"mode\": \"lines\", \"name\": \"test_scores\", \"x\": [0.843449, 0.732701, 0.805467, 0.726826], \"y\": [10, 50, 100, 500, 1000], \"type\": \"scatter\", \"uid\": \"e91fa076-672c-4b15-82fb-b112343f3e16\"}], {\"showlegend\": true, \"title\": \"Train et Test scores en fonction du loss_function\", \"xaxis\": {\"title\": \"Scores\"}, \"yaxis\": {\"title\": \"loss_function\"}}, {\"showLink\": true, \"linkText\": \"Export to plot.ly\", \"plotlyServerURL\": \"https://plot.ly\"})});</script><script type=\"text/javascript\">window.addEventListener(\"resize\", function(){window._Plotly.Plots.resize(document.getElementById(\"d7a340db-6395-4214-87cc-40516cfaca71\"));});</script>"
      ]
     },
     "metadata": {},
     "output_type": "display_data"
    }
   ],
   "source": [
    "import numpy as np\n",
    "import matplotlib.pyplot as plt\n",
    "\n",
    "from sklearn import ensemble\n",
    "from sklearn.utils import shuffle\n",
    "from sklearn.metrics import mean_squared_error\n",
    "\n",
    "# Fit regression model\n",
    "loss_functions = ['ls', 'lad', 'huber', 'quantile']\n",
    "train_scores =[]\n",
    "test_scores=[]\n",
    "\n",
    "for fct in loss_functions:\n",
    "    params = {'n_estimators': 500, 'max_depth': 4, 'min_samples_split': 2,\n",
    "              'learning_rate': 0.01, 'loss': fct}\n",
    "\n",
    "    reg = ensemble.GradientBoostingRegressor(**params)\n",
    "\n",
    "    reg.fit(X_train, y_train.price.values)\n",
    "\n",
    "    train_score = reg.score(X_train, y_train.price.values)\n",
    "    test_score = reg.score(X_test, y_test.price.values)\n",
    "    train_scores.append(round(train_score, 6))        \n",
    "    test_scores.append(round(test_score, 6))        \n",
    "\n",
    "plot_optimisation(train_scores, test_scores, n_estimators, 'loss_function') "
   ]
  },
  {
   "cell_type": "markdown",
   "metadata": {},
   "source": [
    "### Selection du meilleur nombre d'iteration"
   ]
  },
  {
   "cell_type": "code",
   "execution_count": 154,
   "metadata": {
    "scrolled": false
   },
   "outputs": [
    {
     "data": {
      "application/vnd.plotly.v1+json": {
       "config": {
        "linkText": "Export to plot.ly",
        "plotlyServerURL": "https://plot.ly",
        "showLink": true
       },
       "data": [
        {
         "mode": "lines",
         "name": "train_scores",
         "type": "scatter",
         "uid": "1b5bae75-b605-4777-9e19-958d3fe01909",
         "x": [
          0.1261,
          0.461491,
          0.666452,
          0.902562,
          0.926031
         ],
         "y": [
          10,
          50,
          100,
          500,
          1000
         ]
        },
        {
         "mode": "lines",
         "name": "test_scores",
         "type": "scatter",
         "uid": "58d14a67-605a-4f78-88ec-aa1daf7d9164",
         "x": [
          0.11197,
          0.41916,
          0.607957,
          0.843442,
          0.864719
         ],
         "y": [
          10,
          50,
          100,
          500,
          1000
         ]
        }
       ],
       "layout": {
        "showlegend": true,
        "title": "Train et Test scores en fonction du n_estimators",
        "xaxis": {
         "title": "Scores"
        },
        "yaxis": {
         "title": "n_estimators"
        }
       }
      },
      "text/html": [
       "<div id=\"ba53440c-c7f3-4bb5-bfec-b8a7e9bb91e4\" style=\"height: 525px; width: 100%;\" class=\"plotly-graph-div\"></div><script type=\"text/javascript\">require([\"plotly\"], function(Plotly) { window.PLOTLYENV=window.PLOTLYENV || {};window.PLOTLYENV.BASE_URL=\"https://plot.ly\";Plotly.newPlot(\"ba53440c-c7f3-4bb5-bfec-b8a7e9bb91e4\", [{\"mode\": \"lines\", \"name\": \"train_scores\", \"x\": [0.1261, 0.461491, 0.666452, 0.902562, 0.926031], \"y\": [10, 50, 100, 500, 1000], \"type\": \"scatter\", \"uid\": \"1b5bae75-b605-4777-9e19-958d3fe01909\"}, {\"mode\": \"lines\", \"name\": \"test_scores\", \"x\": [0.11197, 0.41916, 0.607957, 0.843442, 0.864719], \"y\": [10, 50, 100, 500, 1000], \"type\": \"scatter\", \"uid\": \"58d14a67-605a-4f78-88ec-aa1daf7d9164\"}], {\"showlegend\": true, \"title\": \"Train et Test scores en fonction du n_estimators\", \"xaxis\": {\"title\": \"Scores\"}, \"yaxis\": {\"title\": \"n_estimators\"}}, {\"showLink\": true, \"linkText\": \"Export to plot.ly\", \"plotlyServerURL\": \"https://plot.ly\"})});</script><script type=\"text/javascript\">window.addEventListener(\"resize\", function(){window._Plotly.Plots.resize(document.getElementById(\"ba53440c-c7f3-4bb5-bfec-b8a7e9bb91e4\"));});</script>"
      ],
      "text/vnd.plotly.v1+html": [
       "<div id=\"ba53440c-c7f3-4bb5-bfec-b8a7e9bb91e4\" style=\"height: 525px; width: 100%;\" class=\"plotly-graph-div\"></div><script type=\"text/javascript\">require([\"plotly\"], function(Plotly) { window.PLOTLYENV=window.PLOTLYENV || {};window.PLOTLYENV.BASE_URL=\"https://plot.ly\";Plotly.newPlot(\"ba53440c-c7f3-4bb5-bfec-b8a7e9bb91e4\", [{\"mode\": \"lines\", \"name\": \"train_scores\", \"x\": [0.1261, 0.461491, 0.666452, 0.902562, 0.926031], \"y\": [10, 50, 100, 500, 1000], \"type\": \"scatter\", \"uid\": \"1b5bae75-b605-4777-9e19-958d3fe01909\"}, {\"mode\": \"lines\", \"name\": \"test_scores\", \"x\": [0.11197, 0.41916, 0.607957, 0.843442, 0.864719], \"y\": [10, 50, 100, 500, 1000], \"type\": \"scatter\", \"uid\": \"58d14a67-605a-4f78-88ec-aa1daf7d9164\"}], {\"showlegend\": true, \"title\": \"Train et Test scores en fonction du n_estimators\", \"xaxis\": {\"title\": \"Scores\"}, \"yaxis\": {\"title\": \"n_estimators\"}}, {\"showLink\": true, \"linkText\": \"Export to plot.ly\", \"plotlyServerURL\": \"https://plot.ly\"})});</script><script type=\"text/javascript\">window.addEventListener(\"resize\", function(){window._Plotly.Plots.resize(document.getElementById(\"ba53440c-c7f3-4bb5-bfec-b8a7e9bb91e4\"));});</script>"
      ]
     },
     "metadata": {},
     "output_type": "display_data"
    }
   ],
   "source": [
    "n_estimators =[]\n",
    "train_scores =[]\n",
    "test_scores=[]\n",
    "\n",
    "for n in [10, 50, 100, 500, 1000]:\n",
    "    params = {'n_estimators': n, 'max_depth': 4, 'min_samples_split': 2,\n",
    "              'learning_rate': 0.01, 'loss': 'ls'}\n",
    "\n",
    "    reg = ensemble.GradientBoostingRegressor(**params)\n",
    "\n",
    "    reg.fit(X_train, y_train.price.values)\n",
    "\n",
    "    train_score = reg.score(X_train, y_train.price.values)\n",
    "    test_score = reg.score(X_test, y_test.price.values)\n",
    "    n_estimators.append(n)\n",
    "    train_scores.append(round(train_score, 6))        \n",
    "    test_scores.append(round(test_score, 6))        \n",
    "\n",
    "plot_optimisation(train_scores, test_scores, n_estimators, 'n_estimators') "
   ]
  },
  {
   "cell_type": "code",
   "execution_count": 159,
   "metadata": {},
   "outputs": [
    {
     "data": {
      "application/vnd.plotly.v1+json": {
       "config": {
        "linkText": "Export to plot.ly",
        "plotlyServerURL": "https://plot.ly",
        "showLink": true
       },
       "data": [
        {
         "mode": "lines",
         "name": "train_scores",
         "type": "scatter",
         "uid": "f79fb384-d480-4009-9e27-e68d680e6eb4",
         "x": [
          0.8179973789367251,
          0.8179503107109738,
          0.8179503107109738,
          0.818020526562256,
          0.818020526562256,
          0.8176521395259915,
          0.8176521395259915,
          0.8175601121332755
         ],
         "y": [
          2,
          3,
          4,
          5,
          6,
          7,
          8,
          9
         ]
        },
        {
         "mode": "lines",
         "name": "test_scores",
         "type": "scatter",
         "uid": "dcc09aa7-3e7f-4335-82e1-db112db30f9d",
         "x": [
          0.7539516341780449,
          0.7538362903937532,
          0.7538937462967061,
          0.7537923052556322,
          0.753437897031406,
          0.7532146180132253,
          0.7531606213613626,
          0.7529599030607739
         ],
         "y": [
          2,
          3,
          4,
          5,
          6,
          7,
          8,
          9
         ]
        }
       ],
       "layout": {
        "showlegend": true,
        "title": "Train et Test scores en fonction du min_samples_split",
        "xaxis": {
         "title": "Scores"
        },
        "yaxis": {
         "title": "min_samples_split"
        }
       }
      },
      "text/html": [
       "<div id=\"b424cfff-e61d-4fcb-9ae0-e9e7b2e6d0f0\" style=\"height: 525px; width: 100%;\" class=\"plotly-graph-div\"></div><script type=\"text/javascript\">require([\"plotly\"], function(Plotly) { window.PLOTLYENV=window.PLOTLYENV || {};window.PLOTLYENV.BASE_URL=\"https://plot.ly\";Plotly.newPlot(\"b424cfff-e61d-4fcb-9ae0-e9e7b2e6d0f0\", [{\"mode\": \"lines\", \"name\": \"train_scores\", \"x\": [0.8179973789367251, 0.8179503107109738, 0.8179503107109738, 0.818020526562256, 0.818020526562256, 0.8176521395259915, 0.8176521395259915, 0.8175601121332755], \"y\": [2, 3, 4, 5, 6, 7, 8, 9], \"type\": \"scatter\", \"uid\": \"f79fb384-d480-4009-9e27-e68d680e6eb4\"}, {\"mode\": \"lines\", \"name\": \"test_scores\", \"x\": [0.7539516341780449, 0.7538362903937532, 0.7538937462967061, 0.7537923052556322, 0.753437897031406, 0.7532146180132253, 0.7531606213613626, 0.7529599030607739], \"y\": [2, 3, 4, 5, 6, 7, 8, 9], \"type\": \"scatter\", \"uid\": \"dcc09aa7-3e7f-4335-82e1-db112db30f9d\"}], {\"showlegend\": true, \"title\": \"Train et Test scores en fonction du min_samples_split\", \"xaxis\": {\"title\": \"Scores\"}, \"yaxis\": {\"title\": \"min_samples_split\"}}, {\"showLink\": true, \"linkText\": \"Export to plot.ly\", \"plotlyServerURL\": \"https://plot.ly\"})});</script><script type=\"text/javascript\">window.addEventListener(\"resize\", function(){window._Plotly.Plots.resize(document.getElementById(\"b424cfff-e61d-4fcb-9ae0-e9e7b2e6d0f0\"));});</script>"
      ],
      "text/vnd.plotly.v1+html": [
       "<div id=\"b424cfff-e61d-4fcb-9ae0-e9e7b2e6d0f0\" style=\"height: 525px; width: 100%;\" class=\"plotly-graph-div\"></div><script type=\"text/javascript\">require([\"plotly\"], function(Plotly) { window.PLOTLYENV=window.PLOTLYENV || {};window.PLOTLYENV.BASE_URL=\"https://plot.ly\";Plotly.newPlot(\"b424cfff-e61d-4fcb-9ae0-e9e7b2e6d0f0\", [{\"mode\": \"lines\", \"name\": \"train_scores\", \"x\": [0.8179973789367251, 0.8179503107109738, 0.8179503107109738, 0.818020526562256, 0.818020526562256, 0.8176521395259915, 0.8176521395259915, 0.8175601121332755], \"y\": [2, 3, 4, 5, 6, 7, 8, 9], \"type\": \"scatter\", \"uid\": \"f79fb384-d480-4009-9e27-e68d680e6eb4\"}, {\"mode\": \"lines\", \"name\": \"test_scores\", \"x\": [0.7539516341780449, 0.7538362903937532, 0.7538937462967061, 0.7537923052556322, 0.753437897031406, 0.7532146180132253, 0.7531606213613626, 0.7529599030607739], \"y\": [2, 3, 4, 5, 6, 7, 8, 9], \"type\": \"scatter\", \"uid\": \"dcc09aa7-3e7f-4335-82e1-db112db30f9d\"}], {\"showlegend\": true, \"title\": \"Train et Test scores en fonction du min_samples_split\", \"xaxis\": {\"title\": \"Scores\"}, \"yaxis\": {\"title\": \"min_samples_split\"}}, {\"showLink\": true, \"linkText\": \"Export to plot.ly\", \"plotlyServerURL\": \"https://plot.ly\"})});</script><script type=\"text/javascript\">window.addEventListener(\"resize\", function(){window._Plotly.Plots.resize(document.getElementById(\"b424cfff-e61d-4fcb-9ae0-e9e7b2e6d0f0\"));});</script>"
      ]
     },
     "metadata": {},
     "output_type": "display_data"
    }
   ],
   "source": [
    "min_samples_splits =[]\n",
    "train_scores =[]\n",
    "test_scores=[]\n",
    "\n",
    "for n in np.arange(2, 10, 1):\n",
    "    params = {'n_estimators': 200, 'max_depth': 4, 'min_samples_split': n,\n",
    "              'learning_rate': 0.01, 'loss': 'ls'}\n",
    "\n",
    "    reg = ensemble.GradientBoostingRegressor(**params)\n",
    "\n",
    "    reg.fit(X_train, y_train.price.values)\n",
    "\n",
    "    train_score = reg.score(X_train, y_train.price.values)\n",
    "    test_score = reg.score(X_test, y_test.price.values)\n",
    "    min_samples_splits.append(n)\n",
    "    train_scores.append(train_score)        \n",
    "    test_scores.append(test_score)    \n",
    "    \n",
    "plot_optimisation(train_scores, test_scores, min_samples_splits, 'min_samples_split') "
   ]
  },
  {
   "cell_type": "code",
   "execution_count": 158,
   "metadata": {},
   "outputs": [
    {
     "data": {
      "text/plain": [
       "[2, 3]"
      ]
     },
     "execution_count": 158,
     "metadata": {},
     "output_type": "execute_result"
    }
   ],
   "source": [
    "min_samples_splits"
   ]
  },
  {
   "cell_type": "code",
   "execution_count": 185,
   "metadata": {},
   "outputs": [
    {
     "data": {
      "application/vnd.plotly.v1+json": {
       "config": {
        "linkText": "Export to plot.ly",
        "plotlyServerURL": "https://plot.ly",
        "showLink": true
       },
       "data": [
        {
         "mode": "lines",
         "name": "train_scores",
         "type": "scatter",
         "uid": "920dbc4a-a96d-45eb-8fea-2ffa5c664cbd",
         "x": [
          0.6664518788876992,
          0.9096062804533406,
          0.9286030814944077,
          0.9385505961766674,
          0.9457555396598399,
          0.9503847985651928,
          0.9543877782911401,
          0.9560073629702911,
          0.9599052326668355,
          0.9610854773815406,
          0.9627676396799832,
          0.9634348986748408,
          0.9642403760481616,
          0.9646946679527995,
          0.9646631644544664,
          0.9640307249765908,
          0.963446398911828,
          0.9658052676289379,
          0.9675356522640353,
          0.9652153593841944
         ],
         "y": [
          0.01,
          0.060000000000000005,
          0.11,
          0.16000000000000003,
          0.21000000000000002,
          0.26,
          0.31000000000000005,
          0.36000000000000004,
          0.41000000000000003,
          0.46,
          0.51,
          0.56,
          0.6100000000000001,
          0.66,
          0.7100000000000001,
          0.76,
          0.81,
          0.8600000000000001,
          0.91,
          0.9600000000000001
         ]
        },
        {
         "mode": "lines",
         "name": "test_scores",
         "type": "scatter",
         "uid": "d83b94bd-0d77-42f4-854d-5ffcfd0d83a5",
         "x": [
          0.6079574151340312,
          0.8541706278337355,
          0.8672456469874092,
          0.8683297926045861,
          0.8670920113083289,
          0.8633461394919332,
          0.8629542233999589,
          0.8673901408441709,
          0.8567027896257077,
          0.8661289100574643,
          0.8547694448447051,
          0.8521946010324041,
          0.824503912983385,
          0.8390024603551127,
          0.8364105489921774,
          0.8113253173447982,
          0.8166292130026713,
          0.8048687403241733,
          0.7907117591399428,
          0.782765938355643
         ],
         "y": [
          0.01,
          0.060000000000000005,
          0.11,
          0.16000000000000003,
          0.21000000000000002,
          0.26,
          0.31000000000000005,
          0.36000000000000004,
          0.41000000000000003,
          0.46,
          0.51,
          0.56,
          0.6100000000000001,
          0.66,
          0.7100000000000001,
          0.76,
          0.81,
          0.8600000000000001,
          0.91,
          0.9600000000000001
         ]
        }
       ],
       "layout": {
        "showlegend": true,
        "title": "Train et Test scores en fonction du Learning_rate",
        "xaxis": {
         "title": "Scores"
        },
        "yaxis": {
         "title": "Learning_rate"
        }
       }
      },
      "text/html": [
       "<div id=\"53b99c9b-96c1-4427-93ae-ebf889085fd8\" style=\"height: 525px; width: 100%;\" class=\"plotly-graph-div\"></div><script type=\"text/javascript\">require([\"plotly\"], function(Plotly) { window.PLOTLYENV=window.PLOTLYENV || {};window.PLOTLYENV.BASE_URL=\"https://plot.ly\";Plotly.newPlot(\"53b99c9b-96c1-4427-93ae-ebf889085fd8\", [{\"mode\": \"lines\", \"name\": \"train_scores\", \"x\": [0.6664518788876992, 0.9096062804533406, 0.9286030814944077, 0.9385505961766674, 0.9457555396598399, 0.9503847985651928, 0.9543877782911401, 0.9560073629702911, 0.9599052326668355, 0.9610854773815406, 0.9627676396799832, 0.9634348986748408, 0.9642403760481616, 0.9646946679527995, 0.9646631644544664, 0.9640307249765908, 0.963446398911828, 0.9658052676289379, 0.9675356522640353, 0.9652153593841944], \"y\": [0.01, 0.060000000000000005, 0.11, 0.16000000000000003, 0.21000000000000002, 0.26, 0.31000000000000005, 0.36000000000000004, 0.41000000000000003, 0.46, 0.51, 0.56, 0.6100000000000001, 0.66, 0.7100000000000001, 0.76, 0.81, 0.8600000000000001, 0.91, 0.9600000000000001], \"type\": \"scatter\", \"uid\": \"920dbc4a-a96d-45eb-8fea-2ffa5c664cbd\"}, {\"mode\": \"lines\", \"name\": \"test_scores\", \"x\": [0.6079574151340312, 0.8541706278337355, 0.8672456469874092, 0.8683297926045861, 0.8670920113083289, 0.8633461394919332, 0.8629542233999589, 0.8673901408441709, 0.8567027896257077, 0.8661289100574643, 0.8547694448447051, 0.8521946010324041, 0.824503912983385, 0.8390024603551127, 0.8364105489921774, 0.8113253173447982, 0.8166292130026713, 0.8048687403241733, 0.7907117591399428, 0.782765938355643], \"y\": [0.01, 0.060000000000000005, 0.11, 0.16000000000000003, 0.21000000000000002, 0.26, 0.31000000000000005, 0.36000000000000004, 0.41000000000000003, 0.46, 0.51, 0.56, 0.6100000000000001, 0.66, 0.7100000000000001, 0.76, 0.81, 0.8600000000000001, 0.91, 0.9600000000000001], \"type\": \"scatter\", \"uid\": \"d83b94bd-0d77-42f4-854d-5ffcfd0d83a5\"}], {\"showlegend\": true, \"title\": \"Train et Test scores en fonction du Learning_rate\", \"xaxis\": {\"title\": \"Scores\"}, \"yaxis\": {\"title\": \"Learning_rate\"}}, {\"showLink\": true, \"linkText\": \"Export to plot.ly\", \"plotlyServerURL\": \"https://plot.ly\"})});</script><script type=\"text/javascript\">window.addEventListener(\"resize\", function(){window._Plotly.Plots.resize(document.getElementById(\"53b99c9b-96c1-4427-93ae-ebf889085fd8\"));});</script>"
      ],
      "text/vnd.plotly.v1+html": [
       "<div id=\"53b99c9b-96c1-4427-93ae-ebf889085fd8\" style=\"height: 525px; width: 100%;\" class=\"plotly-graph-div\"></div><script type=\"text/javascript\">require([\"plotly\"], function(Plotly) { window.PLOTLYENV=window.PLOTLYENV || {};window.PLOTLYENV.BASE_URL=\"https://plot.ly\";Plotly.newPlot(\"53b99c9b-96c1-4427-93ae-ebf889085fd8\", [{\"mode\": \"lines\", \"name\": \"train_scores\", \"x\": [0.6664518788876992, 0.9096062804533406, 0.9286030814944077, 0.9385505961766674, 0.9457555396598399, 0.9503847985651928, 0.9543877782911401, 0.9560073629702911, 0.9599052326668355, 0.9610854773815406, 0.9627676396799832, 0.9634348986748408, 0.9642403760481616, 0.9646946679527995, 0.9646631644544664, 0.9640307249765908, 0.963446398911828, 0.9658052676289379, 0.9675356522640353, 0.9652153593841944], \"y\": [0.01, 0.060000000000000005, 0.11, 0.16000000000000003, 0.21000000000000002, 0.26, 0.31000000000000005, 0.36000000000000004, 0.41000000000000003, 0.46, 0.51, 0.56, 0.6100000000000001, 0.66, 0.7100000000000001, 0.76, 0.81, 0.8600000000000001, 0.91, 0.9600000000000001], \"type\": \"scatter\", \"uid\": \"920dbc4a-a96d-45eb-8fea-2ffa5c664cbd\"}, {\"mode\": \"lines\", \"name\": \"test_scores\", \"x\": [0.6079574151340312, 0.8541706278337355, 0.8672456469874092, 0.8683297926045861, 0.8670920113083289, 0.8633461394919332, 0.8629542233999589, 0.8673901408441709, 0.8567027896257077, 0.8661289100574643, 0.8547694448447051, 0.8521946010324041, 0.824503912983385, 0.8390024603551127, 0.8364105489921774, 0.8113253173447982, 0.8166292130026713, 0.8048687403241733, 0.7907117591399428, 0.782765938355643], \"y\": [0.01, 0.060000000000000005, 0.11, 0.16000000000000003, 0.21000000000000002, 0.26, 0.31000000000000005, 0.36000000000000004, 0.41000000000000003, 0.46, 0.51, 0.56, 0.6100000000000001, 0.66, 0.7100000000000001, 0.76, 0.81, 0.8600000000000001, 0.91, 0.9600000000000001], \"type\": \"scatter\", \"uid\": \"d83b94bd-0d77-42f4-854d-5ffcfd0d83a5\"}], {\"showlegend\": true, \"title\": \"Train et Test scores en fonction du Learning_rate\", \"xaxis\": {\"title\": \"Scores\"}, \"yaxis\": {\"title\": \"Learning_rate\"}}, {\"showLink\": true, \"linkText\": \"Export to plot.ly\", \"plotlyServerURL\": \"https://plot.ly\"})});</script><script type=\"text/javascript\">window.addEventListener(\"resize\", function(){window._Plotly.Plots.resize(document.getElementById(\"53b99c9b-96c1-4427-93ae-ebf889085fd8\"));});</script>"
      ]
     },
     "metadata": {},
     "output_type": "display_data"
    }
   ],
   "source": [
    "rates =[]\n",
    "train_scores =[]\n",
    "test_scores=[]\n",
    "\n",
    "for rate in np.arange(0.01, 1, 0.05):\n",
    "    params = {'n_estimators': 100, 'max_depth': 4, 'min_samples_split': 2,\n",
    "              'learning_rate': rate, 'loss': 'ls'}\n",
    "\n",
    "    reg = ensemble.GradientBoostingRegressor(**params)\n",
    "\n",
    "    reg.fit(X_train, y_train.price.values)\n",
    "\n",
    "    train_score = reg.score(X_train, y_train.price.values)\n",
    "    test_score = reg.score(X_test, y_test.price.values)\n",
    "    rates.append(rate)\n",
    "    train_scores.append(train_score)        \n",
    "    test_scores.append(test_score)    \n",
    "    \n",
    "plot_optimisation(train_scores, test_scores, rates, 'Learning_rate')     \n"
   ]
  },
  {
   "cell_type": "code",
   "execution_count": 186,
   "metadata": {},
   "outputs": [
    {
     "data": {
      "application/vnd.plotly.v1+json": {
       "config": {
        "linkText": "Export to plot.ly",
        "plotlyServerURL": "https://plot.ly",
        "showLink": true
       },
       "data": [
        {
         "mode": "lines",
         "name": "train_scores",
         "type": "scatter",
         "uid": "c03f483f-03fe-4985-8707-42e6bfb3e35e",
         "x": [
          0.9151153524819235,
          0.9385505961766674,
          0.9585743903104341,
          0.971120930115213,
          0.9820009790874499,
          0.9899632513078922,
          0.9948556879293953
         ],
         "y": [
          3,
          4,
          5,
          6,
          7,
          8,
          9
         ]
        },
        {
         "mode": "lines",
         "name": "test_scores",
         "type": "scatter",
         "uid": "f132e1ce-fb51-48c5-a161-d6c27df845b6",
         "x": [
          0.8581000786591554,
          0.8683241306226323,
          0.8771487293994255,
          0.8740708748198105,
          0.8755359707802303,
          0.8660549706967353,
          0.8628886695407133
         ],
         "y": [
          3,
          4,
          5,
          6,
          7,
          8,
          9
         ]
        }
       ],
       "layout": {
        "showlegend": true,
        "title": "Train et Test scores en fonction du max_depth",
        "xaxis": {
         "title": "Scores"
        },
        "yaxis": {
         "title": "max_depth"
        }
       }
      },
      "text/html": [
       "<div id=\"66b115b8-68b6-4e1d-b4c7-c95787fb29aa\" style=\"height: 525px; width: 100%;\" class=\"plotly-graph-div\"></div><script type=\"text/javascript\">require([\"plotly\"], function(Plotly) { window.PLOTLYENV=window.PLOTLYENV || {};window.PLOTLYENV.BASE_URL=\"https://plot.ly\";Plotly.newPlot(\"66b115b8-68b6-4e1d-b4c7-c95787fb29aa\", [{\"mode\": \"lines\", \"name\": \"train_scores\", \"x\": [0.9151153524819235, 0.9385505961766674, 0.9585743903104341, 0.971120930115213, 0.9820009790874499, 0.9899632513078922, 0.9948556879293953], \"y\": [3, 4, 5, 6, 7, 8, 9], \"type\": \"scatter\", \"uid\": \"c03f483f-03fe-4985-8707-42e6bfb3e35e\"}, {\"mode\": \"lines\", \"name\": \"test_scores\", \"x\": [0.8581000786591554, 0.8683241306226323, 0.8771487293994255, 0.8740708748198105, 0.8755359707802303, 0.8660549706967353, 0.8628886695407133], \"y\": [3, 4, 5, 6, 7, 8, 9], \"type\": \"scatter\", \"uid\": \"f132e1ce-fb51-48c5-a161-d6c27df845b6\"}], {\"showlegend\": true, \"title\": \"Train et Test scores en fonction du max_depth\", \"xaxis\": {\"title\": \"Scores\"}, \"yaxis\": {\"title\": \"max_depth\"}}, {\"showLink\": true, \"linkText\": \"Export to plot.ly\", \"plotlyServerURL\": \"https://plot.ly\"})});</script><script type=\"text/javascript\">window.addEventListener(\"resize\", function(){window._Plotly.Plots.resize(document.getElementById(\"66b115b8-68b6-4e1d-b4c7-c95787fb29aa\"));});</script>"
      ],
      "text/vnd.plotly.v1+html": [
       "<div id=\"66b115b8-68b6-4e1d-b4c7-c95787fb29aa\" style=\"height: 525px; width: 100%;\" class=\"plotly-graph-div\"></div><script type=\"text/javascript\">require([\"plotly\"], function(Plotly) { window.PLOTLYENV=window.PLOTLYENV || {};window.PLOTLYENV.BASE_URL=\"https://plot.ly\";Plotly.newPlot(\"66b115b8-68b6-4e1d-b4c7-c95787fb29aa\", [{\"mode\": \"lines\", \"name\": \"train_scores\", \"x\": [0.9151153524819235, 0.9385505961766674, 0.9585743903104341, 0.971120930115213, 0.9820009790874499, 0.9899632513078922, 0.9948556879293953], \"y\": [3, 4, 5, 6, 7, 8, 9], \"type\": \"scatter\", \"uid\": \"c03f483f-03fe-4985-8707-42e6bfb3e35e\"}, {\"mode\": \"lines\", \"name\": \"test_scores\", \"x\": [0.8581000786591554, 0.8683241306226323, 0.8771487293994255, 0.8740708748198105, 0.8755359707802303, 0.8660549706967353, 0.8628886695407133], \"y\": [3, 4, 5, 6, 7, 8, 9], \"type\": \"scatter\", \"uid\": \"f132e1ce-fb51-48c5-a161-d6c27df845b6\"}], {\"showlegend\": true, \"title\": \"Train et Test scores en fonction du max_depth\", \"xaxis\": {\"title\": \"Scores\"}, \"yaxis\": {\"title\": \"max_depth\"}}, {\"showLink\": true, \"linkText\": \"Export to plot.ly\", \"plotlyServerURL\": \"https://plot.ly\"})});</script><script type=\"text/javascript\">window.addEventListener(\"resize\", function(){window._Plotly.Plots.resize(document.getElementById(\"66b115b8-68b6-4e1d-b4c7-c95787fb29aa\"));});</script>"
      ]
     },
     "metadata": {},
     "output_type": "display_data"
    }
   ],
   "source": [
    "max_depths =[]\n",
    "train_scores =[]\n",
    "test_scores=[]\n",
    "\n",
    "for n in np.arange(3, 10, 1):\n",
    "    params = {'n_estimators': 100, 'max_depth': n, 'min_samples_split': 2,\n",
    "              'learning_rate': 0.16, 'loss': 'ls'}\n",
    "\n",
    "    reg = ensemble.GradientBoostingRegressor(**params)\n",
    "\n",
    "    reg.fit(X_train, y_train.price.values)\n",
    "\n",
    "    train_score = reg.score(X_train, y_train.price.values)\n",
    "    test_score = reg.score(X_test, y_test.price.values)\n",
    "    max_depths.append(n)\n",
    "    train_scores.append(train_score)        \n",
    "    test_scores.append(test_score)    \n",
    "    \n",
    "plot_optimisation(train_scores, test_scores, max_depths, 'max_depth')     \n"
   ]
  },
  {
   "cell_type": "code",
   "execution_count": 187,
   "metadata": {},
   "outputs": [
    {
     "data": {
      "application/vnd.plotly.v1+json": {
       "config": {
        "linkText": "Export to plot.ly",
        "plotlyServerURL": "https://plot.ly",
        "showLink": true
       },
       "data": [
        {
         "mode": "lines",
         "name": "train_scores",
         "type": "scatter",
         "uid": "4e3f7822-ec7a-4ed6-877b-e666578115c5",
         "x": [
          0.8880904334011411,
          0.9352800589248127,
          0.9521953164254843,
          0.9551258830893791,
          0.9575705200575687
         ],
         "y": [
          0.1,
          0.30000000000000004,
          0.5000000000000001,
          0.7000000000000001,
          0.9000000000000001
         ]
        },
        {
         "mode": "lines",
         "name": "test_scores",
         "type": "scatter",
         "uid": "4d4917fb-f682-492b-ac69-3de00a42aae5",
         "x": [
          0.8062269114994922,
          0.8522022492714663,
          0.879806989198232,
          0.8759380804691745,
          0.8731102907689925
         ],
         "y": [
          0.1,
          0.30000000000000004,
          0.5000000000000001,
          0.7000000000000001,
          0.9000000000000001
         ]
        }
       ],
       "layout": {
        "showlegend": true,
        "title": "Train et Test scores en fonction du max_depth",
        "xaxis": {
         "title": "Scores"
        },
        "yaxis": {
         "title": "max_depth"
        }
       }
      },
      "text/html": [
       "<div id=\"c515dfe1-d1f5-423e-bd37-c44836efb041\" style=\"height: 525px; width: 100%;\" class=\"plotly-graph-div\"></div><script type=\"text/javascript\">require([\"plotly\"], function(Plotly) { window.PLOTLYENV=window.PLOTLYENV || {};window.PLOTLYENV.BASE_URL=\"https://plot.ly\";Plotly.newPlot(\"c515dfe1-d1f5-423e-bd37-c44836efb041\", [{\"mode\": \"lines\", \"name\": \"train_scores\", \"x\": [0.8880904334011411, 0.9352800589248127, 0.9521953164254843, 0.9551258830893791, 0.9575705200575687], \"y\": [0.1, 0.30000000000000004, 0.5000000000000001, 0.7000000000000001, 0.9000000000000001], \"type\": \"scatter\", \"uid\": \"4e3f7822-ec7a-4ed6-877b-e666578115c5\"}, {\"mode\": \"lines\", \"name\": \"test_scores\", \"x\": [0.8062269114994922, 0.8522022492714663, 0.879806989198232, 0.8759380804691745, 0.8731102907689925], \"y\": [0.1, 0.30000000000000004, 0.5000000000000001, 0.7000000000000001, 0.9000000000000001], \"type\": \"scatter\", \"uid\": \"4d4917fb-f682-492b-ac69-3de00a42aae5\"}], {\"showlegend\": true, \"title\": \"Train et Test scores en fonction du max_depth\", \"xaxis\": {\"title\": \"Scores\"}, \"yaxis\": {\"title\": \"max_depth\"}}, {\"showLink\": true, \"linkText\": \"Export to plot.ly\", \"plotlyServerURL\": \"https://plot.ly\"})});</script><script type=\"text/javascript\">window.addEventListener(\"resize\", function(){window._Plotly.Plots.resize(document.getElementById(\"c515dfe1-d1f5-423e-bd37-c44836efb041\"));});</script>"
      ],
      "text/vnd.plotly.v1+html": [
       "<div id=\"c515dfe1-d1f5-423e-bd37-c44836efb041\" style=\"height: 525px; width: 100%;\" class=\"plotly-graph-div\"></div><script type=\"text/javascript\">require([\"plotly\"], function(Plotly) { window.PLOTLYENV=window.PLOTLYENV || {};window.PLOTLYENV.BASE_URL=\"https://plot.ly\";Plotly.newPlot(\"c515dfe1-d1f5-423e-bd37-c44836efb041\", [{\"mode\": \"lines\", \"name\": \"train_scores\", \"x\": [0.8880904334011411, 0.9352800589248127, 0.9521953164254843, 0.9551258830893791, 0.9575705200575687], \"y\": [0.1, 0.30000000000000004, 0.5000000000000001, 0.7000000000000001, 0.9000000000000001], \"type\": \"scatter\", \"uid\": \"4e3f7822-ec7a-4ed6-877b-e666578115c5\"}, {\"mode\": \"lines\", \"name\": \"test_scores\", \"x\": [0.8062269114994922, 0.8522022492714663, 0.879806989198232, 0.8759380804691745, 0.8731102907689925], \"y\": [0.1, 0.30000000000000004, 0.5000000000000001, 0.7000000000000001, 0.9000000000000001], \"type\": \"scatter\", \"uid\": \"4d4917fb-f682-492b-ac69-3de00a42aae5\"}], {\"showlegend\": true, \"title\": \"Train et Test scores en fonction du max_depth\", \"xaxis\": {\"title\": \"Scores\"}, \"yaxis\": {\"title\": \"max_depth\"}}, {\"showLink\": true, \"linkText\": \"Export to plot.ly\", \"plotlyServerURL\": \"https://plot.ly\"})});</script><script type=\"text/javascript\">window.addEventListener(\"resize\", function(){window._Plotly.Plots.resize(document.getElementById(\"c515dfe1-d1f5-423e-bd37-c44836efb041\"));});</script>"
      ]
     },
     "metadata": {},
     "output_type": "display_data"
    }
   ],
   "source": [
    "subsamples =[]\n",
    "train_scores =[]\n",
    "test_scores=[]\n",
    "\n",
    "for n in np.arange(0.1, 1, 0.2):\n",
    "    params = {'n_estimators': 100, 'max_depth': 5, 'min_samples_split': 2,\n",
    "              'learning_rate': 0.16, 'loss': 'ls', 'subsample': n}\n",
    "\n",
    "    reg = ensemble.GradientBoostingRegressor(**params)\n",
    "\n",
    "    reg.fit(X_train, y_train.price.values)\n",
    "\n",
    "    train_score = reg.score(X_train, y_train.price.values)\n",
    "    test_score = reg.score(X_test, y_test.price.values)\n",
    "    subsamples.append(n)\n",
    "    train_scores.append(train_score)        \n",
    "    test_scores.append(test_score)    \n",
    "    \n",
    "plot_optimisation(train_scores, test_scores, subsamples, 'max_depth')     "
   ]
  },
  {
   "cell_type": "markdown",
   "metadata": {},
   "source": [
    "### Meilleurs parametres"
   ]
  },
  {
   "cell_type": "code",
   "execution_count": 212,
   "metadata": {},
   "outputs": [
    {
     "name": "stdout",
     "output_type": "stream",
     "text": [
      "Train score : 0.98634\tTest score : 0.87775\n"
     ]
    }
   ],
   "source": [
    "params = {'n_estimators': 500, 'max_depth': 5, 'min_samples_split': 2,\n",
    "          'learning_rate': 0.16, 'loss': 'ls', 'subsample': 0.5}\n",
    "\n",
    "reg = ensemble.GradientBoostingRegressor(**params)\n",
    "\n",
    "reg.fit(X_train, y_train.price.values)\n",
    "\n",
    "train_score = reg.score(X_train, y_train.price.values)\n",
    "test_score = reg.score(X_test, y_test.price.values)\n",
    "subsamples.append(n)\n",
    "train_scores.append(train_score)        \n",
    "test_scores.append(test_score)    \n",
    "\n",
    "print('Train score : {}\\tTest score : {}'\n",
    "      .format(round(train_score,5), round(test_score,5)))"
   ]
  },
  {
   "cell_type": "code",
   "execution_count": 216,
   "metadata": {},
   "outputs": [
    {
     "data": {
      "application/vnd.plotly.v1+json": {
       "config": {
        "linkText": "Export to plot.ly",
        "plotlyServerURL": "https://plot.ly",
        "showLink": true
       },
       "data": [
        {
         "orientation": "h",
         "type": "bar",
         "uid": "6369ea19-23df-44a9-91fb-6aef27235bdd",
         "x": [
          0.7216314883773709,
          0.9396060505778471,
          1.1305413259448889,
          1.494031326789965,
          1.7368054388486633,
          2.2377209582154003,
          2.284480531581589,
          3.296849526950029,
          4.8550107127360915,
          6.563589559248046,
          6.95755334247929,
          7.931741284516093,
          8.349924053479178,
          9.684297891938712,
          12.670260140241506,
          15.42395372943054,
          19.05852099360632,
          28.399035847079386,
          58.48129048608596,
          92.94470624946733,
          100
         ],
         "y": [
          "year",
          "floors",
          "bedrooms",
          "yr_renovated",
          "condition",
          "month",
          "day",
          "sqft_basement",
          "sqft_lot15",
          "sqft_lot",
          "bathrooms",
          "sqft_above",
          "view",
          "zipcode",
          "yr_built",
          "sqft_living15",
          "waterfront",
          "long",
          "lat",
          "sqft_living",
          "grade"
         ]
        }
       ],
       "layout": {}
      },
      "text/html": [
       "<div id=\"4e0eee9c-5e21-4fa2-a80f-05745ba6d351\" style=\"height: 525px; width: 100%;\" class=\"plotly-graph-div\"></div><script type=\"text/javascript\">require([\"plotly\"], function(Plotly) { window.PLOTLYENV=window.PLOTLYENV || {};window.PLOTLYENV.BASE_URL=\"https://plot.ly\";Plotly.newPlot(\"4e0eee9c-5e21-4fa2-a80f-05745ba6d351\", [{\"orientation\": \"h\", \"x\": [0.7216314883773709, 0.9396060505778471, 1.1305413259448889, 1.494031326789965, 1.7368054388486633, 2.2377209582154003, 2.284480531581589, 3.296849526950029, 4.8550107127360915, 6.563589559248046, 6.95755334247929, 7.931741284516093, 8.349924053479178, 9.684297891938712, 12.670260140241506, 15.42395372943054, 19.05852099360632, 28.399035847079386, 58.48129048608596, 92.94470624946733, 100.0], \"y\": [\"year\", \"floors\", \"bedrooms\", \"yr_renovated\", \"condition\", \"month\", \"day\", \"sqft_basement\", \"sqft_lot15\", \"sqft_lot\", \"bathrooms\", \"sqft_above\", \"view\", \"zipcode\", \"yr_built\", \"sqft_living15\", \"waterfront\", \"long\", \"lat\", \"sqft_living\", \"grade\"], \"type\": \"bar\", \"uid\": \"46f70a1c-fc48-46b1-9192-2787609f504a\"}], {}, {\"showLink\": true, \"linkText\": \"Export to plot.ly\", \"plotlyServerURL\": \"https://plot.ly\"})});</script><script type=\"text/javascript\">window.addEventListener(\"resize\", function(){window._Plotly.Plots.resize(document.getElementById(\"4e0eee9c-5e21-4fa2-a80f-05745ba6d351\"));});</script>"
      ],
      "text/vnd.plotly.v1+html": [
       "<div id=\"4e0eee9c-5e21-4fa2-a80f-05745ba6d351\" style=\"height: 525px; width: 100%;\" class=\"plotly-graph-div\"></div><script type=\"text/javascript\">require([\"plotly\"], function(Plotly) { window.PLOTLYENV=window.PLOTLYENV || {};window.PLOTLYENV.BASE_URL=\"https://plot.ly\";Plotly.newPlot(\"4e0eee9c-5e21-4fa2-a80f-05745ba6d351\", [{\"orientation\": \"h\", \"x\": [0.7216314883773709, 0.9396060505778471, 1.1305413259448889, 1.494031326789965, 1.7368054388486633, 2.2377209582154003, 2.284480531581589, 3.296849526950029, 4.8550107127360915, 6.563589559248046, 6.95755334247929, 7.931741284516093, 8.349924053479178, 9.684297891938712, 12.670260140241506, 15.42395372943054, 19.05852099360632, 28.399035847079386, 58.48129048608596, 92.94470624946733, 100.0], \"y\": [\"year\", \"floors\", \"bedrooms\", \"yr_renovated\", \"condition\", \"month\", \"day\", \"sqft_basement\", \"sqft_lot15\", \"sqft_lot\", \"bathrooms\", \"sqft_above\", \"view\", \"zipcode\", \"yr_built\", \"sqft_living15\", \"waterfront\", \"long\", \"lat\", \"sqft_living\", \"grade\"], \"type\": \"bar\", \"uid\": \"46f70a1c-fc48-46b1-9192-2787609f504a\"}], {}, {\"showLink\": true, \"linkText\": \"Export to plot.ly\", \"plotlyServerURL\": \"https://plot.ly\"})});</script><script type=\"text/javascript\">window.addEventListener(\"resize\", function(){window._Plotly.Plots.resize(document.getElementById(\"4e0eee9c-5e21-4fa2-a80f-05745ba6d351\"));});</script>"
      ]
     },
     "metadata": {},
     "output_type": "display_data"
    }
   ],
   "source": [
    "feature_importance = reg.feature_importances_\n",
    "feature_importance = 100.0 * (feature_importance / feature_importance.max())\n",
    "sorted_idx = np.argsort(feature_importance)\n",
    "pos = np.arange(sorted_idx.shape[0]) + .5\n",
    "\n",
    "data = [go.Bar(\n",
    "            x=feature_importance[sorted_idx],\n",
    "            y=X.columns[sorted_idx],\n",
    "            orientation = 'h'\n",
    ")]\n",
    "\n",
    "py.iplot(data, filename='horizontal-bar')"
   ]
  },
  {
   "cell_type": "code",
   "execution_count": 294,
   "metadata": {},
   "outputs": [
    {
     "data": {
      "text/html": [
       "<div>\n",
       "<style scoped>\n",
       "    .dataframe tbody tr th:only-of-type {\n",
       "        vertical-align: middle;\n",
       "    }\n",
       "\n",
       "    .dataframe tbody tr th {\n",
       "        vertical-align: top;\n",
       "    }\n",
       "\n",
       "    .dataframe thead th {\n",
       "        text-align: right;\n",
       "    }\n",
       "</style>\n",
       "<table border=\"1\" class=\"dataframe\">\n",
       "  <thead>\n",
       "    <tr style=\"text-align: right;\">\n",
       "      <th></th>\n",
       "      <th>year</th>\n",
       "      <th>month</th>\n",
       "      <th>day</th>\n",
       "      <th>bedrooms</th>\n",
       "      <th>bathrooms</th>\n",
       "      <th>sqft_living</th>\n",
       "      <th>sqft_lot</th>\n",
       "      <th>floors</th>\n",
       "      <th>waterfront</th>\n",
       "      <th>view</th>\n",
       "      <th>...</th>\n",
       "      <th>grade</th>\n",
       "      <th>sqft_above</th>\n",
       "      <th>sqft_basement</th>\n",
       "      <th>yr_built</th>\n",
       "      <th>yr_renovated</th>\n",
       "      <th>zipcode</th>\n",
       "      <th>lat</th>\n",
       "      <th>long</th>\n",
       "      <th>sqft_living15</th>\n",
       "      <th>sqft_lot15</th>\n",
       "    </tr>\n",
       "  </thead>\n",
       "  <tbody>\n",
       "    <tr>\n",
       "      <th>'7129300520'</th>\n",
       "      <td>2014</td>\n",
       "      <td>10</td>\n",
       "      <td>13</td>\n",
       "      <td>3</td>\n",
       "      <td>1.00</td>\n",
       "      <td>1180</td>\n",
       "      <td>5650</td>\n",
       "      <td>1.0</td>\n",
       "      <td>0</td>\n",
       "      <td>0</td>\n",
       "      <td>...</td>\n",
       "      <td>7</td>\n",
       "      <td>1180</td>\n",
       "      <td>0</td>\n",
       "      <td>1955</td>\n",
       "      <td>0</td>\n",
       "      <td>98178.0</td>\n",
       "      <td>47.5112</td>\n",
       "      <td>-122.257</td>\n",
       "      <td>1340</td>\n",
       "      <td>5650</td>\n",
       "    </tr>\n",
       "    <tr>\n",
       "      <th>'6414100192'</th>\n",
       "      <td>2014</td>\n",
       "      <td>12</td>\n",
       "      <td>9</td>\n",
       "      <td>3</td>\n",
       "      <td>2.25</td>\n",
       "      <td>2570</td>\n",
       "      <td>7242</td>\n",
       "      <td>2.0</td>\n",
       "      <td>0</td>\n",
       "      <td>0</td>\n",
       "      <td>...</td>\n",
       "      <td>7</td>\n",
       "      <td>2170</td>\n",
       "      <td>400</td>\n",
       "      <td>1951</td>\n",
       "      <td>1991</td>\n",
       "      <td>98125.0</td>\n",
       "      <td>47.7210</td>\n",
       "      <td>-122.319</td>\n",
       "      <td>1690</td>\n",
       "      <td>7639</td>\n",
       "    </tr>\n",
       "  </tbody>\n",
       "</table>\n",
       "<p>2 rows × 21 columns</p>\n",
       "</div>"
      ],
      "text/plain": [
       "              year  month  day  bedrooms  bathrooms  sqft_living  sqft_lot  \\\n",
       "'7129300520'  2014     10   13         3       1.00         1180      5650   \n",
       "'6414100192'  2014     12    9         3       2.25         2570      7242   \n",
       "\n",
       "              floors  waterfront  view     ...      grade  sqft_above  \\\n",
       "'7129300520'     1.0           0     0     ...          7        1180   \n",
       "'6414100192'     2.0           0     0     ...          7        2170   \n",
       "\n",
       "              sqft_basement  yr_built  yr_renovated  zipcode      lat  \\\n",
       "'7129300520'              0      1955             0  98178.0  47.5112   \n",
       "'6414100192'            400      1951          1991  98125.0  47.7210   \n",
       "\n",
       "                 long  sqft_living15  sqft_lot15  \n",
       "'7129300520' -122.257           1340        5650  \n",
       "'6414100192' -122.319           1690        7639  \n",
       "\n",
       "[2 rows x 21 columns]"
      ]
     },
     "execution_count": 294,
     "metadata": {},
     "output_type": "execute_result"
    }
   ],
   "source": [
    "X.head(2)"
   ]
  },
  {
   "cell_type": "code",
   "execution_count": 305,
   "metadata": {},
   "outputs": [
    {
     "data": {
      "text/plain": [
       "Index(['lat', 'long', 'sqft_living15', 'sqft_lot15'], dtype='object')"
      ]
     },
     "execution_count": 305,
     "metadata": {},
     "output_type": "execute_result"
    }
   ],
   "source": [
    "X.columns[17:]"
   ]
  },
  {
   "cell_type": "code",
   "execution_count": 306,
   "metadata": {},
   "outputs": [
    {
     "name": "stdout",
     "output_type": "stream",
     "text": [
      "Training GBRT...\n"
     ]
    },
    {
     "name": "stderr",
     "output_type": "stream",
     "text": [
      "/home/djamel/.local/lib/python3.6/site-packages/sklearn/utils/validation.py:752: DataConversionWarning:\n",
      "\n",
      "A column-vector y was passed when a 1d array was expected. Please change the shape of y to (n_samples, ), for example using ravel().\n",
      "\n"
     ]
    },
    {
     "name": "stdout",
     "output_type": "stream",
     "text": [
      " done.\n",
      "Convenience plot with ``partial_dependence_plots``\n",
      "Custom 3d plot via ``partial_dependence``\n"
     ]
    },
    {
     "data": {
      "image/png": "[encoded data removed]",
      "text/plain": [
       "<Figure size 432x288 with 5 Axes>"
      ]
     },
     "metadata": {
      "needs_background": "light"
     },
     "output_type": "display_data"
    },
    {
     "data": {
      "image/png": "[encoded data removed]",
      "text/plain": [
       "<Figure size 432x288 with 2 Axes>"
      ]
     },
     "metadata": {
      "needs_background": "light"
     },
     "output_type": "display_data"
    }
   ],
   "source": [
    "import numpy as np\n",
    "import matplotlib.pyplot as plt\n",
    "\n",
    "from mpl_toolkits.mplot3d import Axes3D\n",
    "\n",
    "from sklearn.model_selection import train_test_split\n",
    "from sklearn.ensemble import GradientBoostingRegressor\n",
    "from sklearn.ensemble.partial_dependence import plot_partial_dependence\n",
    "from sklearn.ensemble.partial_dependence import partial_dependence\n",
    "\n",
    "def main():\n",
    "    X_train, X_test, y_train, y_test = train_test_split(X, y, test_size=0.2, random_state=1)\n",
    "    names = X.columns\n",
    "\n",
    "    print(\"Training GBRT...\")\n",
    "    clf = GradientBoostingRegressor(n_estimators=100, max_depth=4,\n",
    "                                    learning_rate=0.1, loss='huber',\n",
    "                                    random_state=1)\n",
    "    clf.fit(X_train, y_train)\n",
    "    print(\" done.\")\n",
    "\n",
    "    print('Convenience plot with ``partial_dependence_plots``')\n",
    "\n",
    "    features = [11, 5, 17, 18, (17, 18)]\n",
    "    fig, axs = plot_partial_dependence(clf, X_train, features,\n",
    "                                       feature_names=names,\n",
    "                                       n_jobs=3, grid_resolution=50)\n",
    "    fig.suptitle('Partial dependence of house value on nonlocation features\\n'\n",
    "                 'for the California housing dataset')\n",
    "    plt.subplots_adjust(top=0.9)  # tight_layout causes overlap with suptitle\n",
    "\n",
    "    print('Custom 3d plot via ``partial_dependence``')\n",
    "    fig = plt.figure()\n",
    "\n",
    "    target_feature = (1, 5)\n",
    "    pdp, axes = partial_dependence(clf, target_feature,\n",
    "                                   X=X_train, grid_resolution=50)\n",
    "    XX, YY = np.meshgrid(axes[0], axes[1])\n",
    "    Z = pdp[0].reshape(list(map(np.size, axes))).T\n",
    "    ax = Axes3D(fig)\n",
    "    surf = ax.plot_surface(XX, YY, Z, rstride=1, cstride=1,\n",
    "                           cmap=plt.cm.BuPu, edgecolor='k')\n",
    "    ax.set_xlabel(names[target_feature[0]])\n",
    "    ax.set_ylabel(names[target_feature[1]])\n",
    "    ax.set_zlabel('Partial dependence')\n",
    "    #  pretty init view\n",
    "    ax.view_init(elev=22, azim=122)\n",
    "    plt.colorbar(surf)\n",
    "    plt.suptitle('Partial dependence of house value on median\\n'\n",
    "                 'age and average occupancy')\n",
    "    plt.subplots_adjust(top=0.9)\n",
    "\n",
    "    plt.show()\n",
    "\n",
    "if __name__ == '__main__':\n",
    "    main()"
   ]
  }
 ],
 "metadata": {
  "kernelspec": {
   "display_name": "Python 3",
   "language": "python",
   "name": "python3"
  },
  "language_info": {
   "codemirror_mode": {
    "name": "ipython",
    "version": 3
   },
   "file_extension": ".py",
   "mimetype": "text/x-python",
   "name": "python",
   "nbconvert_exporter": "python",
   "pygments_lexer": "ipython3",
   "version": "3.6.6"
  }
 },
 "nbformat": 4,
 "nbformat_minor": 2
}
