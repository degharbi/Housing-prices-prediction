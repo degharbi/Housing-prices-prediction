{
 "cells": [
  {
   "cell_type": "code",
   "execution_count": 1,
   "metadata": {
    "collapsed": true
   },
   "outputs": [],
   "source": [
    "import numpy as np\n",
    "import pandas as pd\n",
    "import matplotlib.pyplot as plt\n",
    "from pandas import Series, DataFrame\n",
    "import glob\n",
    "import re\n",
    "import datetime\n",
    "import seaborn as sns"
   ]
  },
  {
   "cell_type": "markdown",
   "metadata": {},
   "source": [
    "# Chargement des données"
   ]
  },
  {
   "cell_type": "code",
   "execution_count": 2,
   "metadata": {
    "collapsed": true
   },
   "outputs": [],
   "source": [
    "path = 'C:/Users/Anastasiia/Documents/BigData-IA/kc_house_data.csv'\n",
    "data = pd.read_csv(path, delimiter=',', header=0, index_col=None)\n",
    "data[\"date\"] = pd.to_datetime(data[\"date\"],format='%Y-%m-%d') #Transformation de la colonne \"date\"\n",
    "price = data[\"price\"]\n",
    "surface = data[\"sqft_living\"]\n",
    "grade = data[\"grade\"]\n",
    "ppm = price/surface"
   ]
  },
  {
   "cell_type": "markdown",
   "metadata": {},
   "source": [
    "# Random forest"
   ]
  },
  {
   "cell_type": "code",
   "execution_count": 10,
   "metadata": {
    "collapsed": true
   },
   "outputs": [],
   "source": [
    "#Librairies\n",
    "from sklearn.ensemble import RandomForestRegressor\n",
    "from sklearn.metrics import mean_squared_error, r2_score\n",
    "from sklearn.model_selection import train_test_split"
   ]
  },
  {
   "cell_type": "code",
   "execution_count": 43,
   "metadata": {},
   "outputs": [],
   "source": [
    "#Separation du dataset en X(variables) et Y(cibles)\n",
    "X = data.drop(['price','date','id'], axis=1)\n",
    "Y = data['price']\n",
    "\n",
    "X_train, X_test, Y_train, Y_test = train_test_split(X, Y, test_size = 0.2, random_state=5) #Split Test/Train 20/80%\n"
   ]
  },
  {
   "cell_type": "code",
   "execution_count": 44,
   "metadata": {},
   "outputs": [
    {
     "name": "stdout",
     "output_type": "stream",
     "text": [
      "RMSE is 126301.08510661259\n",
      "R2 score is 0.8830771749503906\n",
      "\n",
      "\n"
     ]
    }
   ],
   "source": [
    "#Test de l'algorithme\n",
    "regressor = RandomForestRegressor(n_estimators= 50, random_state=0)  \n",
    "regressor.fit(X_train, Y_train)  \n",
    "Y_pred = regressor.predict(X_test) \n",
    "\n",
    "rmse = (np.sqrt(mean_squared_error(Y_test, Y_pred)))\n",
    "r2 = r2_score(Y_test, Y_pred)\n",
    "\n",
    "print('RMSE is {}'.format(rmse))\n",
    "print('R2 score is {}'.format(r2))\n",
    "print(\"\\n\")"
   ]
  },
  {
   "cell_type": "markdown",
   "metadata": {},
   "source": [
    "# Recherche des parametres optimales pour maximiser R2"
   ]
  },
  {
   "cell_type": "code",
   "execution_count": 39,
   "metadata": {},
   "outputs": [],
   "source": [
    "#On essaye de varier le nombre d'arbres\n",
    "trees = [20, 40, 50, 70, 90]\n",
    "score_trees = []\n",
    "for elt in trees:\n",
    "    regressor = RandomForestRegressor(n_estimators=elt, random_state=0)  \n",
    "    regressor.fit(X_train, Y_train)  \n",
    "    Y_pred = regressor.predict(X_test) \n",
    "    r2 = r2_score(Y_test, Y_pred)\n",
    "    score_trees.append(r2)"
   ]
  },
  {
   "cell_type": "code",
   "execution_count": 40,
   "metadata": {
    "scrolled": true
   },
   "outputs": [
    {
     "data": {
      "text/plain": [
       "[0.87912405617487321,\n",
       " 0.8842931566859793,\n",
       " 0.88514432553533096,\n",
       " 0.88344031809868206,\n",
       " 0.88307869774168124]"
      ]
     },
     "execution_count": 40,
     "metadata": {},
     "output_type": "execute_result"
    }
   ],
   "source": [
    "score_trees #max à 50"
   ]
  },
  {
   "cell_type": "code",
   "execution_count": 41,
   "metadata": {
    "collapsed": true
   },
   "outputs": [],
   "source": [
    "# #On essaye de varier le paramètre random\n",
    "random = [0, 5, 10, 15, 20]\n",
    "score_random = []\n",
    "for elt in random:\n",
    "    regressor = RandomForestRegressor(n_estimators=50, random_state=elt)  \n",
    "    regressor.fit(X_train, Y_train)  \n",
    "    Y_pred = regressor.predict(X_test) \n",
    "    r2 = r2_score(Y_test, Y_pred)\n",
    "    score_random.append(r2)"
   ]
  },
  {
   "cell_type": "code",
   "execution_count": 42,
   "metadata": {},
   "outputs": [
    {
     "data": {
      "text/plain": [
       "[0.88514432553533096,\n",
       " 0.88167567311518558,\n",
       " 0.88426301150341313,\n",
       " 0.88050527263394651,\n",
       " 0.87957167374056522]"
      ]
     },
     "execution_count": 42,
     "metadata": {},
     "output_type": "execute_result"
    }
   ],
   "source": [
    "score_random # max à 0"
   ]
  },
  {
   "cell_type": "code",
   "execution_count": 47,
   "metadata": {},
   "outputs": [],
   "source": [
    "#On essaye de varier la profondeur de chaque arbre\n",
    "depth = [1, 5, 10, 15, 20]\n",
    "score_depth = []\n",
    "for elt in depth:\n",
    "    regressor = RandomForestRegressor(n_estimators=50, max_depth=elt, random_state=0)  \n",
    "    regressor.fit(X_train, Y_train)  \n",
    "    Y_pred = regressor.predict(X_test) \n",
    "    r2 = r2_score(Y_test, Y_pred)\n",
    "    score_depth.append(r2)"
   ]
  },
  {
   "cell_type": "code",
   "execution_count": 48,
   "metadata": {},
   "outputs": [
    {
     "data": {
      "text/plain": [
       "[0.33380947932828131,\n",
       " 0.78156675708501,\n",
       " 0.86757655852940907,\n",
       " 0.88058623387789214,\n",
       " 0.88181689972713506]"
      ]
     },
     "execution_count": 48,
     "metadata": {},
     "output_type": "execute_result"
    }
   ],
   "source": [
    "score_depth #max à max_depth = None"
   ]
  },
  {
   "cell_type": "code",
   "execution_count": 49,
   "metadata": {
    "collapsed": true
   },
   "outputs": [],
   "source": [
    "#Pour l'instant le R2max est de 0.883 "
   ]
  },
  {
   "cell_type": "code",
   "execution_count": null,
   "metadata": {
    "collapsed": true
   },
   "outputs": [],
   "source": []
  }
 ],
 "metadata": {
  "kernelspec": {
   "display_name": "Python 3",
   "language": "python",
   "name": "python3"
  },
  "language_info": {
   "codemirror_mode": {
    "name": "ipython",
    "version": 3
   },
   "file_extension": ".py",
   "mimetype": "text/x-python",
   "name": "python",
   "nbconvert_exporter": "python",
   "pygments_lexer": "ipython3",
   "version": "3.6.6"
  }
 },
 "nbformat": 4,
 "nbformat_minor": 2
}
